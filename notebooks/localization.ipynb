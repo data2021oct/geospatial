{
 "cells": [
  {
   "cell_type": "code",
   "execution_count": 49,
   "id": "8381b277",
   "metadata": {},
   "outputs": [
    {
     "data": {
      "text/plain": [
       "True"
      ]
     },
     "execution_count": 49,
     "metadata": {},
     "output_type": "execute_result"
    }
   ],
   "source": [
    "import requests\n",
    "import json\n",
    "import os\n",
    "import pandas as pd\n",
    "from functools import reduce\n",
    "import operator\n",
    "import pyjsonviewer\n",
    "import geopandas as gpd\n",
    "import time\n",
    "import requests\n",
    "from bs4 import BeautifulSoup\n",
    "\n",
    "from dotenv import load_dotenv\n",
    "load_dotenv()"
   ]
  },
  {
   "cell_type": "markdown",
   "id": "01ea65d1",
   "metadata": {},
   "source": [
    "## Funciones útiles"
   ]
  },
  {
   "cell_type": "code",
   "execution_count": 2,
   "id": "bd2ea1fb",
   "metadata": {},
   "outputs": [],
   "source": [
    "def getFromDict(diccionario,mapa):\n",
    "    return reduce(operator.getitem,mapa,diccionario)"
   ]
  },
  {
   "cell_type": "code",
   "execution_count": 3,
   "id": "2ba140be",
   "metadata": {},
   "outputs": [],
   "source": [
    "def type_point(lista):\n",
    "    return {\"type\":\"Point\", \"coordinates\": lista}"
   ]
  },
  {
   "cell_type": "code",
   "execution_count": 4,
   "id": "c506fa16",
   "metadata": {},
   "outputs": [],
   "source": [
    "def geocode(direccion):\n",
    "    \"\"\"\n",
    "    Esta función saca las coordenadas de la dirección que le pases\n",
    "    \"\"\"\n",
    "    data = requests.get(f\"https://geocode.xyz/{direccion}?json=1\").json()\n",
    "    try:\n",
    "        return {\"type\": \"Point\", \"coordinates\": [data[\"latt\"], data[\"longt\"]]}\n",
    "    except:\n",
    "        return data"
   ]
  },
  {
   "cell_type": "markdown",
   "id": "c956e8f5",
   "metadata": {},
   "source": [
    "## Lista de categorías e id de Foursquare\n",
    "- scrapping"
   ]
  },
  {
   "cell_type": "code",
   "execution_count": 47,
   "id": "d833ffd7",
   "metadata": {},
   "outputs": [],
   "source": [
    "def get_categories():\n",
    "    url = \"https://developer.foursquare.com/docs/build-with-foursquare/categories/\"\n",
    "    html = requests.get(url)\n",
    "    soup = BeautifulSoup(html.content,\"html.parser\")\n",
    "    venue_cat = soup.find_all(\"ul\", {\"class\": \"VenueCategories__Wrapper-sc-15dn453-0 dmcDKQ\"})\n",
    "    cat = {}\n",
    "    li = venue_cat[0].find_all(\"li\")\n",
    "    for l in li:\n",
    "        cat[l.find(\"h3\").getText()] = l.find(\"p\").getText()\n",
    "        \n",
    "    return pd.DataFrame.from_dict(cat,orient=\"Index\").reset_index().rename(columns={\"index\": \"category\", 0: \"categoryId\"})\n",
    "\n",
    "categories = get_categories()"
   ]
  },
  {
   "cell_type": "code",
   "execution_count": 50,
   "id": "5a088771",
   "metadata": {},
   "outputs": [
    {
     "data": {
      "text/html": [
       "<div>\n",
       "<style scoped>\n",
       "    .dataframe tbody tr th:only-of-type {\n",
       "        vertical-align: middle;\n",
       "    }\n",
       "\n",
       "    .dataframe tbody tr th {\n",
       "        vertical-align: top;\n",
       "    }\n",
       "\n",
       "    .dataframe thead th {\n",
       "        text-align: right;\n",
       "    }\n",
       "</style>\n",
       "<table border=\"1\" class=\"dataframe\">\n",
       "  <thead>\n",
       "    <tr style=\"text-align: right;\">\n",
       "      <th></th>\n",
       "      <th>category</th>\n",
       "      <th>categoryId</th>\n",
       "    </tr>\n",
       "  </thead>\n",
       "  <tbody>\n",
       "    <tr>\n",
       "      <th>6</th>\n",
       "      <td>Casino</td>\n",
       "      <td>4bf58dd8d48988d17c941735</td>\n",
       "    </tr>\n",
       "    <tr>\n",
       "      <th>630</th>\n",
       "      <td>Library</td>\n",
       "      <td>4bf58dd8d48988d12f941735</td>\n",
       "    </tr>\n",
       "    <tr>\n",
       "      <th>495</th>\n",
       "      <td>Basketball Court</td>\n",
       "      <td>4bf58dd8d48988d1e1941735</td>\n",
       "    </tr>\n",
       "  </tbody>\n",
       "</table>\n",
       "</div>"
      ],
      "text/plain": [
       "             category                categoryId\n",
       "6              Casino  4bf58dd8d48988d17c941735\n",
       "630           Library  4bf58dd8d48988d12f941735\n",
       "495  Basketball Court  4bf58dd8d48988d1e1941735"
      ]
     },
     "execution_count": 50,
     "metadata": {},
     "output_type": "execute_result"
    }
   ],
   "source": [
    "categories.sample(3)"
   ]
  },
  {
   "cell_type": "code",
   "execution_count": 6,
   "id": "5f2ccd7a",
   "metadata": {},
   "outputs": [],
   "source": [
    "def categories_dic(cat_list):    \n",
    "    dicc = {}\n",
    "    for c in cat_list:\n",
    "        dicc[c] = categories.categoryId[categories[\"category\"] == c].values[0]\n",
    "    return dicc"
   ]
  },
  {
   "cell_type": "code",
   "execution_count": 7,
   "id": "003f0208",
   "metadata": {},
   "outputs": [],
   "source": [
    "venues_list = [\"Design Studio\",\"Nursery School\",\"Preschool\",\"Elementary School\",\"Tech Startup\",\"Coffee Shop\",\n",
    "               \"Airport Terminal\",\"Train Station\",\n",
    "              \"Nightlife Spot\",\"Vegetarian / Vegan Restaurant\",\"Basketball Stadium\",\n",
    "               \"Veterinarian\",\"Pet Service\",\"Pet Store\"]  "
   ]
  },
  {
   "cell_type": "code",
   "execution_count": 8,
   "id": "fe10e23a",
   "metadata": {},
   "outputs": [
    {
     "data": {
      "text/plain": [
       "{'Design Studio': '4bf58dd8d48988d1f4941735',\n",
       " 'Nursery School': '4f4533814b9074f6e4fb0107',\n",
       " 'Preschool': '52e81612bcbc57f1066b7a45',\n",
       " 'Elementary School': '4f4533804b9074f6e4fb0105',\n",
       " 'Tech Startup': '4bf58dd8d48988d125941735',\n",
       " 'Coffee Shop': '4bf58dd8d48988d1e0931735',\n",
       " 'Airport Terminal': '4bf58dd8d48988d1eb931735',\n",
       " 'Train Station': '4bf58dd8d48988d129951735',\n",
       " 'Nightlife Spot': '4d4b7105d754a06376d81259',\n",
       " 'Vegetarian / Vegan Restaurant': '4bf58dd8d48988d1d3941735',\n",
       " 'Basketball Stadium': '4bf58dd8d48988d18b941735',\n",
       " 'Veterinarian': '4d954af4a243a5684765b473',\n",
       " 'Pet Service': '5032897c91d4c4b30a586d69',\n",
       " 'Pet Store': '4bf58dd8d48988d100951735'}"
      ]
     },
     "execution_count": 8,
     "metadata": {},
     "output_type": "execute_result"
    }
   ],
   "source": [
    "cat_dic = categories_dic(venues_list)\n",
    "cat_dic"
   ]
  },
  {
   "cell_type": "code",
   "execution_count": 9,
   "id": "0bc0c570",
   "metadata": {},
   "outputs": [],
   "source": [
    "def localizations_coor(dicc):\n",
    "    local = {}\n",
    "    for city,loc in localizations_dicc.items():\n",
    "        local[city] = geocode(loc)[\"coordinates\"]\n",
    "        time.sleep(15)\n",
    "    return local\n",
    "    "
   ]
  },
  {
   "cell_type": "code",
   "execution_count": 10,
   "id": "fab5fb45",
   "metadata": {},
   "outputs": [
    {
     "data": {
      "text/plain": [
       "{'Austin': ['30.35471', '-97.69344'],\n",
       " 'Hamburg': ['53.56250', '9.95730'],\n",
       " 'Newcastle': ['54.96890', '-1.61764']}"
      ]
     },
     "execution_count": 10,
     "metadata": {},
     "output_type": "execute_result"
    }
   ],
   "source": [
    "localizations_dicc={\"Austin\":\"Texas Capitol, Austin, Texas\",\"Hamburg\":\"Hamburg city center,Hamburg,Germany\",\"Newcastle\":\"Newcastle upon Tyne, United Kingdom\"}\n",
    "localizations = localizations_coor(localizations_dicc)\n",
    "localizations"
   ]
  },
  {
   "cell_type": "code",
   "execution_count": 11,
   "id": "04c7905c",
   "metadata": {},
   "outputs": [],
   "source": [
    "#  localizations = {'Austin': ['30.35471', '-97.69344'],\n",
    "#  'Hamburg': ['53.56250', '9.95730'],\n",
    "#  'Newcastle': ['54.96890', '-1.61764']}"
   ]
  },
  {
   "cell_type": "code",
   "execution_count": 16,
   "id": "8e902a5f",
   "metadata": {},
   "outputs": [],
   "source": [
    "def place_store_dicc(localizations,cat_dic):\n",
    "    url_query = 'https://api.foursquare.com/v2/venues/search'\n",
    "    client_id = os.getenv(\"four\")\n",
    "    client_secret = os.getenv(\"foursec\")\n",
    "    \n",
    "    venues_dic = {}\n",
    "    aus_dic ={}\n",
    "    ham_dic = {}\n",
    "    ncas_dic ={}\n",
    "    for loc,coor in localizations.items():\n",
    "        for cat,cat_id in cat_dic.items():\n",
    "            time.sleep(1)\n",
    "            parametros={\n",
    "                \"client_id\": client_id,\n",
    "                \"client_secret\": client_secret,\n",
    "                \"v\": \"20180323\",\n",
    "                \"ll\": f\"{coor[0]}, {coor[1]}\",\n",
    "                \"categoryId\":cat_id,\n",
    "                \"radius\":2000\n",
    "            }\n",
    "            if loc == \"Austin\":\n",
    "                aus_dic[cat] = requests.get(url_query, params = parametros).json()[\"response\"][\"venues\"] \n",
    "                if cat == \"Pet Store\":\n",
    "                    print(f\"{loc} done\")\n",
    "            elif loc == \"Hamburg\":                \n",
    "                ham_dic[cat] = requests.get(url_query, params = parametros).json()[\"response\"][\"venues\"]\n",
    "                if cat == \"Pet Store\":\n",
    "                    print(f\"{loc} done\")\n",
    "            elif loc == \"Newcastle\":                \n",
    "                ncas_dic[cat] = requests.get(url_query, params = parametros).json()[\"response\"][\"venues\"] \n",
    "                if cat == \"Pet Store\":\n",
    "                    print(f\"{loc} done\")\n",
    "            \n",
    "    venues_dic = {\"Austin\":aus_dic,\n",
    "                 \"Hamburg\":ham_dic,\n",
    "                  \"Newcastle\": ncas_dic\n",
    "                 }\n",
    "\n",
    "    return venues_dic\n",
    "\n",
    "    \n",
    "    \n"
   ]
  },
  {
   "cell_type": "code",
   "execution_count": 17,
   "id": "d922fd74",
   "metadata": {},
   "outputs": [
    {
     "name": "stdout",
     "output_type": "stream",
     "text": [
      "Austin done\n",
      "Hamburg done\n",
      "Newcastle done\n"
     ]
    }
   ],
   "source": [
    "total_venues = place_store_dicc(localizations,cat_dic)"
   ]
  },
  {
   "cell_type": "code",
   "execution_count": 34,
   "id": "d1d510eb",
   "metadata": {},
   "outputs": [],
   "source": [
    "def extraetodo(json):\n",
    "    total = []\n",
    "    for city,categories in json.items():\n",
    "        for cat,value in categories.items():\n",
    "            try:\n",
    "                todo = {\"nombre\": [\"name\"],\"sub_category\":[\"categories\",0,\"name\"],\n",
    "                        \"latitud\": [\"location\", \"lat\"], \"longitud\": [\"location\", \"lng\"],\n",
    "                        \"distance\":[\"location\",\"distance\"]}\n",
    "\n",
    "                for elemento in value:\n",
    "                    store = {key: getFromDict(elemento,value) for key,value in todo.items()}\n",
    "                    store[\"location\"] = type_point([store[\"latitud\"], store[\"longitud\"]])\n",
    "                    store[\"city\"] = city\n",
    "                    store[\"category\"] = cat\n",
    "                    total.append(store)\n",
    "\n",
    "                #print(f\"{elemento} done\")\n",
    "            except:\n",
    "\n",
    "                print(f\"{value.index(elemento)} wrong\")\n",
    "\n",
    "    return total"
   ]
  },
  {
   "cell_type": "code",
   "execution_count": 35,
   "id": "75aa17bf",
   "metadata": {
    "scrolled": false
   },
   "outputs": [],
   "source": [
    "venues = extraetodo(total_venues)"
   ]
  },
  {
   "cell_type": "code",
   "execution_count": 36,
   "id": "fb1e375d",
   "metadata": {},
   "outputs": [],
   "source": [
    "venues_df = pd.DataFrame(venues)"
   ]
  },
  {
   "cell_type": "code",
   "execution_count": 44,
   "id": "2f5b5b8a",
   "metadata": {},
   "outputs": [
    {
     "data": {
      "text/html": [
       "<div>\n",
       "<style scoped>\n",
       "    .dataframe tbody tr th:only-of-type {\n",
       "        vertical-align: middle;\n",
       "    }\n",
       "\n",
       "    .dataframe tbody tr th {\n",
       "        vertical-align: top;\n",
       "    }\n",
       "\n",
       "    .dataframe thead th {\n",
       "        text-align: right;\n",
       "    }\n",
       "</style>\n",
       "<table border=\"1\" class=\"dataframe\">\n",
       "  <thead>\n",
       "    <tr style=\"text-align: right;\">\n",
       "      <th></th>\n",
       "      <th>nombre</th>\n",
       "      <th>sub_category</th>\n",
       "      <th>latitud</th>\n",
       "      <th>longitud</th>\n",
       "      <th>distance</th>\n",
       "      <th>location</th>\n",
       "      <th>city</th>\n",
       "      <th>category</th>\n",
       "    </tr>\n",
       "  </thead>\n",
       "  <tbody>\n",
       "    <tr>\n",
       "      <th>314</th>\n",
       "      <td>Zerolight</td>\n",
       "      <td>Tech Startup</td>\n",
       "      <td>54.969619</td>\n",
       "      <td>-1.604692</td>\n",
       "      <td>831</td>\n",
       "      <td>{'type': 'Point', 'coordinates': [54.969619, -...</td>\n",
       "      <td>Newcastle</td>\n",
       "      <td>Tech Startup</td>\n",
       "    </tr>\n",
       "    <tr>\n",
       "      <th>187</th>\n",
       "      <td>Unikat</td>\n",
       "      <td>Hookah Bar</td>\n",
       "      <td>53.566865</td>\n",
       "      <td>9.981231</td>\n",
       "      <td>1655</td>\n",
       "      <td>{'type': 'Point', 'coordinates': [53.566864793...</td>\n",
       "      <td>Hamburg</td>\n",
       "      <td>Nightlife Spot</td>\n",
       "    </tr>\n",
       "    <tr>\n",
       "      <th>380</th>\n",
       "      <td>Head of Steam</td>\n",
       "      <td>Bar</td>\n",
       "      <td>54.969520</td>\n",
       "      <td>-1.615526</td>\n",
       "      <td>151</td>\n",
       "      <td>{'type': 'Point', 'coordinates': [54.969520290...</td>\n",
       "      <td>Newcastle</td>\n",
       "      <td>Nightlife Spot</td>\n",
       "    </tr>\n",
       "  </tbody>\n",
       "</table>\n",
       "</div>"
      ],
      "text/plain": [
       "            nombre  sub_category    latitud  longitud  distance  \\\n",
       "314      Zerolight  Tech Startup  54.969619 -1.604692       831   \n",
       "187         Unikat    Hookah Bar  53.566865  9.981231      1655   \n",
       "380  Head of Steam           Bar  54.969520 -1.615526       151   \n",
       "\n",
       "                                              location       city  \\\n",
       "314  {'type': 'Point', 'coordinates': [54.969619, -...  Newcastle   \n",
       "187  {'type': 'Point', 'coordinates': [53.566864793...    Hamburg   \n",
       "380  {'type': 'Point', 'coordinates': [54.969520290...  Newcastle   \n",
       "\n",
       "           category  \n",
       "314    Tech Startup  \n",
       "187  Nightlife Spot  \n",
       "380  Nightlife Spot  "
      ]
     },
     "execution_count": 44,
     "metadata": {},
     "output_type": "execute_result"
    }
   ],
   "source": [
    "venues_df.sample(3)"
   ]
  },
  {
   "cell_type": "code",
   "execution_count": 38,
   "id": "25b24785",
   "metadata": {},
   "outputs": [],
   "source": [
    "#borrar todos los cafés que no sean starbucks\n",
    "no_starbucks = list(venues_df.index[(venues_df[\"category\"] == \"Coffee Shop\") & (venues_df[\"nombre\"] != \"Starbucks\")])\n",
    "venues_df.drop(no_starbucks,axis=0, inplace = True)"
   ]
  },
  {
   "cell_type": "code",
   "execution_count": 39,
   "id": "454a1c8d",
   "metadata": {
    "scrolled": false
   },
   "outputs": [
    {
     "data": {
      "text/html": [
       "<div>\n",
       "<style scoped>\n",
       "    .dataframe tbody tr th:only-of-type {\n",
       "        vertical-align: middle;\n",
       "    }\n",
       "\n",
       "    .dataframe tbody tr th {\n",
       "        vertical-align: top;\n",
       "    }\n",
       "\n",
       "    .dataframe thead th {\n",
       "        text-align: right;\n",
       "    }\n",
       "</style>\n",
       "<table border=\"1\" class=\"dataframe\">\n",
       "  <thead>\n",
       "    <tr style=\"text-align: right;\">\n",
       "      <th></th>\n",
       "      <th>nombre</th>\n",
       "      <th>sub_category</th>\n",
       "      <th>latitud</th>\n",
       "      <th>longitud</th>\n",
       "      <th>distance</th>\n",
       "      <th>location</th>\n",
       "      <th>city</th>\n",
       "      <th>category</th>\n",
       "    </tr>\n",
       "  </thead>\n",
       "  <tbody>\n",
       "    <tr>\n",
       "      <th>294</th>\n",
       "      <td>Westgate Hill Primary School</td>\n",
       "      <td>Elementary School</td>\n",
       "      <td>54.974127</td>\n",
       "      <td>-1.636699</td>\n",
       "      <td>1349</td>\n",
       "      <td>{'type': 'Point', 'coordinates': [54.974127111...</td>\n",
       "      <td>Newcastle</td>\n",
       "      <td>Elementary School</td>\n",
       "    </tr>\n",
       "    <tr>\n",
       "      <th>396</th>\n",
       "      <td>Ernest</td>\n",
       "      <td>Bar</td>\n",
       "      <td>54.976620</td>\n",
       "      <td>-1.596348</td>\n",
       "      <td>1609</td>\n",
       "      <td>{'type': 'Point', 'coordinates': [54.976620429...</td>\n",
       "      <td>Newcastle</td>\n",
       "      <td>Nightlife Spot</td>\n",
       "    </tr>\n",
       "    <tr>\n",
       "      <th>144</th>\n",
       "      <td>Digital Pioneers</td>\n",
       "      <td>Tech Startup</td>\n",
       "      <td>53.543908</td>\n",
       "      <td>9.947812</td>\n",
       "      <td>2162</td>\n",
       "      <td>{'type': 'Point', 'coordinates': [53.543907503...</td>\n",
       "      <td>Hamburg</td>\n",
       "      <td>Tech Startup</td>\n",
       "    </tr>\n",
       "    <tr>\n",
       "      <th>279</th>\n",
       "      <td>Printing.com</td>\n",
       "      <td>Design Studio</td>\n",
       "      <td>54.967967</td>\n",
       "      <td>-1.621319</td>\n",
       "      <td>257</td>\n",
       "      <td>{'type': 'Point', 'coordinates': [54.967967368...</td>\n",
       "      <td>Newcastle</td>\n",
       "      <td>Design Studio</td>\n",
       "    </tr>\n",
       "    <tr>\n",
       "      <th>80</th>\n",
       "      <td>Kita Bucerius Law School</td>\n",
       "      <td>Daycare</td>\n",
       "      <td>53.559997</td>\n",
       "      <td>9.984201</td>\n",
       "      <td>1800</td>\n",
       "      <td>{'type': 'Point', 'coordinates': [53.559997308...</td>\n",
       "      <td>Hamburg</td>\n",
       "      <td>Nursery School</td>\n",
       "    </tr>\n",
       "  </tbody>\n",
       "</table>\n",
       "</div>"
      ],
      "text/plain": [
       "                           nombre       sub_category    latitud  longitud  \\\n",
       "294  Westgate Hill Primary School  Elementary School  54.974127 -1.636699   \n",
       "396                        Ernest                Bar  54.976620 -1.596348   \n",
       "144              Digital Pioneers       Tech Startup  53.543908  9.947812   \n",
       "279                  Printing.com      Design Studio  54.967967 -1.621319   \n",
       "80       Kita Bucerius Law School            Daycare  53.559997  9.984201   \n",
       "\n",
       "     distance                                           location       city  \\\n",
       "294      1349  {'type': 'Point', 'coordinates': [54.974127111...  Newcastle   \n",
       "396      1609  {'type': 'Point', 'coordinates': [54.976620429...  Newcastle   \n",
       "144      2162  {'type': 'Point', 'coordinates': [53.543907503...    Hamburg   \n",
       "279       257  {'type': 'Point', 'coordinates': [54.967967368...  Newcastle   \n",
       "80       1800  {'type': 'Point', 'coordinates': [53.559997308...    Hamburg   \n",
       "\n",
       "              category  \n",
       "294  Elementary School  \n",
       "396     Nightlife Spot  \n",
       "144       Tech Startup  \n",
       "279      Design Studio  \n",
       "80      Nursery School  "
      ]
     },
     "execution_count": 39,
     "metadata": {},
     "output_type": "execute_result"
    }
   ],
   "source": [
    "venues_df.sample(5)"
   ]
  },
  {
   "cell_type": "code",
   "execution_count": 40,
   "id": "9f077c2d",
   "metadata": {},
   "outputs": [],
   "source": [
    "venues_df.to_csv(\"../data/venues_df.csv\",index = True)"
   ]
  },
  {
   "cell_type": "code",
   "execution_count": 41,
   "id": "246a0f0f",
   "metadata": {},
   "outputs": [
    {
     "data": {
      "text/html": [
       "<div>\n",
       "<style scoped>\n",
       "    .dataframe tbody tr th:only-of-type {\n",
       "        vertical-align: middle;\n",
       "    }\n",
       "\n",
       "    .dataframe tbody tr th {\n",
       "        vertical-align: top;\n",
       "    }\n",
       "\n",
       "    .dataframe thead th {\n",
       "        text-align: right;\n",
       "    }\n",
       "</style>\n",
       "<table border=\"1\" class=\"dataframe\">\n",
       "  <thead>\n",
       "    <tr style=\"text-align: right;\">\n",
       "      <th></th>\n",
       "      <th>nombre</th>\n",
       "      <th>sub_category</th>\n",
       "      <th>latitud</th>\n",
       "      <th>longitud</th>\n",
       "      <th>distance</th>\n",
       "      <th>location</th>\n",
       "      <th>city</th>\n",
       "      <th>category</th>\n",
       "    </tr>\n",
       "  </thead>\n",
       "  <tbody>\n",
       "    <tr>\n",
       "      <th>0</th>\n",
       "      <td>Viatran</td>\n",
       "      <td>Design Studio</td>\n",
       "      <td>30.348400</td>\n",
       "      <td>-97.706521</td>\n",
       "      <td>1439</td>\n",
       "      <td>{'type': 'Point', 'coordinates': [30.3484, -97...</td>\n",
       "      <td>Austin</td>\n",
       "      <td>Design Studio</td>\n",
       "    </tr>\n",
       "    <tr>\n",
       "      <th>1</th>\n",
       "      <td>Solid Prototype</td>\n",
       "      <td>Design Studio</td>\n",
       "      <td>30.351604</td>\n",
       "      <td>-97.710106</td>\n",
       "      <td>1637</td>\n",
       "      <td>{'type': 'Point', 'coordinates': [30.351604461...</td>\n",
       "      <td>Austin</td>\n",
       "      <td>Design Studio</td>\n",
       "    </tr>\n",
       "    <tr>\n",
       "      <th>4</th>\n",
       "      <td>Mollie Barrington Elementary School</td>\n",
       "      <td>Elementary School</td>\n",
       "      <td>30.361054</td>\n",
       "      <td>-97.694413</td>\n",
       "      <td>712</td>\n",
       "      <td>{'type': 'Point', 'coordinates': [30.361053936...</td>\n",
       "      <td>Austin</td>\n",
       "      <td>Elementary School</td>\n",
       "    </tr>\n",
       "  </tbody>\n",
       "</table>\n",
       "</div>"
      ],
      "text/plain": [
       "                                nombre       sub_category    latitud  \\\n",
       "0                              Viatran      Design Studio  30.348400   \n",
       "1                      Solid Prototype      Design Studio  30.351604   \n",
       "4  Mollie Barrington Elementary School  Elementary School  30.361054   \n",
       "\n",
       "    longitud  distance                                           location  \\\n",
       "0 -97.706521      1439  {'type': 'Point', 'coordinates': [30.3484, -97...   \n",
       "1 -97.710106      1637  {'type': 'Point', 'coordinates': [30.351604461...   \n",
       "4 -97.694413       712  {'type': 'Point', 'coordinates': [30.361053936...   \n",
       "\n",
       "     city           category  \n",
       "0  Austin      Design Studio  \n",
       "1  Austin      Design Studio  \n",
       "4  Austin  Elementary School  "
      ]
     },
     "execution_count": 41,
     "metadata": {},
     "output_type": "execute_result"
    }
   ],
   "source": [
    "Austin_df = venues_df[venues_df[\"city\"] == \"Austin\"].sort_values([\"category\",\"distance\"])\n",
    "Austin_df.head(3)"
   ]
  },
  {
   "cell_type": "code",
   "execution_count": 42,
   "id": "56096725",
   "metadata": {},
   "outputs": [
    {
     "data": {
      "text/html": [
       "<div>\n",
       "<style scoped>\n",
       "    .dataframe tbody tr th:only-of-type {\n",
       "        vertical-align: middle;\n",
       "    }\n",
       "\n",
       "    .dataframe tbody tr th {\n",
       "        vertical-align: top;\n",
       "    }\n",
       "\n",
       "    .dataframe thead th {\n",
       "        text-align: right;\n",
       "    }\n",
       "</style>\n",
       "<table border=\"1\" class=\"dataframe\">\n",
       "  <thead>\n",
       "    <tr style=\"text-align: right;\">\n",
       "      <th></th>\n",
       "      <th>nombre</th>\n",
       "      <th>sub_category</th>\n",
       "      <th>latitud</th>\n",
       "      <th>longitud</th>\n",
       "      <th>distance</th>\n",
       "      <th>location</th>\n",
       "      <th>city</th>\n",
       "      <th>category</th>\n",
       "    </tr>\n",
       "  </thead>\n",
       "  <tbody>\n",
       "    <tr>\n",
       "      <th>54</th>\n",
       "      <td>ps145 | Büro für schöne Bekanntmachung</td>\n",
       "      <td>Design Studio</td>\n",
       "      <td>53.559864</td>\n",
       "      <td>9.956979</td>\n",
       "      <td>294</td>\n",
       "      <td>{'type': 'Point', 'coordinates': [53.559864, 9...</td>\n",
       "      <td>Hamburg</td>\n",
       "      <td>Design Studio</td>\n",
       "    </tr>\n",
       "    <tr>\n",
       "      <th>47</th>\n",
       "      <td>LIGALUX</td>\n",
       "      <td>Design Studio</td>\n",
       "      <td>53.567143</td>\n",
       "      <td>9.953387</td>\n",
       "      <td>578</td>\n",
       "      <td>{'type': 'Point', 'coordinates': [53.567143471...</td>\n",
       "      <td>Hamburg</td>\n",
       "      <td>Design Studio</td>\n",
       "    </tr>\n",
       "    <tr>\n",
       "      <th>59</th>\n",
       "      <td>SØNXEN Kommunikationsdesign</td>\n",
       "      <td>Design Studio</td>\n",
       "      <td>53.557445</td>\n",
       "      <td>9.961580</td>\n",
       "      <td>629</td>\n",
       "      <td>{'type': 'Point', 'coordinates': [53.557445, 9...</td>\n",
       "      <td>Hamburg</td>\n",
       "      <td>Design Studio</td>\n",
       "    </tr>\n",
       "  </tbody>\n",
       "</table>\n",
       "</div>"
      ],
      "text/plain": [
       "                                    nombre   sub_category    latitud  \\\n",
       "54  ps145 | Büro für schöne Bekanntmachung  Design Studio  53.559864   \n",
       "47                                 LIGALUX  Design Studio  53.567143   \n",
       "59             SØNXEN Kommunikationsdesign  Design Studio  53.557445   \n",
       "\n",
       "    longitud  distance                                           location  \\\n",
       "54  9.956979       294  {'type': 'Point', 'coordinates': [53.559864, 9...   \n",
       "47  9.953387       578  {'type': 'Point', 'coordinates': [53.567143471...   \n",
       "59  9.961580       629  {'type': 'Point', 'coordinates': [53.557445, 9...   \n",
       "\n",
       "       city       category  \n",
       "54  Hamburg  Design Studio  \n",
       "47  Hamburg  Design Studio  \n",
       "59  Hamburg  Design Studio  "
      ]
     },
     "execution_count": 42,
     "metadata": {},
     "output_type": "execute_result"
    }
   ],
   "source": [
    "Hamburg_df = venues_df[venues_df[\"city\"] == \"Hamburg\"].sort_values([\"category\",\"distance\"])\n",
    "Hamburg_df.head(3)"
   ]
  },
  {
   "cell_type": "code",
   "execution_count": 43,
   "id": "35b72119",
   "metadata": {},
   "outputs": [
    {
     "data": {
      "text/html": [
       "<div>\n",
       "<style scoped>\n",
       "    .dataframe tbody tr th:only-of-type {\n",
       "        vertical-align: middle;\n",
       "    }\n",
       "\n",
       "    .dataframe tbody tr th {\n",
       "        vertical-align: top;\n",
       "    }\n",
       "\n",
       "    .dataframe thead th {\n",
       "        text-align: right;\n",
       "    }\n",
       "</style>\n",
       "<table border=\"1\" class=\"dataframe\">\n",
       "  <thead>\n",
       "    <tr style=\"text-align: right;\">\n",
       "      <th></th>\n",
       "      <th>nombre</th>\n",
       "      <th>sub_category</th>\n",
       "      <th>latitud</th>\n",
       "      <th>longitud</th>\n",
       "      <th>distance</th>\n",
       "      <th>location</th>\n",
       "      <th>city</th>\n",
       "      <th>category</th>\n",
       "    </tr>\n",
       "  </thead>\n",
       "  <tbody>\n",
       "    <tr>\n",
       "      <th>416</th>\n",
       "      <td>Northumbria University Sport Central</td>\n",
       "      <td>Athletics &amp; Sports</td>\n",
       "      <td>54.978318</td>\n",
       "      <td>-1.606642</td>\n",
       "      <td>1262</td>\n",
       "      <td>{'type': 'Point', 'coordinates': [54.978317593...</td>\n",
       "      <td>Newcastle</td>\n",
       "      <td>Basketball Stadium</td>\n",
       "    </tr>\n",
       "    <tr>\n",
       "      <th>330</th>\n",
       "      <td>Starbucks</td>\n",
       "      <td>Coffee Shop</td>\n",
       "      <td>54.969435</td>\n",
       "      <td>-1.616766</td>\n",
       "      <td>81</td>\n",
       "      <td>{'type': 'Point', 'coordinates': [54.969435, -...</td>\n",
       "      <td>Newcastle</td>\n",
       "      <td>Coffee Shop</td>\n",
       "    </tr>\n",
       "    <tr>\n",
       "      <th>331</th>\n",
       "      <td>Starbucks</td>\n",
       "      <td>Coffee Shop</td>\n",
       "      <td>54.972522</td>\n",
       "      <td>-1.617541</td>\n",
       "      <td>403</td>\n",
       "      <td>{'type': 'Point', 'coordinates': [54.972522, -...</td>\n",
       "      <td>Newcastle</td>\n",
       "      <td>Coffee Shop</td>\n",
       "    </tr>\n",
       "  </tbody>\n",
       "</table>\n",
       "</div>"
      ],
      "text/plain": [
       "                                   nombre        sub_category    latitud  \\\n",
       "416  Northumbria University Sport Central  Athletics & Sports  54.978318   \n",
       "330                             Starbucks         Coffee Shop  54.969435   \n",
       "331                             Starbucks         Coffee Shop  54.972522   \n",
       "\n",
       "     longitud  distance                                           location  \\\n",
       "416 -1.606642      1262  {'type': 'Point', 'coordinates': [54.978317593...   \n",
       "330 -1.616766        81  {'type': 'Point', 'coordinates': [54.969435, -...   \n",
       "331 -1.617541       403  {'type': 'Point', 'coordinates': [54.972522, -...   \n",
       "\n",
       "          city            category  \n",
       "416  Newcastle  Basketball Stadium  \n",
       "330  Newcastle         Coffee Shop  \n",
       "331  Newcastle         Coffee Shop  "
      ]
     },
     "execution_count": 43,
     "metadata": {},
     "output_type": "execute_result"
    }
   ],
   "source": [
    "Newcastle_df = venues_df[venues_df[\"city\"] == \"Newcastle\"].sort_values([\"category\",\"distance\"])\n",
    "Newcastle_df.head(3)"
   ]
  },
  {
   "cell_type": "code",
   "execution_count": null,
   "id": "02174cd9",
   "metadata": {},
   "outputs": [],
   "source": []
  },
  {
   "cell_type": "code",
   "execution_count": null,
   "id": "56fbaef0",
   "metadata": {},
   "outputs": [],
   "source": []
  }
 ],
 "metadata": {
  "kernelspec": {
   "display_name": "ironhack",
   "language": "python",
   "name": "ironhack"
  },
  "language_info": {
   "codemirror_mode": {
    "name": "ipython",
    "version": 3
   },
   "file_extension": ".py",
   "mimetype": "text/x-python",
   "name": "python",
   "nbconvert_exporter": "python",
   "pygments_lexer": "ipython3",
   "version": "3.8.5"
  }
 },
 "nbformat": 4,
 "nbformat_minor": 5
}
