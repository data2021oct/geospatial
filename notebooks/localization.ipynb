{
 "cells": [
  {
   "cell_type": "code",
   "execution_count": 151,
   "id": "e0ed5a4b",
   "metadata": {},
   "outputs": [
    {
     "data": {
      "text/plain": [
       "True"
      ]
     },
     "execution_count": 151,
     "metadata": {},
     "output_type": "execute_result"
    }
   ],
   "source": [
    "import requests\n",
    "import json\n",
    "import os\n",
    "import pandas as pd\n",
    "from functools import reduce\n",
    "import operator\n",
    "import pyjsonviewer\n",
    "import geopandas as gpd\n",
    "import time\n",
    "import requests\n",
    "from bs4 import BeautifulSoup\n",
    "from shapely.geometry import Point\n",
    "from pymongo import MongoClient\n",
    "import pandas as pd\n",
    "import requests\n",
    "import json\n",
    "from dotenv import load_dotenv\n",
    "import os\n",
    "import pandas as pd\n",
    "import numpy as np\n",
    "from pymongo import GEOSPHERE\n",
    "import shapely.geometry\n",
    "\n",
    "from dotenv import load_dotenv\n",
    "load_dotenv()"
   ]
  },
  {
   "cell_type": "markdown",
   "id": "f83b3908",
   "metadata": {},
   "source": [
    "## Funciones útiles"
   ]
  },
  {
   "cell_type": "code",
   "execution_count": 14,
   "id": "7b15e8d0",
   "metadata": {},
   "outputs": [],
   "source": [
    "def getFromDict(diccionario,mapa):\n",
    "    return reduce(operator.getitem,mapa,diccionario)"
   ]
  },
  {
   "cell_type": "code",
   "execution_count": 15,
   "id": "fe68ccfa",
   "metadata": {},
   "outputs": [],
   "source": [
    "def type_point(lista):\n",
    "    return {\"type\":\"Point\", \"coordinates\": lista}"
   ]
  },
  {
   "cell_type": "code",
   "execution_count": 16,
   "id": "9db880de",
   "metadata": {},
   "outputs": [],
   "source": [
    "def geocode(direccion):\n",
    "    \"\"\"\n",
    "    Esta función saca las coordenadas de la dirección que le pases\n",
    "    \"\"\"\n",
    "    data = requests.get(f\"https://geocode.xyz/{direccion}?json=1\").json()\n",
    "    try:\n",
    "        return {\"type\": \"Point\", \"coordinates\": [data[\"latt\"], data[\"longt\"]]}\n",
    "    except:\n",
    "        return data"
   ]
  },
  {
   "cell_type": "code",
   "execution_count": 299,
   "id": "3ca15c36",
   "metadata": {},
   "outputs": [],
   "source": [
    "client = MongoClient(\"localhost:27017\")\n",
    "db = client.get_database(\"ironhack\")\n",
    "geospatial = db.get_collection(\"geospatial\")"
   ]
  },
  {
   "cell_type": "markdown",
   "id": "cf4b9719",
   "metadata": {},
   "source": [
    "## Lista de categorías e id de Foursquare\n",
    "- scrapping"
   ]
  },
  {
   "cell_type": "code",
   "execution_count": 17,
   "id": "d7d65369",
   "metadata": {},
   "outputs": [],
   "source": [
    "def get_categories():\n",
    "    url = \"https://developer.foursquare.com/docs/build-with-foursquare/categories/\"\n",
    "    html = requests.get(url)\n",
    "    soup = BeautifulSoup(html.content,\"html.parser\")\n",
    "    venue_cat = soup.find_all(\"ul\", {\"class\": \"VenueCategories__Wrapper-sc-15dn453-0 dmcDKQ\"})\n",
    "    cat = {}\n",
    "    li = venue_cat[0].find_all(\"li\")\n",
    "    for l in li:\n",
    "        cat[l.find(\"h3\").getText()] = l.find(\"p\").getText()\n",
    "        \n",
    "    return pd.DataFrame.from_dict(cat,orient=\"Index\").reset_index().rename(columns={\"index\": \"category\", 0: \"categoryId\"})\n",
    "\n",
    "categories = get_categories()"
   ]
  },
  {
   "cell_type": "code",
   "execution_count": 18,
   "id": "efc5a65d",
   "metadata": {},
   "outputs": [
    {
     "data": {
      "text/html": [
       "<div>\n",
       "<style scoped>\n",
       "    .dataframe tbody tr th:only-of-type {\n",
       "        vertical-align: middle;\n",
       "    }\n",
       "\n",
       "    .dataframe tbody tr th {\n",
       "        vertical-align: top;\n",
       "    }\n",
       "\n",
       "    .dataframe thead th {\n",
       "        text-align: right;\n",
       "    }\n",
       "</style>\n",
       "<table border=\"1\" class=\"dataframe\">\n",
       "  <thead>\n",
       "    <tr style=\"text-align: right;\">\n",
       "      <th></th>\n",
       "      <th>category</th>\n",
       "      <th>categoryId</th>\n",
       "    </tr>\n",
       "  </thead>\n",
       "  <tbody>\n",
       "    <tr>\n",
       "      <th>297</th>\n",
       "      <td>Ouzeri</td>\n",
       "      <td>53d6c1b0e4b02351e88a83dc</td>\n",
       "    </tr>\n",
       "    <tr>\n",
       "      <th>304</th>\n",
       "      <td>Poke Place</td>\n",
       "      <td>5bae9231bedf3950379f89d4</td>\n",
       "    </tr>\n",
       "    <tr>\n",
       "      <th>11</th>\n",
       "      <td>Disc Golf</td>\n",
       "      <td>52e81612bcbc57f1066b79e8</td>\n",
       "    </tr>\n",
       "  </tbody>\n",
       "</table>\n",
       "</div>"
      ],
      "text/plain": [
       "       category                categoryId\n",
       "297      Ouzeri  53d6c1b0e4b02351e88a83dc\n",
       "304  Poke Place  5bae9231bedf3950379f89d4\n",
       "11    Disc Golf  52e81612bcbc57f1066b79e8"
      ]
     },
     "execution_count": 18,
     "metadata": {},
     "output_type": "execute_result"
    }
   ],
   "source": [
    "categories.sample(3)"
   ]
  },
  {
   "cell_type": "code",
   "execution_count": 19,
   "id": "9e216656",
   "metadata": {},
   "outputs": [],
   "source": [
    "def categories_dic(cat_list):    \n",
    "    dicc = {}\n",
    "    for c in cat_list:\n",
    "        dicc[c] = categories.categoryId[categories[\"category\"] == c].values[0]\n",
    "    return dicc"
   ]
  },
  {
   "cell_type": "code",
   "execution_count": 20,
   "id": "98e12baf",
   "metadata": {},
   "outputs": [],
   "source": [
    "venues_list = [\"Design Studio\",\"Nursery School\",\"Preschool\",\"Elementary School\",\"Tech Startup\",\"Coffee Shop\",\n",
    "               \"Airport Terminal\",\"Train Station\",\n",
    "              \"Nightlife Spot\",\"Vegetarian / Vegan Restaurant\",\"Basketball Stadium\",\n",
    "               \"Veterinarian\",\"Pet Service\",\"Pet Store\"]  "
   ]
  },
  {
   "cell_type": "code",
   "execution_count": 21,
   "id": "3874b833",
   "metadata": {},
   "outputs": [
    {
     "data": {
      "text/plain": [
       "{'Design Studio': '4bf58dd8d48988d1f4941735',\n",
       " 'Nursery School': '4f4533814b9074f6e4fb0107',\n",
       " 'Preschool': '52e81612bcbc57f1066b7a45',\n",
       " 'Elementary School': '4f4533804b9074f6e4fb0105',\n",
       " 'Tech Startup': '4bf58dd8d48988d125941735',\n",
       " 'Coffee Shop': '4bf58dd8d48988d1e0931735',\n",
       " 'Airport Terminal': '4bf58dd8d48988d1eb931735',\n",
       " 'Train Station': '4bf58dd8d48988d129951735',\n",
       " 'Nightlife Spot': '4d4b7105d754a06376d81259',\n",
       " 'Vegetarian / Vegan Restaurant': '4bf58dd8d48988d1d3941735',\n",
       " 'Basketball Stadium': '4bf58dd8d48988d18b941735',\n",
       " 'Veterinarian': '4d954af4a243a5684765b473',\n",
       " 'Pet Service': '5032897c91d4c4b30a586d69',\n",
       " 'Pet Store': '4bf58dd8d48988d100951735'}"
      ]
     },
     "execution_count": 21,
     "metadata": {},
     "output_type": "execute_result"
    }
   ],
   "source": [
    "cat_dic = categories_dic(venues_list)\n",
    "cat_dic"
   ]
  },
  {
   "cell_type": "code",
   "execution_count": 22,
   "id": "22858fa6",
   "metadata": {},
   "outputs": [],
   "source": [
    "def localizations_coor(dicc):\n",
    "    local = {}\n",
    "    for city,loc in localizations_dicc.items():\n",
    "        local[city] = geocode(loc)[\"coordinates\"]\n",
    "        time.sleep(15)\n",
    "    return local\n",
    "    "
   ]
  },
  {
   "cell_type": "code",
   "execution_count": 23,
   "id": "3941660d",
   "metadata": {},
   "outputs": [],
   "source": [
    "# localizations_dicc={\"Austin\":\"Texas Capitol, Austin, Texas\",\"Hamburg\":\"Hamburg city center,Hamburg,Germany\",\"Newcastle\":\"Newcastle upon Tyne, United Kingdom\"}\n",
    "# localizations = localizations_coor(localizations_dicc)\n",
    "# localizations"
   ]
  },
  {
   "cell_type": "code",
   "execution_count": 24,
   "id": "25e0ad3d",
   "metadata": {},
   "outputs": [],
   "source": [
    " localizations = {'Austin': ['30.27125853189173', '-97.75551842126049'],\n",
    " 'Hamburg': ['53.55687309076416', '10.002900693677232'],\n",
    " 'Newcastle': ['54.96923892979405', '-1.6162802662146134']}"
   ]
  },
  {
   "cell_type": "code",
   "execution_count": 25,
   "id": "fb2633a5",
   "metadata": {},
   "outputs": [],
   "source": [
    "def place_store_dicc(localizations,cat_dic):\n",
    "    url_query = 'https://api.foursquare.com/v2/venues/search'\n",
    "    client_id = os.getenv(\"four\")\n",
    "    client_secret = os.getenv(\"foursec\")\n",
    "    \n",
    "    venues_dic = {}\n",
    "    aus_dic ={}\n",
    "    ham_dic = {}\n",
    "    ncas_dic ={}\n",
    "    for loc,coor in localizations.items():\n",
    "        for cat,cat_id in cat_dic.items():\n",
    "            time.sleep(1)\n",
    "            parametros={\n",
    "                \"client_id\": client_id,\n",
    "                \"client_secret\": client_secret,\n",
    "                \"v\": \"20180323\",\n",
    "                \"ll\": f\"{coor[0]}, {coor[1]}\",\n",
    "                \"categoryId\":cat_id,\n",
    "                \"radius\":2000\n",
    "            }\n",
    "            if loc == \"Austin\":\n",
    "                aus_dic[cat] = requests.get(url_query, params = parametros).json()[\"response\"][\"venues\"] \n",
    "                if cat == \"Pet Store\":\n",
    "                    print(f\"{loc} done\")\n",
    "            elif loc == \"Hamburg\":                \n",
    "                ham_dic[cat] = requests.get(url_query, params = parametros).json()[\"response\"][\"venues\"]\n",
    "                if cat == \"Pet Store\":\n",
    "                    print(f\"{loc} done\")\n",
    "            elif loc == \"Newcastle\":                \n",
    "                ncas_dic[cat] = requests.get(url_query, params = parametros).json()[\"response\"][\"venues\"] \n",
    "                if cat == \"Pet Store\":\n",
    "                    print(f\"{loc} done\")\n",
    "            \n",
    "    venues_dic = {\"Austin\":aus_dic,\n",
    "                 \"Hamburg\":ham_dic,\n",
    "                  \"Newcastle\": ncas_dic\n",
    "                 }\n",
    "\n",
    "    return venues_dic\n"
   ]
  },
  {
   "cell_type": "code",
   "execution_count": 26,
   "id": "4bfabf01",
   "metadata": {},
   "outputs": [
    {
     "name": "stdout",
     "output_type": "stream",
     "text": [
      "Austin done\n",
      "Hamburg done\n",
      "Newcastle done\n"
     ]
    }
   ],
   "source": [
    "total_venues = place_store_dicc(localizations,cat_dic)"
   ]
  },
  {
   "cell_type": "code",
   "execution_count": 49,
   "id": "e18b1327",
   "metadata": {},
   "outputs": [],
   "source": [
    "with open('../data/total_venues.json', 'w') as f:\n",
    "    json.dump(total_venues, f)"
   ]
  },
  {
   "cell_type": "code",
   "execution_count": 35,
   "id": "4ba63dcd",
   "metadata": {},
   "outputs": [],
   "source": [
    "def extraetodo(json):\n",
    "    total = []\n",
    "    for city,categories in json.items():\n",
    "        for cat,value in categories.items():\n",
    "            try:\n",
    "                todo = {\"nombre\": [\"name\"],\"sub_category\":[\"categories\",0,\"name\"],\n",
    "                        \"latitud\": [\"location\", \"lat\"], \"longitud\": [\"location\", \"lng\"],\n",
    "                        \"distance\":[\"location\",\"distance\"]}\n",
    "\n",
    "                for elemento in value:\n",
    "                    store = {key: getFromDict(elemento,value) for key,value in todo.items()}\n",
    "                    store[\"location\"] = type_point([store[\"latitud\"], store[\"longitud\"]])\n",
    "                    store[\"city\"] = city\n",
    "                    store[\"category\"] = cat\n",
    "                    total.append(store)\n",
    "\n",
    "                #print(f\"{elemento} done\")\n",
    "            except:\n",
    "\n",
    "                print(f\"{value.index(elemento)} wrong\")\n",
    "\n",
    "    return total"
   ]
  },
  {
   "cell_type": "code",
   "execution_count": 305,
   "id": "d3e9eb0d",
   "metadata": {
    "scrolled": false
   },
   "outputs": [],
   "source": [
    "venues = extraetodo(total_venues)"
   ]
  },
  {
   "cell_type": "code",
   "execution_count": 306,
   "id": "3b9af168",
   "metadata": {},
   "outputs": [],
   "source": [
    "venues_df = pd.DataFrame(venues)"
   ]
  },
  {
   "cell_type": "code",
   "execution_count": 257,
   "id": "c0227db9",
   "metadata": {},
   "outputs": [
    {
     "data": {
      "text/html": [
       "<div>\n",
       "<style scoped>\n",
       "    .dataframe tbody tr th:only-of-type {\n",
       "        vertical-align: middle;\n",
       "    }\n",
       "\n",
       "    .dataframe tbody tr th {\n",
       "        vertical-align: top;\n",
       "    }\n",
       "\n",
       "    .dataframe thead th {\n",
       "        text-align: right;\n",
       "    }\n",
       "</style>\n",
       "<table border=\"1\" class=\"dataframe\">\n",
       "  <thead>\n",
       "    <tr style=\"text-align: right;\">\n",
       "      <th></th>\n",
       "      <th>nombre</th>\n",
       "      <th>sub_category</th>\n",
       "      <th>latitud</th>\n",
       "      <th>longitud</th>\n",
       "      <th>distance</th>\n",
       "      <th>location</th>\n",
       "      <th>city</th>\n",
       "      <th>category</th>\n",
       "    </tr>\n",
       "  </thead>\n",
       "  <tbody>\n",
       "    <tr>\n",
       "      <th>37</th>\n",
       "      <td>Can We Studios</td>\n",
       "      <td>Tech Startup</td>\n",
       "      <td>30.267561</td>\n",
       "      <td>-97.740792</td>\n",
       "      <td>1474</td>\n",
       "      <td>{'type': 'Point', 'coordinates': [30.267560747...</td>\n",
       "      <td>Austin</td>\n",
       "      <td>Tech Startup</td>\n",
       "    </tr>\n",
       "    <tr>\n",
       "      <th>104</th>\n",
       "      <td>Firehouse Hostel and Lounge</td>\n",
       "      <td>Lounge</td>\n",
       "      <td>30.268096</td>\n",
       "      <td>-97.741283</td>\n",
       "      <td>1413</td>\n",
       "      <td>{'type': 'Point', 'coordinates': [30.268096341...</td>\n",
       "      <td>Austin</td>\n",
       "      <td>Nightlife Spot</td>\n",
       "    </tr>\n",
       "    <tr>\n",
       "      <th>195</th>\n",
       "      <td>Kita Hinrichsenstrasse</td>\n",
       "      <td>Daycare</td>\n",
       "      <td>53.558216</td>\n",
       "      <td>10.033161</td>\n",
       "      <td>2006</td>\n",
       "      <td>{'type': 'Point', 'coordinates': [53.558215930...</td>\n",
       "      <td>Hamburg</td>\n",
       "      <td>Preschool</td>\n",
       "    </tr>\n",
       "  </tbody>\n",
       "</table>\n",
       "</div>"
      ],
      "text/plain": [
       "                          nombre  sub_category    latitud   longitud  \\\n",
       "37                Can We Studios  Tech Startup  30.267561 -97.740792   \n",
       "104  Firehouse Hostel and Lounge        Lounge  30.268096 -97.741283   \n",
       "195       Kita Hinrichsenstrasse       Daycare  53.558216  10.033161   \n",
       "\n",
       "     distance                                           location     city  \\\n",
       "37       1474  {'type': 'Point', 'coordinates': [30.267560747...   Austin   \n",
       "104      1413  {'type': 'Point', 'coordinates': [30.268096341...   Austin   \n",
       "195      2006  {'type': 'Point', 'coordinates': [53.558215930...  Hamburg   \n",
       "\n",
       "           category  \n",
       "37     Tech Startup  \n",
       "104  Nightlife Spot  \n",
       "195       Preschool  "
      ]
     },
     "execution_count": 257,
     "metadata": {},
     "output_type": "execute_result"
    }
   ],
   "source": [
    "venues_df.sample(3)"
   ]
  },
  {
   "cell_type": "code",
   "execution_count": 258,
   "id": "eb67a200",
   "metadata": {},
   "outputs": [],
   "source": [
    "#borrar todos los cafés que no sean starbucks\n",
    "no_starbucks = list(venues_df.index[(venues_df[\"category\"] == \"Coffee Shop\") & (venues_df[\"nombre\"] != \"Starbucks\")])\n",
    "venues_df.drop(no_starbucks,axis=0, inplace = True)"
   ]
  },
  {
   "cell_type": "code",
   "execution_count": 260,
   "id": "ac336975",
   "metadata": {
    "scrolled": false
   },
   "outputs": [],
   "source": [
    "venues_df.reset_index(drop = True,inplace = True)"
   ]
  },
  {
   "cell_type": "code",
   "execution_count": 282,
   "id": "9bd2b2e3",
   "metadata": {},
   "outputs": [
    {
     "name": "stdout",
     "output_type": "stream",
     "text": [
      "<class 'pandas.core.frame.DataFrame'>\n",
      "RangeIndex: 414 entries, 0 to 413\n",
      "Data columns (total 9 columns):\n",
      " #   Column        Non-Null Count  Dtype   \n",
      "---  ------        --------------  -----   \n",
      " 0   nombre        414 non-null    object  \n",
      " 1   sub_category  414 non-null    object  \n",
      " 2   latitud       414 non-null    float64 \n",
      " 3   longitud      414 non-null    float64 \n",
      " 4   distance      414 non-null    int64   \n",
      " 5   location      414 non-null    object  \n",
      " 6   city          414 non-null    object  \n",
      " 7   category      414 non-null    object  \n",
      " 8   geometry      414 non-null    geometry\n",
      "dtypes: float64(2), geometry(1), int64(1), object(5)\n",
      "memory usage: 29.2+ KB\n"
     ]
    }
   ],
   "source": [
    "venues_df.info()"
   ]
  },
  {
   "cell_type": "code",
   "execution_count": 262,
   "id": "bcbc85be",
   "metadata": {},
   "outputs": [],
   "source": [
    "venues_df.to_csv(\"../data/venues_df.csv\",index = False)"
   ]
  },
  {
   "cell_type": "code",
   "execution_count": 43,
   "id": "b00820da",
   "metadata": {},
   "outputs": [
    {
     "data": {
      "text/html": [
       "<div>\n",
       "<style scoped>\n",
       "    .dataframe tbody tr th:only-of-type {\n",
       "        vertical-align: middle;\n",
       "    }\n",
       "\n",
       "    .dataframe tbody tr th {\n",
       "        vertical-align: top;\n",
       "    }\n",
       "\n",
       "    .dataframe thead th {\n",
       "        text-align: right;\n",
       "    }\n",
       "</style>\n",
       "<table border=\"1\" class=\"dataframe\">\n",
       "  <thead>\n",
       "    <tr style=\"text-align: right;\">\n",
       "      <th></th>\n",
       "      <th>nombre</th>\n",
       "      <th>sub_category</th>\n",
       "      <th>latitud</th>\n",
       "      <th>longitud</th>\n",
       "      <th>distance</th>\n",
       "      <th>location</th>\n",
       "      <th>city</th>\n",
       "      <th>category</th>\n",
       "    </tr>\n",
       "  </thead>\n",
       "  <tbody>\n",
       "    <tr>\n",
       "      <th>134</th>\n",
       "      <td>Texas School For The Deaf Basketball Gym</td>\n",
       "      <td>Basketball Stadium</td>\n",
       "      <td>30.253043</td>\n",
       "      <td>-97.752368</td>\n",
       "      <td>2050</td>\n",
       "      <td>{'type': 'Point', 'coordinates': [30.253042851...</td>\n",
       "      <td>Austin</td>\n",
       "      <td>Basketball Stadium</td>\n",
       "    </tr>\n",
       "    <tr>\n",
       "      <th>56</th>\n",
       "      <td>Starbucks</td>\n",
       "      <td>Coffee Shop</td>\n",
       "      <td>30.269783</td>\n",
       "      <td>-97.753914</td>\n",
       "      <td>225</td>\n",
       "      <td>{'type': 'Point', 'coordinates': [30.269783, -...</td>\n",
       "      <td>Austin</td>\n",
       "      <td>Coffee Shop</td>\n",
       "    </tr>\n",
       "    <tr>\n",
       "      <th>79</th>\n",
       "      <td>Starbucks</td>\n",
       "      <td>Coffee Shop</td>\n",
       "      <td>30.265858</td>\n",
       "      <td>-97.746308</td>\n",
       "      <td>1070</td>\n",
       "      <td>{'type': 'Point', 'coordinates': [30.265857567...</td>\n",
       "      <td>Austin</td>\n",
       "      <td>Coffee Shop</td>\n",
       "    </tr>\n",
       "  </tbody>\n",
       "</table>\n",
       "</div>"
      ],
      "text/plain": [
       "                                       nombre        sub_category    latitud  \\\n",
       "134  Texas School For The Deaf Basketball Gym  Basketball Stadium  30.253043   \n",
       "56                                  Starbucks         Coffee Shop  30.269783   \n",
       "79                                  Starbucks         Coffee Shop  30.265858   \n",
       "\n",
       "      longitud  distance                                           location  \\\n",
       "134 -97.752368      2050  {'type': 'Point', 'coordinates': [30.253042851...   \n",
       "56  -97.753914       225  {'type': 'Point', 'coordinates': [30.269783, -...   \n",
       "79  -97.746308      1070  {'type': 'Point', 'coordinates': [30.265857567...   \n",
       "\n",
       "       city            category  \n",
       "134  Austin  Basketball Stadium  \n",
       "56   Austin         Coffee Shop  \n",
       "79   Austin         Coffee Shop  "
      ]
     },
     "execution_count": 43,
     "metadata": {},
     "output_type": "execute_result"
    }
   ],
   "source": [
    "Austin_df = venues_df[venues_df[\"city\"] == \"Austin\"].sort_values([\"category\",\"distance\"])\n",
    "Austin_df.head(3)"
   ]
  },
  {
   "cell_type": "code",
   "execution_count": 44,
   "id": "f932a950",
   "metadata": {},
   "outputs": [
    {
     "data": {
      "text/html": [
       "<div>\n",
       "<style scoped>\n",
       "    .dataframe tbody tr th:only-of-type {\n",
       "        vertical-align: middle;\n",
       "    }\n",
       "\n",
       "    .dataframe tbody tr th {\n",
       "        vertical-align: top;\n",
       "    }\n",
       "\n",
       "    .dataframe thead th {\n",
       "        text-align: right;\n",
       "    }\n",
       "</style>\n",
       "<table border=\"1\" class=\"dataframe\">\n",
       "  <thead>\n",
       "    <tr style=\"text-align: right;\">\n",
       "      <th></th>\n",
       "      <th>nombre</th>\n",
       "      <th>sub_category</th>\n",
       "      <th>latitud</th>\n",
       "      <th>longitud</th>\n",
       "      <th>distance</th>\n",
       "      <th>location</th>\n",
       "      <th>city</th>\n",
       "      <th>category</th>\n",
       "    </tr>\n",
       "  </thead>\n",
       "  <tbody>\n",
       "    <tr>\n",
       "      <th>239</th>\n",
       "      <td>Starbucks</td>\n",
       "      <td>Coffee Shop</td>\n",
       "      <td>53.552863</td>\n",
       "      <td>10.005558</td>\n",
       "      <td>479</td>\n",
       "      <td>{'type': 'Point', 'coordinates': [53.552863, 1...</td>\n",
       "      <td>Hamburg</td>\n",
       "      <td>Coffee Shop</td>\n",
       "    </tr>\n",
       "    <tr>\n",
       "      <th>247</th>\n",
       "      <td>Starbucks</td>\n",
       "      <td>Coffee Shop</td>\n",
       "      <td>53.551256</td>\n",
       "      <td>10.000930</td>\n",
       "      <td>638</td>\n",
       "      <td>{'type': 'Point', 'coordinates': [53.551256304...</td>\n",
       "      <td>Hamburg</td>\n",
       "      <td>Coffee Shop</td>\n",
       "    </tr>\n",
       "    <tr>\n",
       "      <th>241</th>\n",
       "      <td>Starbucks</td>\n",
       "      <td>Coffee Shop</td>\n",
       "      <td>53.555068</td>\n",
       "      <td>9.990986</td>\n",
       "      <td>813</td>\n",
       "      <td>{'type': 'Point', 'coordinates': [53.555067825...</td>\n",
       "      <td>Hamburg</td>\n",
       "      <td>Coffee Shop</td>\n",
       "    </tr>\n",
       "  </tbody>\n",
       "</table>\n",
       "</div>"
      ],
      "text/plain": [
       "        nombre sub_category    latitud   longitud  distance  \\\n",
       "239  Starbucks  Coffee Shop  53.552863  10.005558       479   \n",
       "247  Starbucks  Coffee Shop  53.551256  10.000930       638   \n",
       "241  Starbucks  Coffee Shop  53.555068   9.990986       813   \n",
       "\n",
       "                                              location     city     category  \n",
       "239  {'type': 'Point', 'coordinates': [53.552863, 1...  Hamburg  Coffee Shop  \n",
       "247  {'type': 'Point', 'coordinates': [53.551256304...  Hamburg  Coffee Shop  \n",
       "241  {'type': 'Point', 'coordinates': [53.555067825...  Hamburg  Coffee Shop  "
      ]
     },
     "execution_count": 44,
     "metadata": {},
     "output_type": "execute_result"
    }
   ],
   "source": [
    "Hamburg_df = venues_df[venues_df[\"city\"] == \"Hamburg\"].sort_values([\"category\",\"distance\"])\n",
    "Hamburg_df.head(3)"
   ]
  },
  {
   "cell_type": "code",
   "execution_count": 130,
   "id": "b5942807",
   "metadata": {},
   "outputs": [
    {
     "data": {
      "text/html": [
       "<div>\n",
       "<style scoped>\n",
       "    .dataframe tbody tr th:only-of-type {\n",
       "        vertical-align: middle;\n",
       "    }\n",
       "\n",
       "    .dataframe tbody tr th {\n",
       "        vertical-align: top;\n",
       "    }\n",
       "\n",
       "    .dataframe thead th {\n",
       "        text-align: right;\n",
       "    }\n",
       "</style>\n",
       "<table border=\"1\" class=\"dataframe\">\n",
       "  <thead>\n",
       "    <tr style=\"text-align: right;\">\n",
       "      <th></th>\n",
       "      <th>nombre</th>\n",
       "      <th>sub_category</th>\n",
       "      <th>latitud</th>\n",
       "      <th>longitud</th>\n",
       "      <th>distance</th>\n",
       "      <th>location</th>\n",
       "      <th>city</th>\n",
       "      <th>category</th>\n",
       "      <th>geometry</th>\n",
       "    </tr>\n",
       "  </thead>\n",
       "  <tbody>\n",
       "    <tr>\n",
       "      <th>385</th>\n",
       "      <td>Fluid Pixel Offices</td>\n",
       "      <td>Tech Startup</td>\n",
       "      <td>54.972701</td>\n",
       "      <td>-1.608061</td>\n",
       "      <td>651</td>\n",
       "      <td>{'type': 'Point', 'coordinates': [54.972700706...</td>\n",
       "      <td>Newcastle</td>\n",
       "      <td>Tech Startup</td>\n",
       "      <td>POINT (54.97270 -1.60806)</td>\n",
       "    </tr>\n",
       "  </tbody>\n",
       "</table>\n",
       "</div>"
      ],
      "text/plain": [
       "                  nombre  sub_category    latitud  longitud  distance  \\\n",
       "385  Fluid Pixel Offices  Tech Startup  54.972701 -1.608061       651   \n",
       "\n",
       "                                              location       city  \\\n",
       "385  {'type': 'Point', 'coordinates': [54.972700706...  Newcastle   \n",
       "\n",
       "         category                   geometry  \n",
       "385  Tech Startup  POINT (54.97270 -1.60806)  "
      ]
     },
     "execution_count": 130,
     "metadata": {},
     "output_type": "execute_result"
    }
   ],
   "source": [
    "Newcastle_df = venues_df[venues_df[\"city\"] == \"Newcastle\"].sort_values([\"category\",\"distance\"])\n",
    "Newcastle_df.sample()"
   ]
  },
  {
   "cell_type": "code",
   "execution_count": 127,
   "id": "c02b0f33",
   "metadata": {},
   "outputs": [
    {
     "data": {
      "text/html": [
       "<div>\n",
       "<style scoped>\n",
       "    .dataframe tbody tr th:only-of-type {\n",
       "        vertical-align: middle;\n",
       "    }\n",
       "\n",
       "    .dataframe tbody tr th {\n",
       "        vertical-align: top;\n",
       "    }\n",
       "\n",
       "    .dataframe thead th {\n",
       "        text-align: right;\n",
       "    }\n",
       "</style>\n",
       "<table border=\"1\" class=\"dataframe\">\n",
       "  <thead>\n",
       "    <tr style=\"text-align: right;\">\n",
       "      <th></th>\n",
       "      <th>category</th>\n",
       "      <th>distance</th>\n",
       "    </tr>\n",
       "  </thead>\n",
       "  <tbody>\n",
       "    <tr>\n",
       "      <th>0</th>\n",
       "      <td>Basketball Stadium</td>\n",
       "      <td>2050.000</td>\n",
       "    </tr>\n",
       "    <tr>\n",
       "      <th>1</th>\n",
       "      <td>Coffee Shop</td>\n",
       "      <td>1306.375</td>\n",
       "    </tr>\n",
       "    <tr>\n",
       "      <th>2</th>\n",
       "      <td>Design Studio</td>\n",
       "      <td>1199.500</td>\n",
       "    </tr>\n",
       "  </tbody>\n",
       "</table>\n",
       "</div>"
      ],
      "text/plain": [
       "             category  distance\n",
       "0  Basketball Stadium  2050.000\n",
       "1         Coffee Shop  1306.375\n",
       "2       Design Studio  1199.500"
      ]
     },
     "execution_count": 127,
     "metadata": {},
     "output_type": "execute_result"
    }
   ],
   "source": [
    "Austin_df.groupby(\"category\").agg({\"distance\":\"mean\"}).reset_index().head(3)"
   ]
  },
  {
   "cell_type": "code",
   "execution_count": 128,
   "id": "4f117658",
   "metadata": {},
   "outputs": [
    {
     "data": {
      "text/html": [
       "<div>\n",
       "<style scoped>\n",
       "    .dataframe tbody tr th:only-of-type {\n",
       "        vertical-align: middle;\n",
       "    }\n",
       "\n",
       "    .dataframe tbody tr th {\n",
       "        vertical-align: top;\n",
       "    }\n",
       "\n",
       "    .dataframe thead th {\n",
       "        text-align: right;\n",
       "    }\n",
       "</style>\n",
       "<table border=\"1\" class=\"dataframe\">\n",
       "  <thead>\n",
       "    <tr style=\"text-align: right;\">\n",
       "      <th></th>\n",
       "      <th>category</th>\n",
       "      <th>distance</th>\n",
       "    </tr>\n",
       "  </thead>\n",
       "  <tbody>\n",
       "    <tr>\n",
       "      <th>0</th>\n",
       "      <td>Coffee Shop</td>\n",
       "      <td>643.333333</td>\n",
       "    </tr>\n",
       "    <tr>\n",
       "      <th>1</th>\n",
       "      <td>Design Studio</td>\n",
       "      <td>1455.250000</td>\n",
       "    </tr>\n",
       "    <tr>\n",
       "      <th>2</th>\n",
       "      <td>Elementary School</td>\n",
       "      <td>2336.000000</td>\n",
       "    </tr>\n",
       "  </tbody>\n",
       "</table>\n",
       "</div>"
      ],
      "text/plain": [
       "            category     distance\n",
       "0        Coffee Shop   643.333333\n",
       "1      Design Studio  1455.250000\n",
       "2  Elementary School  2336.000000"
      ]
     },
     "execution_count": 128,
     "metadata": {},
     "output_type": "execute_result"
    }
   ],
   "source": [
    "Hamburg_df.groupby(\"category\").agg({\"distance\":\"mean\"}).reset_index().head(3)"
   ]
  },
  {
   "cell_type": "code",
   "execution_count": 129,
   "id": "4e65bfd4",
   "metadata": {},
   "outputs": [
    {
     "data": {
      "text/html": [
       "<div>\n",
       "<style scoped>\n",
       "    .dataframe tbody tr th:only-of-type {\n",
       "        vertical-align: middle;\n",
       "    }\n",
       "\n",
       "    .dataframe tbody tr th {\n",
       "        vertical-align: top;\n",
       "    }\n",
       "\n",
       "    .dataframe thead th {\n",
       "        text-align: right;\n",
       "    }\n",
       "</style>\n",
       "<table border=\"1\" class=\"dataframe\">\n",
       "  <thead>\n",
       "    <tr style=\"text-align: right;\">\n",
       "      <th></th>\n",
       "      <th>category</th>\n",
       "      <th>distance</th>\n",
       "    </tr>\n",
       "  </thead>\n",
       "  <tbody>\n",
       "    <tr>\n",
       "      <th>0</th>\n",
       "      <td>Basketball Stadium</td>\n",
       "      <td>1183.000000</td>\n",
       "    </tr>\n",
       "    <tr>\n",
       "      <th>1</th>\n",
       "      <td>Coffee Shop</td>\n",
       "      <td>603.500000</td>\n",
       "    </tr>\n",
       "    <tr>\n",
       "      <th>2</th>\n",
       "      <td>Design Studio</td>\n",
       "      <td>862.842105</td>\n",
       "    </tr>\n",
       "  </tbody>\n",
       "</table>\n",
       "</div>"
      ],
      "text/plain": [
       "             category     distance\n",
       "0  Basketball Stadium  1183.000000\n",
       "1         Coffee Shop   603.500000\n",
       "2       Design Studio   862.842105"
      ]
     },
     "execution_count": 129,
     "metadata": {},
     "output_type": "execute_result"
    }
   ],
   "source": [
    "Newcastle_df.groupby(\"category\").agg({\"distance\":\"mean\"}).reset_index().head(3)"
   ]
  },
  {
   "cell_type": "code",
   "execution_count": 56,
   "id": "658fa61c",
   "metadata": {},
   "outputs": [],
   "source": [
    "venues_Austin = total_venues[\"Austin\"]"
   ]
  },
  {
   "cell_type": "code",
   "execution_count": 122,
   "id": "3e5b5086",
   "metadata": {},
   "outputs": [],
   "source": [
    "with open('../data/venues_Austin.json', 'w') as f:\n",
    "    json.dump(venues_Austin, f)"
   ]
  },
  {
   "cell_type": "code",
   "execution_count": 58,
   "id": "0abe60e1",
   "metadata": {},
   "outputs": [],
   "source": [
    "venues_Hamburg = total_venues[\"Hamburg\"]\n",
    "with open('../data/venues_Hamburg.json', 'w') as f:\n",
    "    json.dump(venues_Hamburg, f)"
   ]
  },
  {
   "cell_type": "code",
   "execution_count": 59,
   "id": "cfcb3d6f",
   "metadata": {},
   "outputs": [],
   "source": [
    "venues_Newcastle = total_venues[\"Newcastle\"]\n",
    "with open('../data/Newcastle.json', 'w') as f:\n",
    "    json.dump(venues_Hamburg, f)"
   ]
  },
  {
   "cell_type": "code",
   "execution_count": 338,
   "id": "3fd70e28",
   "metadata": {},
   "outputs": [],
   "source": [
    "geo_venues = gpd.GeoDataFrame(venues_df, geometry=gpd.points_from_xy(venues_df.longitud,venues_df.latitud))"
   ]
  },
  {
   "cell_type": "code",
   "execution_count": 339,
   "id": "6215920e",
   "metadata": {},
   "outputs": [],
   "source": [
    "geo_venues.drop(\"location\", axis=1, inplace = True)\n"
   ]
  },
  {
   "cell_type": "code",
   "execution_count": 340,
   "id": "413204f9",
   "metadata": {},
   "outputs": [
    {
     "data": {
      "text/html": [
       "<div>\n",
       "<style scoped>\n",
       "    .dataframe tbody tr th:only-of-type {\n",
       "        vertical-align: middle;\n",
       "    }\n",
       "\n",
       "    .dataframe tbody tr th {\n",
       "        vertical-align: top;\n",
       "    }\n",
       "\n",
       "    .dataframe thead th {\n",
       "        text-align: right;\n",
       "    }\n",
       "</style>\n",
       "<table border=\"1\" class=\"dataframe\">\n",
       "  <thead>\n",
       "    <tr style=\"text-align: right;\">\n",
       "      <th></th>\n",
       "      <th>nombre</th>\n",
       "      <th>sub_category</th>\n",
       "      <th>latitud</th>\n",
       "      <th>longitud</th>\n",
       "      <th>distance</th>\n",
       "      <th>city</th>\n",
       "      <th>category</th>\n",
       "      <th>geometry</th>\n",
       "    </tr>\n",
       "  </thead>\n",
       "  <tbody>\n",
       "    <tr>\n",
       "      <th>189</th>\n",
       "      <td>Kita Kohlhöfen</td>\n",
       "      <td>Nursery School</td>\n",
       "      <td>53.553187</td>\n",
       "      <td>9.979998</td>\n",
       "      <td>1569</td>\n",
       "      <td>Hamburg</td>\n",
       "      <td>Nursery School</td>\n",
       "      <td>POINT (9.98000 53.55319)</td>\n",
       "    </tr>\n",
       "    <tr>\n",
       "      <th>296</th>\n",
       "      <td>Ta Vegan House</td>\n",
       "      <td>Vegetarian / Vegan Restaurant</td>\n",
       "      <td>53.545310</td>\n",
       "      <td>9.975342</td>\n",
       "      <td>2231</td>\n",
       "      <td>Hamburg</td>\n",
       "      <td>Vegetarian / Vegan Restaurant</td>\n",
       "      <td>POINT (9.97534 53.54531)</td>\n",
       "    </tr>\n",
       "  </tbody>\n",
       "</table>\n",
       "</div>"
      ],
      "text/plain": [
       "             nombre                   sub_category    latitud  longitud  \\\n",
       "189  Kita Kohlhöfen                 Nursery School  53.553187  9.979998   \n",
       "296  Ta Vegan House  Vegetarian / Vegan Restaurant  53.545310  9.975342   \n",
       "\n",
       "     distance     city                       category  \\\n",
       "189      1569  Hamburg                 Nursery School   \n",
       "296      2231  Hamburg  Vegetarian / Vegan Restaurant   \n",
       "\n",
       "                     geometry  \n",
       "189  POINT (9.98000 53.55319)  \n",
       "296  POINT (9.97534 53.54531)  "
      ]
     },
     "execution_count": 340,
     "metadata": {},
     "output_type": "execute_result"
    }
   ],
   "source": [
    "geo_venues.sample(2)"
   ]
  },
  {
   "cell_type": "code",
   "execution_count": 341,
   "id": "3b099b7c",
   "metadata": {},
   "outputs": [
    {
     "name": "stderr",
     "output_type": "stream",
     "text": [
      "/home/sinatxe/anaconda3/envs/ironhack/lib/python3.8/site-packages/geopandas/geodataframe.py:1350: UserWarning: Geometry column does not contain geometry.\n",
      "  warnings.warn(\"Geometry column does not contain geometry.\")\n"
     ]
    }
   ],
   "source": [
    "geo_venues['geometry']=geo_venues['geometry'].apply(lambda x:shapely.geometry.mapping(x))"
   ]
  },
  {
   "cell_type": "code",
   "execution_count": 343,
   "id": "5300e04d",
   "metadata": {},
   "outputs": [],
   "source": [
    "geo_venus_dic = geo_venues.to_dict(orient=\"records\")"
   ]
  },
  {
   "cell_type": "code",
   "execution_count": 344,
   "id": "27789f37",
   "metadata": {},
   "outputs": [
    {
     "data": {
      "text/plain": [
       "'geometry_2dsphere'"
      ]
     },
     "execution_count": 344,
     "metadata": {},
     "output_type": "execute_result"
    }
   ],
   "source": [
    "geospatial.create_index([(\"geometry\", GEOSPHERE)])"
   ]
  },
  {
   "cell_type": "code",
   "execution_count": 345,
   "id": "5613dad3",
   "metadata": {},
   "outputs": [
    {
     "data": {
      "text/plain": [
       "<pymongo.results.InsertManyResult at 0x7fec3b9e1d00>"
      ]
     },
     "execution_count": 345,
     "metadata": {},
     "output_type": "execute_result"
    }
   ],
   "source": [
    "geospatial.insert_many(geo_venus_dic)"
   ]
  },
  {
   "cell_type": "code",
   "execution_count": null,
   "id": "5c1e17e7",
   "metadata": {},
   "outputs": [],
   "source": []
  }
 ],
 "metadata": {
  "kernelspec": {
   "display_name": "ironhack",
   "language": "python",
   "name": "ironhack"
  },
  "language_info": {
   "codemirror_mode": {
    "name": "ipython",
    "version": 3
   },
   "file_extension": ".py",
   "mimetype": "text/x-python",
   "name": "python",
   "nbconvert_exporter": "python",
   "pygments_lexer": "ipython3",
   "version": "3.8.5"
  }
 },
 "nbformat": 4,
 "nbformat_minor": 5
}
