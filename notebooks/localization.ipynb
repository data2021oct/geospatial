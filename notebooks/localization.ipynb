{
 "cells": [
  {
   "cell_type": "code",
   "execution_count": 1,
   "id": "e0ed5a4b",
   "metadata": {},
   "outputs": [
    {
     "data": {
      "text/plain": [
       "True"
      ]
     },
     "execution_count": 1,
     "metadata": {},
     "output_type": "execute_result"
    }
   ],
   "source": [
    "import requests\n",
    "import json\n",
    "import os\n",
    "import pandas as pd\n",
    "from functools import reduce\n",
    "import operator\n",
    "import pyjsonviewer\n",
    "import geopandas as gpd\n",
    "import time\n",
    "from bs4 import BeautifulSoup\n",
    "from shapely.geometry import Point\n",
    "from pymongo import MongoClient\n",
    "from dotenv import load_dotenv\n",
    "import numpy as np\n",
    "from pymongo import GEOSPHERE\n",
    "import shapely.geometry\n",
    "\n",
    "load_dotenv()"
   ]
  },
  {
   "cell_type": "markdown",
   "id": "f83b3908",
   "metadata": {},
   "source": [
    "## Funciones útiles"
   ]
  },
  {
   "cell_type": "code",
   "execution_count": 2,
   "id": "7b15e8d0",
   "metadata": {},
   "outputs": [],
   "source": [
    "def getFromDict(diccionario,mapa):\n",
    "    return reduce(operator.getitem,mapa,diccionario)"
   ]
  },
  {
   "cell_type": "code",
   "execution_count": 3,
   "id": "fe68ccfa",
   "metadata": {},
   "outputs": [],
   "source": [
    "def type_point(lista):\n",
    "    return {\"type\":\"Point\", \"coordinates\": lista}"
   ]
  },
  {
   "cell_type": "code",
   "execution_count": 4,
   "id": "9db880de",
   "metadata": {},
   "outputs": [],
   "source": [
    "def geocode(direccion):\n",
    "    \"\"\"\n",
    "    Esta función saca las coordenadas de la dirección que le pases\n",
    "    \"\"\"\n",
    "    data = requests.get(f\"https://geocode.xyz/{direccion}?json=1\").json()\n",
    "    try:\n",
    "        return {\"type\": \"Point\", \"coordinates\": [data[\"latt\"], data[\"longt\"]]}\n",
    "    except:\n",
    "        return data"
   ]
  },
  {
   "cell_type": "code",
   "execution_count": 5,
   "id": "8259f4a9",
   "metadata": {},
   "outputs": [],
   "source": [
    "client = MongoClient(\"localhost:27017\")\n",
    "db = client.get_database(\"ironhack\")\n",
    "geospatial = db.get_collection(\"geospatial\")\n",
    "geoaus = db.get_collection(\"geoaus\")\n",
    "geonew = db.get_collection(\"geonew\")\n",
    "geoham = db.get_collection(\"geoham\")"
   ]
  },
  {
   "cell_type": "markdown",
   "id": "cf4b9719",
   "metadata": {},
   "source": [
    "## Lista de categorías e id de Foursquare\n",
    "- scrapping"
   ]
  },
  {
   "cell_type": "code",
   "execution_count": 6,
   "id": "d7d65369",
   "metadata": {},
   "outputs": [],
   "source": [
    "def get_categories():\n",
    "    url = \"https://developer.foursquare.com/docs/build-with-foursquare/categories/\"\n",
    "    html = requests.get(url)\n",
    "    soup = BeautifulSoup(html.content,\"html.parser\")\n",
    "    venue_cat = soup.find_all(\"ul\", {\"class\": \"VenueCategories__Wrapper-sc-15dn453-0 dmcDKQ\"})\n",
    "    cat = {}\n",
    "    li = venue_cat[0].find_all(\"li\")\n",
    "    for l in li:\n",
    "        cat[l.find(\"h3\").getText()] = l.find(\"p\").getText()\n",
    "        \n",
    "    return pd.DataFrame.from_dict(cat,orient=\"Index\").reset_index().rename(columns={\"index\": \"category\", 0: \"categoryId\"})\n",
    "\n",
    "categories = get_categories()"
   ]
  },
  {
   "cell_type": "code",
   "execution_count": 7,
   "id": "efc5a65d",
   "metadata": {},
   "outputs": [
    {
     "data": {
      "text/html": [
       "<div>\n",
       "<style scoped>\n",
       "    .dataframe tbody tr th:only-of-type {\n",
       "        vertical-align: middle;\n",
       "    }\n",
       "\n",
       "    .dataframe tbody tr th {\n",
       "        vertical-align: top;\n",
       "    }\n",
       "\n",
       "    .dataframe thead th {\n",
       "        text-align: right;\n",
       "    }\n",
       "</style>\n",
       "<table border=\"1\" class=\"dataframe\">\n",
       "  <thead>\n",
       "    <tr style=\"text-align: right;\">\n",
       "      <th></th>\n",
       "      <th>category</th>\n",
       "      <th>categoryId</th>\n",
       "    </tr>\n",
       "  </thead>\n",
       "  <tbody>\n",
       "    <tr>\n",
       "      <th>595</th>\n",
       "      <td>Waterfall</td>\n",
       "      <td>56aa371be4b08b9a8d573560</td>\n",
       "    </tr>\n",
       "    <tr>\n",
       "      <th>99</th>\n",
       "      <td>Medical School</td>\n",
       "      <td>4bf58dd8d48988d1b3941735</td>\n",
       "    </tr>\n",
       "    <tr>\n",
       "      <th>154</th>\n",
       "      <td>Szechuan Restaurant</td>\n",
       "      <td>52af3b773cf9994f4e043c03</td>\n",
       "    </tr>\n",
       "  </tbody>\n",
       "</table>\n",
       "</div>"
      ],
      "text/plain": [
       "                category                categoryId\n",
       "595            Waterfall  56aa371be4b08b9a8d573560\n",
       "99        Medical School  4bf58dd8d48988d1b3941735\n",
       "154  Szechuan Restaurant  52af3b773cf9994f4e043c03"
      ]
     },
     "execution_count": 7,
     "metadata": {},
     "output_type": "execute_result"
    }
   ],
   "source": [
    "categories.sample(3)"
   ]
  },
  {
   "cell_type": "code",
   "execution_count": 8,
   "id": "9e216656",
   "metadata": {},
   "outputs": [],
   "source": [
    "def categories_dic(cat_list):    \n",
    "    dicc = {}\n",
    "    for c in cat_list:\n",
    "        dicc[c] = categories.categoryId[categories[\"category\"] == c].values[0]\n",
    "    return dicc"
   ]
  },
  {
   "cell_type": "code",
   "execution_count": 9,
   "id": "98e12baf",
   "metadata": {},
   "outputs": [],
   "source": [
    "venues_list = [\"Design Studio\",\"Nursery School\",\"Preschool\",\"Elementary School\",\"Tech Startup\",\"Coffee Shop\",\n",
    "               \"Airport Terminal\",\"Train Station\",\n",
    "              \"Nightlife Spot\",\"Vegetarian / Vegan Restaurant\",\"Basketball Stadium\",\n",
    "               \"Veterinarian\",\"Pet Service\",\"Pet Store\"]  "
   ]
  },
  {
   "cell_type": "code",
   "execution_count": 10,
   "id": "3874b833",
   "metadata": {},
   "outputs": [
    {
     "data": {
      "text/plain": [
       "{'Design Studio': '4bf58dd8d48988d1f4941735',\n",
       " 'Nursery School': '4f4533814b9074f6e4fb0107',\n",
       " 'Preschool': '52e81612bcbc57f1066b7a45',\n",
       " 'Elementary School': '4f4533804b9074f6e4fb0105',\n",
       " 'Tech Startup': '4bf58dd8d48988d125941735',\n",
       " 'Coffee Shop': '4bf58dd8d48988d1e0931735',\n",
       " 'Airport Terminal': '4bf58dd8d48988d1eb931735',\n",
       " 'Train Station': '4bf58dd8d48988d129951735',\n",
       " 'Nightlife Spot': '4d4b7105d754a06376d81259',\n",
       " 'Vegetarian / Vegan Restaurant': '4bf58dd8d48988d1d3941735',\n",
       " 'Basketball Stadium': '4bf58dd8d48988d18b941735',\n",
       " 'Veterinarian': '4d954af4a243a5684765b473',\n",
       " 'Pet Service': '5032897c91d4c4b30a586d69',\n",
       " 'Pet Store': '4bf58dd8d48988d100951735'}"
      ]
     },
     "execution_count": 10,
     "metadata": {},
     "output_type": "execute_result"
    }
   ],
   "source": [
    "cat_dic = categories_dic(venues_list)\n",
    "cat_dic"
   ]
  },
  {
   "cell_type": "code",
   "execution_count": 11,
   "id": "22858fa6",
   "metadata": {},
   "outputs": [],
   "source": [
    "def localizations_coor(dicc):\n",
    "    local = {}\n",
    "    for city,loc in localizations_dicc.items():\n",
    "        local[city] = geocode(loc)[\"coordinates\"]\n",
    "        time.sleep(15)\n",
    "    return local\n",
    "    "
   ]
  },
  {
   "cell_type": "code",
   "execution_count": 12,
   "id": "3941660d",
   "metadata": {},
   "outputs": [],
   "source": [
    "# localizations_dicc={\"Austin\":\"Texas Capitol, Austin, Texas\",\"Hamburg\":\"Hamburg city center,Hamburg,Germany\",\"Newcastle\":\"Newcastle upon Tyne, United Kingdom\"}\n",
    "# localizations = localizations_coor(localizations_dicc)\n",
    "# localizations"
   ]
  },
  {
   "cell_type": "code",
   "execution_count": 13,
   "id": "25e0ad3d",
   "metadata": {},
   "outputs": [],
   "source": [
    " localizations = {'Austin': ['30.27125853189173', '-97.75551842126049'],\n",
    " 'Hamburg': ['53.55687309076416', '10.002900693677232'],\n",
    " 'Newcastle': ['54.96923892979405', '-1.6162802662146134']}"
   ]
  },
  {
   "cell_type": "code",
   "execution_count": 14,
   "id": "fb2633a5",
   "metadata": {},
   "outputs": [],
   "source": [
    "def place_store_dicc(localizations,cat_dic):\n",
    "    url_query = 'https://api.foursquare.com/v2/venues/search'\n",
    "    client_id = os.getenv(\"four\")\n",
    "    client_secret = os.getenv(\"foursec\")\n",
    "    \n",
    "    venues_dic = {}\n",
    "    aus_dic ={}\n",
    "    ham_dic = {}\n",
    "    ncas_dic ={}\n",
    "    for loc,coor in localizations.items():\n",
    "        for cat,cat_id in cat_dic.items():\n",
    "            time.sleep(1)\n",
    "            parametros={\n",
    "                \"client_id\": client_id,\n",
    "                \"client_secret\": client_secret,\n",
    "                \"v\": \"20180323\",\n",
    "                \"ll\": f\"{coor[0]}, {coor[1]}\",\n",
    "                \"categoryId\":cat_id,\n",
    "                \"radius\":1000\n",
    "            }\n",
    "            if loc == \"Austin\":\n",
    "                aus_dic[cat] = requests.get(url_query, params = parametros).json()[\"response\"][\"venues\"] \n",
    "                if cat == \"Pet Store\":\n",
    "                    print(f\"{loc} done\")\n",
    "            elif loc == \"Hamburg\":                \n",
    "                ham_dic[cat] = requests.get(url_query, params = parametros).json()[\"response\"][\"venues\"]\n",
    "                if cat == \"Pet Store\":\n",
    "                    print(f\"{loc} done\")\n",
    "            elif loc == \"Newcastle\":                \n",
    "                ncas_dic[cat] = requests.get(url_query, params = parametros).json()[\"response\"][\"venues\"] \n",
    "                if cat == \"Pet Store\":\n",
    "                    print(f\"{loc} done\")\n",
    "            \n",
    "    venues_dic = {\"Austin\":aus_dic,\n",
    "                 \"Hamburg\":ham_dic,\n",
    "                  \"Newcastle\": ncas_dic\n",
    "                 }\n",
    "\n",
    "    return venues_dic\n"
   ]
  },
  {
   "cell_type": "code",
   "execution_count": 15,
   "id": "4bfabf01",
   "metadata": {},
   "outputs": [
    {
     "name": "stdout",
     "output_type": "stream",
     "text": [
      "Austin done\n",
      "Hamburg done\n",
      "Newcastle done\n"
     ]
    }
   ],
   "source": [
    "total_venues = place_store_dicc(localizations,cat_dic)"
   ]
  },
  {
   "cell_type": "code",
   "execution_count": 16,
   "id": "7821b7b3",
   "metadata": {},
   "outputs": [],
   "source": [
    "with open('../data/total_venues.json', 'w') as f:\n",
    "    json.dump(total_venues, f)"
   ]
  },
  {
   "cell_type": "code",
   "execution_count": 17,
   "id": "4ba63dcd",
   "metadata": {},
   "outputs": [],
   "source": [
    "def extraetodo(json):\n",
    "    total = []\n",
    "    for city,categories in json.items():\n",
    "        for cat,value in categories.items():\n",
    "            try:\n",
    "                todo = {\"nombre\": [\"name\"],\"sub_category\":[\"categories\",0,\"name\"],\n",
    "                        \"latitud\": [\"location\", \"lat\"], \"longitud\": [\"location\", \"lng\"],\n",
    "                        \"distance\":[\"location\",\"distance\"]}\n",
    "\n",
    "                for elemento in value:\n",
    "                    store = {key: getFromDict(elemento,value) for key,value in todo.items()}\n",
    "                    store[\"location\"] = type_point([store[\"latitud\"], store[\"longitud\"]])\n",
    "                    store[\"city\"] = city\n",
    "                    store[\"category\"] = cat\n",
    "                    total.append(store)\n",
    "\n",
    "                #print(f\"{elemento} done\")\n",
    "            except:\n",
    "\n",
    "                print(f\"{value.index(elemento)} wrong\")\n",
    "\n",
    "    return total"
   ]
  },
  {
   "cell_type": "code",
   "execution_count": 18,
   "id": "d3e9eb0d",
   "metadata": {
    "scrolled": false
   },
   "outputs": [],
   "source": [
    "venues = extraetodo(total_venues)"
   ]
  },
  {
   "cell_type": "code",
   "execution_count": 19,
   "id": "3b9af168",
   "metadata": {},
   "outputs": [],
   "source": [
    "venues_df = pd.DataFrame(venues)"
   ]
  },
  {
   "cell_type": "code",
   "execution_count": 20,
   "id": "d2b63b2c",
   "metadata": {},
   "outputs": [
    {
     "data": {
      "text/html": [
       "<div>\n",
       "<style scoped>\n",
       "    .dataframe tbody tr th:only-of-type {\n",
       "        vertical-align: middle;\n",
       "    }\n",
       "\n",
       "    .dataframe tbody tr th {\n",
       "        vertical-align: top;\n",
       "    }\n",
       "\n",
       "    .dataframe thead th {\n",
       "        text-align: right;\n",
       "    }\n",
       "</style>\n",
       "<table border=\"1\" class=\"dataframe\">\n",
       "  <thead>\n",
       "    <tr style=\"text-align: right;\">\n",
       "      <th></th>\n",
       "      <th>nombre</th>\n",
       "      <th>sub_category</th>\n",
       "      <th>latitud</th>\n",
       "      <th>longitud</th>\n",
       "      <th>distance</th>\n",
       "      <th>location</th>\n",
       "      <th>city</th>\n",
       "      <th>category</th>\n",
       "    </tr>\n",
       "  </thead>\n",
       "  <tbody>\n",
       "    <tr>\n",
       "      <th>307</th>\n",
       "      <td>Pink Lane Coffee</td>\n",
       "      <td>Coffee Shop</td>\n",
       "      <td>54.969221</td>\n",
       "      <td>-1.617804</td>\n",
       "      <td>97</td>\n",
       "      <td>{'type': 'Point', 'coordinates': [54.969220780...</td>\n",
       "      <td>Newcastle</td>\n",
       "      <td>Coffee Shop</td>\n",
       "    </tr>\n",
       "    <tr>\n",
       "      <th>320</th>\n",
       "      <td>Costa Coffee</td>\n",
       "      <td>Coffee Shop</td>\n",
       "      <td>54.973743</td>\n",
       "      <td>-1.621460</td>\n",
       "      <td>600</td>\n",
       "      <td>{'type': 'Point', 'coordinates': [54.973743, -...</td>\n",
       "      <td>Newcastle</td>\n",
       "      <td>Coffee Shop</td>\n",
       "    </tr>\n",
       "    <tr>\n",
       "      <th>206</th>\n",
       "      <td>Elbgold</td>\n",
       "      <td>Coffee Shop</td>\n",
       "      <td>53.549764</td>\n",
       "      <td>9.992869</td>\n",
       "      <td>1032</td>\n",
       "      <td>{'type': 'Point', 'coordinates': [53.549763971...</td>\n",
       "      <td>Hamburg</td>\n",
       "      <td>Coffee Shop</td>\n",
       "    </tr>\n",
       "  </tbody>\n",
       "</table>\n",
       "</div>"
      ],
      "text/plain": [
       "               nombre sub_category    latitud  longitud  distance  \\\n",
       "307  Pink Lane Coffee  Coffee Shop  54.969221 -1.617804        97   \n",
       "320      Costa Coffee  Coffee Shop  54.973743 -1.621460       600   \n",
       "206           Elbgold  Coffee Shop  53.549764  9.992869      1032   \n",
       "\n",
       "                                              location       city     category  \n",
       "307  {'type': 'Point', 'coordinates': [54.969220780...  Newcastle  Coffee Shop  \n",
       "320  {'type': 'Point', 'coordinates': [54.973743, -...  Newcastle  Coffee Shop  \n",
       "206  {'type': 'Point', 'coordinates': [53.549763971...    Hamburg  Coffee Shop  "
      ]
     },
     "execution_count": 20,
     "metadata": {},
     "output_type": "execute_result"
    }
   ],
   "source": [
    "venues_df.sample(3)"
   ]
  },
  {
   "cell_type": "code",
   "execution_count": 21,
   "id": "c0227db9",
   "metadata": {},
   "outputs": [
    {
     "data": {
      "text/plain": [
       "array(['Design Studio', 'Preschool', 'Elementary School', 'Tech Startup',\n",
       "       'Coffee Shop', 'Train Station', 'Nightlife Spot',\n",
       "       'Vegetarian / Vegan Restaurant', 'Veterinarian', 'Pet Service',\n",
       "       'Pet Store'], dtype=object)"
      ]
     },
     "execution_count": 21,
     "metadata": {},
     "output_type": "execute_result"
    }
   ],
   "source": [
    "venues_df.category.unique()"
   ]
  },
  {
   "cell_type": "code",
   "execution_count": 22,
   "id": "bfecee91",
   "metadata": {},
   "outputs": [],
   "source": [
    "venues_df.category = venues_df.category.str.replace(r\"(.*[Ss](chool|CHOOL).*)\",\"School\",regex=True)\n",
    "venues_df.category = venues_df.category.str.replace(r\"(.*[Pp](et|ET)\\s.*|.*[Vv](eterinarian|ETERINARIAN).*)\",\"Dobby\",regex=True)#"
   ]
  },
  {
   "cell_type": "code",
   "execution_count": 23,
   "id": "b02b5630",
   "metadata": {},
   "outputs": [],
   "source": [
    "ponder = {\"Basketball Stadium\":13,\"Coffee Shop\":7,\"Design Studio\":6,\"Dobby\":20,\"Nightlife Spot\":9,\"School\":15,\n",
    "         \"Tech Startup\":4,\"Train Station\":8,\"Vegetarian / Vegan Restaurant\":18}"
   ]
  },
  {
   "cell_type": "code",
   "execution_count": 24,
   "id": "db67f20a",
   "metadata": {},
   "outputs": [],
   "source": [
    "venues_df['ponder']= venues_df['category'].map(ponder)"
   ]
  },
  {
   "cell_type": "code",
   "execution_count": 34,
   "id": "eb67a200",
   "metadata": {},
   "outputs": [],
   "source": [
    "#borrar todos los cafés que no sean starbucks\n",
    "no_starbucks = list(venues_df.index[(venues_df[\"category\"] == \"Coffee Shop\") & (venues_df[\"nombre\"] != \"Starbucks\")])\n",
    "venues_df.drop(no_starbucks,axis=0, inplace = True)"
   ]
  },
  {
   "cell_type": "code",
   "execution_count": 35,
   "id": "ac336975",
   "metadata": {
    "scrolled": false
   },
   "outputs": [],
   "source": [
    "venues_df.reset_index(drop = True,inplace = True)"
   ]
  },
  {
   "cell_type": "code",
   "execution_count": 36,
   "id": "bcbc85be",
   "metadata": {},
   "outputs": [],
   "source": [
    "venues_df.to_csv(\"../data/venues_df.csv\",index = False)"
   ]
  },
  {
   "cell_type": "code",
   "execution_count": 37,
   "id": "82e1ee1d",
   "metadata": {},
   "outputs": [
    {
     "data": {
      "text/html": [
       "<div>\n",
       "<style scoped>\n",
       "    .dataframe tbody tr th:only-of-type {\n",
       "        vertical-align: middle;\n",
       "    }\n",
       "\n",
       "    .dataframe tbody tr th {\n",
       "        vertical-align: top;\n",
       "    }\n",
       "\n",
       "    .dataframe thead th {\n",
       "        text-align: right;\n",
       "    }\n",
       "</style>\n",
       "<table border=\"1\" class=\"dataframe\">\n",
       "  <thead>\n",
       "    <tr style=\"text-align: right;\">\n",
       "      <th></th>\n",
       "      <th>nombre</th>\n",
       "      <th>sub_category</th>\n",
       "      <th>latitud</th>\n",
       "      <th>longitud</th>\n",
       "      <th>distance</th>\n",
       "      <th>city</th>\n",
       "      <th>category</th>\n",
       "      <th>ponder</th>\n",
       "      <th>geometry</th>\n",
       "    </tr>\n",
       "  </thead>\n",
       "  <tbody>\n",
       "    <tr>\n",
       "      <th>0</th>\n",
       "      <td>Urbanspace Interiors</td>\n",
       "      <td>Design Studio</td>\n",
       "      <td>30.269045</td>\n",
       "      <td>-97.751530</td>\n",
       "      <td>455</td>\n",
       "      <td>Austin</td>\n",
       "      <td>Design Studio</td>\n",
       "      <td>6</td>\n",
       "      <td>POINT (-97.75153 30.26905)</td>\n",
       "    </tr>\n",
       "    <tr>\n",
       "      <th>1</th>\n",
       "      <td>Jonathan Adler</td>\n",
       "      <td>Design Studio</td>\n",
       "      <td>30.270651</td>\n",
       "      <td>-97.755635</td>\n",
       "      <td>68</td>\n",
       "      <td>Austin</td>\n",
       "      <td>Design Studio</td>\n",
       "      <td>6</td>\n",
       "      <td>POINT (-97.75563 30.27065)</td>\n",
       "    </tr>\n",
       "  </tbody>\n",
       "</table>\n",
       "</div>"
      ],
      "text/plain": [
       "                 nombre   sub_category    latitud   longitud  distance  \\\n",
       "0  Urbanspace Interiors  Design Studio  30.269045 -97.751530       455   \n",
       "1        Jonathan Adler  Design Studio  30.270651 -97.755635        68   \n",
       "\n",
       "     city       category  ponder                    geometry  \n",
       "0  Austin  Design Studio       6  POINT (-97.75153 30.26905)  \n",
       "1  Austin  Design Studio       6  POINT (-97.75563 30.27065)  "
      ]
     },
     "execution_count": 37,
     "metadata": {},
     "output_type": "execute_result"
    }
   ],
   "source": [
    "geo_venues = gpd.GeoDataFrame(venues_df, geometry=gpd.points_from_xy(venues_df.longitud,venues_df.latitud))\n",
    "geo_venues.drop(\"location\", axis=1, inplace = True)\n",
    "geo_venues.head(2)"
   ]
  },
  {
   "cell_type": "code",
   "execution_count": 38,
   "id": "11e54fd0",
   "metadata": {},
   "outputs": [],
   "source": [
    "geo_venues.to_csv(\"../data/geo_venus.csv\",index=False)"
   ]
  },
  {
   "cell_type": "code",
   "execution_count": 39,
   "id": "548cf763",
   "metadata": {},
   "outputs": [
    {
     "name": "stderr",
     "output_type": "stream",
     "text": [
      "/home/sinatxe/anaconda3/envs/ironhack/lib/python3.8/site-packages/geopandas/geodataframe.py:1350: UserWarning: Geometry column does not contain geometry.\n",
      "  warnings.warn(\"Geometry column does not contain geometry.\")\n"
     ]
    },
    {
     "data": {
      "text/plain": [
       "<pymongo.results.InsertManyResult at 0x7fa23585dd40>"
      ]
     },
     "execution_count": 39,
     "metadata": {},
     "output_type": "execute_result"
    }
   ],
   "source": [
    "geo_venues['geometry']=geo_venues['geometry'].apply(lambda x:shapely.geometry.mapping(x))\n",
    "geo_venus_dic = geo_venues.to_dict(orient=\"records\")\n",
    "geospatial.create_index([(\"geometry\", GEOSPHERE)])\n",
    "geospatial.insert_many(geo_venus_dic)"
   ]
  },
  {
   "cell_type": "code",
   "execution_count": 40,
   "id": "6249a7a0",
   "metadata": {},
   "outputs": [],
   "source": [
    "aus_coor = [-97.75551842126049,30.27125853189173] #longitud / latitud\n",
    "Ham_coor =[10.002900693677232, 53.55687309076416]\n",
    "Ncas_coor =  [-1.6162802662146134 ,54.96923892979405]"
   ]
  },
  {
   "cell_type": "code",
   "execution_count": 41,
   "id": "40557acb",
   "metadata": {},
   "outputs": [
    {
     "data": {
      "text/plain": [
       "<pymongo.results.InsertManyResult at 0x7fa23553f4c0>"
      ]
     },
     "execution_count": 41,
     "metadata": {},
     "output_type": "execute_result"
    }
   ],
   "source": [
    "austin_near = [{\"$geoNear\": {\n",
    "            \"near\": aus_coor,\n",
    "            \"distanceField\": \"lejos\",\n",
    "            \"maxDistance\": 1000,\n",
    "             \"distanceMultiplier\" :6371,\n",
    "            \"spherical\": True}}]\n",
    "geoloc_austin = geospatial.aggregate(austin_near)\n",
    "geoaus.create_index([(\"geometry\", GEOSPHERE)])\n",
    "geoaus.insert_many(geoloc_austin)"
   ]
  },
  {
   "cell_type": "code",
   "execution_count": 42,
   "id": "96775822",
   "metadata": {},
   "outputs": [
    {
     "data": {
      "text/plain": [
       "<pymongo.results.InsertManyResult at 0x7fa235931740>"
      ]
     },
     "execution_count": 42,
     "metadata": {},
     "output_type": "execute_result"
    }
   ],
   "source": [
    "hamburg_near = [{\"$geoNear\": {\n",
    "            \"near\": Ham_coor,\n",
    "            \"distanceField\": \"lejos\",\n",
    "            \"maxDistance\": 2000,\n",
    "             \"distanceMultiplier\" :6371,\n",
    "            \"spherical\": True}}]\n",
    "geoloc_hamburg = geospatial.aggregate(hamburg_near)\n",
    "geoham.create_index([(\"geometry\", GEOSPHERE)])\n",
    "geoham.insert_many(geoloc_hamburg)"
   ]
  },
  {
   "cell_type": "code",
   "execution_count": 43,
   "id": "5db8751e",
   "metadata": {},
   "outputs": [
    {
     "data": {
      "text/plain": [
       "<pymongo.results.InsertManyResult at 0x7fa235497500>"
      ]
     },
     "execution_count": 43,
     "metadata": {},
     "output_type": "execute_result"
    }
   ],
   "source": [
    "Newcastle_near = [{\"$geoNear\": {\n",
    "            \"near\": Ncas_coor,\n",
    "            \"distanceField\": \"lejos\",\n",
    "            \"maxDistance\": 2000,\n",
    "            \"distanceMultiplier\" :6371,\n",
    "            \"spherical\": True}}]\n",
    "geoloc_ncas = geospatial.aggregate(Newcastle_near)\n",
    "geonew.create_index([(\"geometry\", GEOSPHERE)])\n",
    "geonew.insert_many(geoloc_ncas)"
   ]
  },
  {
   "cell_type": "code",
   "execution_count": 62,
   "id": "38a2be6b",
   "metadata": {},
   "outputs": [],
   "source": [
    "proy = {\"nombre\":1,\"latitud\":1,\"longitud\":1,\"category\":1,\"lejos\":1,\"_id\":0,\"ponder\":1}"
   ]
  },
  {
   "cell_type": "code",
   "execution_count": 63,
   "id": "39cc8cdd",
   "metadata": {},
   "outputs": [],
   "source": [
    "cond_aus = {\"city\":\"Austin\"}\n",
    "austin_venues = list(geoaus.find(cond_aus,proy))"
   ]
  },
  {
   "cell_type": "code",
   "execution_count": 64,
   "id": "420c14bd",
   "metadata": {},
   "outputs": [],
   "source": [
    "cond_ham = {\"city\":\"Hamburg\"}\n",
    "hamburg_venues = list(geoham.find(cond_ham,proy))"
   ]
  },
  {
   "cell_type": "code",
   "execution_count": 65,
   "id": "e6f2540e",
   "metadata": {},
   "outputs": [],
   "source": [
    "cond_new = {\"city\":\"Newcastle\"}\n",
    "Newcastle_venues = list(geonew.find(cond_new,proy))"
   ]
  },
  {
   "cell_type": "code",
   "execution_count": 66,
   "id": "1c94e04d",
   "metadata": {},
   "outputs": [],
   "source": [
    "aus_dis = pd.DataFrame(austin_venues)\n",
    "ham_dis = pd.DataFrame(hamburg_venues)\n",
    "new_dis = pd.DataFrame(Newcastle_venues)"
   ]
  },
  {
   "cell_type": "code",
   "execution_count": 67,
   "id": "a556ee75",
   "metadata": {},
   "outputs": [],
   "source": [
    "aus_dis[\"metros\"] = round(aus_dis[\"lejos\"]*1000,2)\n",
    "ham_dis[\"metros\"] = round(ham_dis[\"lejos\"]*1000,2)\n",
    "new_dis[\"metros\"] = round(new_dis[\"lejos\"]*1000,2)\n"
   ]
  },
  {
   "cell_type": "code",
   "execution_count": 68,
   "id": "0b7ab3c8",
   "metadata": {},
   "outputs": [],
   "source": [
    "# #geo_venues.to_csv(\"../data/geo_venus.csv\",index=False)\n",
    "# aus_dis.to_csv = (\"aus_dis.csv\")\n",
    "# ham_dis.to_csv = (\"../data/ham_dis.csv\")\n",
    "# new_dis.to_csv = (\"../data/new_dis.csv\")"
   ]
  },
  {
   "cell_type": "code",
   "execution_count": 73,
   "id": "391ec312",
   "metadata": {},
   "outputs": [],
   "source": [
    "aus_media = aus_dis.groupby([\"category\",\"ponder\"]).agg({\"metros\":\"mean\"}).reset_index()\n",
    "ham_media = ham_dis.groupby([\"category\",\"ponder\"]).agg({\"metros\":\"mean\"}).reset_index()\n",
    "new_media = new_dis.groupby([\"category\",\"ponder\"]).agg({\"metros\":\"mean\"}).reset_index()"
   ]
  },
  {
   "cell_type": "code",
   "execution_count": 74,
   "id": "cd521a15",
   "metadata": {},
   "outputs": [
    {
     "data": {
      "text/html": [
       "<div>\n",
       "<style scoped>\n",
       "    .dataframe tbody tr th:only-of-type {\n",
       "        vertical-align: middle;\n",
       "    }\n",
       "\n",
       "    .dataframe tbody tr th {\n",
       "        vertical-align: top;\n",
       "    }\n",
       "\n",
       "    .dataframe thead th {\n",
       "        text-align: right;\n",
       "    }\n",
       "</style>\n",
       "<table border=\"1\" class=\"dataframe\">\n",
       "  <thead>\n",
       "    <tr style=\"text-align: right;\">\n",
       "      <th></th>\n",
       "      <th>category</th>\n",
       "      <th>ponder</th>\n",
       "      <th>metros</th>\n",
       "    </tr>\n",
       "  </thead>\n",
       "  <tbody>\n",
       "    <tr>\n",
       "      <th>0</th>\n",
       "      <td>Coffee Shop</td>\n",
       "      <td>7</td>\n",
       "      <td>810.220000</td>\n",
       "    </tr>\n",
       "    <tr>\n",
       "      <th>1</th>\n",
       "      <td>Design Studio</td>\n",
       "      <td>6</td>\n",
       "      <td>442.829231</td>\n",
       "    </tr>\n",
       "    <tr>\n",
       "      <th>2</th>\n",
       "      <td>Dobby</td>\n",
       "      <td>20</td>\n",
       "      <td>782.315556</td>\n",
       "    </tr>\n",
       "    <tr>\n",
       "      <th>3</th>\n",
       "      <td>Nightlife Spot</td>\n",
       "      <td>9</td>\n",
       "      <td>671.856000</td>\n",
       "    </tr>\n",
       "    <tr>\n",
       "      <th>4</th>\n",
       "      <td>School</td>\n",
       "      <td>15</td>\n",
       "      <td>799.733333</td>\n",
       "    </tr>\n",
       "    <tr>\n",
       "      <th>5</th>\n",
       "      <td>Tech Startup</td>\n",
       "      <td>4</td>\n",
       "      <td>691.821333</td>\n",
       "    </tr>\n",
       "    <tr>\n",
       "      <th>6</th>\n",
       "      <td>Train Station</td>\n",
       "      <td>8</td>\n",
       "      <td>228.710000</td>\n",
       "    </tr>\n",
       "    <tr>\n",
       "      <th>7</th>\n",
       "      <td>Vegetarian / Vegan Restaurant</td>\n",
       "      <td>18</td>\n",
       "      <td>561.215000</td>\n",
       "    </tr>\n",
       "  </tbody>\n",
       "</table>\n",
       "</div>"
      ],
      "text/plain": [
       "                        category  ponder      metros\n",
       "0                    Coffee Shop       7  810.220000\n",
       "1                  Design Studio       6  442.829231\n",
       "2                          Dobby      20  782.315556\n",
       "3                 Nightlife Spot       9  671.856000\n",
       "4                         School      15  799.733333\n",
       "5                   Tech Startup       4  691.821333\n",
       "6                  Train Station       8  228.710000\n",
       "7  Vegetarian / Vegan Restaurant      18  561.215000"
      ]
     },
     "execution_count": 74,
     "metadata": {},
     "output_type": "execute_result"
    }
   ],
   "source": [
    "aus_media"
   ]
  },
  {
   "cell_type": "code",
   "execution_count": 75,
   "id": "c01fe93c",
   "metadata": {},
   "outputs": [
    {
     "data": {
      "text/plain": [
       "567.17"
      ]
     },
     "execution_count": 75,
     "metadata": {},
     "output_type": "execute_result"
    }
   ],
   "source": [
    "aus_media.metros = round(aus_media.metros,2)\n",
    "aus_media['punt'] = round(((aus_media[\"metros\"]*aus_media[\"ponder\"])/100),2)\n",
    "Austin_punt = round(sum(aus_media.punt),2)\n",
    "Austin_punt"
   ]
  },
  {
   "cell_type": "code",
   "execution_count": 76,
   "id": "d15f0474",
   "metadata": {},
   "outputs": [
    {
     "data": {
      "text/plain": [
       "535.79"
      ]
     },
     "execution_count": 76,
     "metadata": {},
     "output_type": "execute_result"
    }
   ],
   "source": [
    "ham_media.metros = round(ham_media.metros,2)\n",
    "ham_media['ponder']= ham_media['category'].map(ponder)\n",
    "ham_media['punt'] = round(((ham_media[\"metros\"]*ham_media[\"ponder\"])/100),2)\n",
    "Hamburg_punt = round(sum(ham_media.punt),2)\n",
    "Hamburg_punt"
   ]
  },
  {
   "cell_type": "code",
   "execution_count": 77,
   "id": "9878a2ac",
   "metadata": {},
   "outputs": [
    {
     "data": {
      "text/plain": [
       "316.62"
      ]
     },
     "execution_count": 77,
     "metadata": {},
     "output_type": "execute_result"
    }
   ],
   "source": [
    "new_media.metros = round(new_media.metros,2)\n",
    "new_media['ponder']= new_media['category'].map(ponder)\n",
    "new_media['punt'] = round(((new_media[\"metros\"]*new_media[\"ponder\"])/100),2)\n",
    "Newcastle_punt = round(sum(new_media.punt),2)\n",
    "Newcastle_punt"
   ]
  },
  {
   "cell_type": "code",
   "execution_count": null,
   "id": "8401a83b",
   "metadata": {},
   "outputs": [],
   "source": []
  }
 ],
 "metadata": {
  "kernelspec": {
   "display_name": "ironhack",
   "language": "python",
   "name": "ironhack"
  },
  "language_info": {
   "codemirror_mode": {
    "name": "ipython",
    "version": 3
   },
   "file_extension": ".py",
   "mimetype": "text/x-python",
   "name": "python",
   "nbconvert_exporter": "python",
   "pygments_lexer": "ipython3",
   "version": "3.8.5"
  }
 },
 "nbformat": 4,
 "nbformat_minor": 5
}
