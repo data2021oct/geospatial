{
 "cells": [
  {
   "cell_type": "code",
   "execution_count": 1,
   "id": "38a33fae",
   "metadata": {},
   "outputs": [
    {
     "data": {
      "text/plain": [
       "True"
      ]
     },
     "execution_count": 1,
     "metadata": {},
     "output_type": "execute_result"
    }
   ],
   "source": [
    "from pymongo import MongoClient\n",
    "import pandas as pd\n",
    "import requests\n",
    "import json\n",
    "from dotenv import load_dotenv\n",
    "import os\n",
    "import numpy as np\n",
    "load_dotenv()"
   ]
  },
  {
   "cell_type": "code",
   "execution_count": 2,
   "id": "97276ede",
   "metadata": {},
   "outputs": [],
   "source": [
    "client = MongoClient(\"localhost:27017\")\n",
    "db = client.get_database(\"ironhack\")\n",
    "companies = db.get_collection(\"companies\")"
   ]
  },
  {
   "cell_type": "markdown",
   "id": "7dac714a",
   "metadata": {},
   "source": [
    "### Selección de algunas compañías:\n",
    "- misma actividad que la propuesta y que dispongamos de su localización exacta\n",
    "- solo mostraremos el nombre, su actividad, el dinero recaudado y la localización de sus oficinas."
   ]
  },
  {
   "cell_type": "code",
   "execution_count": 3,
   "id": "a42820bf",
   "metadata": {},
   "outputs": [
    {
     "data": {
      "text/plain": [
       "{'name': 'Lala',\n",
       " 'category_code': 'games_video',\n",
       " 'total_money_raised': '$44.2M',\n",
       " 'offices': [{'city': 'Palo Alto',\n",
       "   'latitude': 37.451151,\n",
       "   'longitude': -122.154369}]}"
      ]
     },
     "execution_count": 3,
     "metadata": {},
     "output_type": "execute_result"
    }
   ],
   "source": [
    "proyec = {\"name\":1,\"category_code\": 1, \"_id\": 0,\"total_money_raised\":1,\n",
    "          \"offices.city\":1, \"offices.latitude\":1, \"offices.longitude\":1}\n",
    "cond = {\"category_code\": \"games_video\", \"total_money_raised\":{\"$ne\":\"$0\"},\n",
    "        \"offices.latitude\":{\"$type\": \"double\"},\"offices.longitude\":{\"$type\": \"double\"},\n",
    "       }\n",
    "list(companies.find(cond,proyec))[0]"
   ]
  },
  {
   "cell_type": "code",
   "execution_count": 4,
   "id": "531c2e6c",
   "metadata": {},
   "outputs": [
    {
     "data": {
      "text/html": [
       "<div>\n",
       "<style scoped>\n",
       "    .dataframe tbody tr th:only-of-type {\n",
       "        vertical-align: middle;\n",
       "    }\n",
       "\n",
       "    .dataframe tbody tr th {\n",
       "        vertical-align: top;\n",
       "    }\n",
       "\n",
       "    .dataframe thead th {\n",
       "        text-align: right;\n",
       "    }\n",
       "</style>\n",
       "<table border=\"1\" class=\"dataframe\">\n",
       "  <thead>\n",
       "    <tr style=\"text-align: right;\">\n",
       "      <th></th>\n",
       "      <th>name</th>\n",
       "      <th>category_code</th>\n",
       "      <th>total_money_raised</th>\n",
       "      <th>offices</th>\n",
       "    </tr>\n",
       "  </thead>\n",
       "  <tbody>\n",
       "    <tr>\n",
       "      <th>89</th>\n",
       "      <td>2threads</td>\n",
       "      <td>games_video</td>\n",
       "      <td>$300k</td>\n",
       "      <td>[{'city': 'sydney', 'latitude': -33.884685, 'l...</td>\n",
       "    </tr>\n",
       "    <tr>\n",
       "      <th>75</th>\n",
       "      <td>Outspark</td>\n",
       "      <td>games_video</td>\n",
       "      <td>$23.3M</td>\n",
       "      <td>[{'city': 'San Francisco', 'latitude': 37.7751...</td>\n",
       "    </tr>\n",
       "  </tbody>\n",
       "</table>\n",
       "</div>"
      ],
      "text/plain": [
       "        name category_code total_money_raised  \\\n",
       "89  2threads   games_video              $300k   \n",
       "75  Outspark   games_video             $23.3M   \n",
       "\n",
       "                                              offices  \n",
       "89  [{'city': 'sydney', 'latitude': -33.884685, 'l...  \n",
       "75  [{'city': 'San Francisco', 'latitude': 37.7751...  "
      ]
     },
     "execution_count": 4,
     "metadata": {},
     "output_type": "execute_result"
    }
   ],
   "source": [
    "selec = pd.DataFrame(list(companies.find(cond,proyec)))\n",
    "selec.sample(2)"
   ]
  },
  {
   "cell_type": "code",
   "execution_count": 5,
   "id": "9b498f4a",
   "metadata": {},
   "outputs": [],
   "source": [
    "selec.total_money_raised = selec.total_money_raised.str.strip()"
   ]
  },
  {
   "cell_type": "code",
   "execution_count": 6,
   "id": "78ae95cb",
   "metadata": {},
   "outputs": [],
   "source": [
    "#creamos nuevas columnas en función del dinero recaudado, su moneda y el total \n",
    "selec[\"amount\"] = selec.total_money_raised.str.extract(r\"(.)(\\d+|\\d+.\\d+)(.$)\")[1]\n",
    "selec[\"mil\"] = selec.total_money_raised.str.extract(r\"(.)(\\d+|\\d+.\\d+)(.$)\")[2]\n",
    "selec[\"currency\"] = selec.total_money_raised.str.extract(r\"(.)(\\d+|\\d+.\\d+)(.$)\")[0]"
   ]
  },
  {
   "cell_type": "code",
   "execution_count": 7,
   "id": "04ac10cb",
   "metadata": {},
   "outputs": [
    {
     "data": {
      "text/plain": [
       "array(['$', '€', '£'], dtype=object)"
      ]
     },
     "execution_count": 7,
     "metadata": {},
     "output_type": "execute_result"
    }
   ],
   "source": [
    "selec.currency.unique()"
   ]
  },
  {
   "cell_type": "code",
   "execution_count": 8,
   "id": "7bfaed8d",
   "metadata": {},
   "outputs": [
    {
     "data": {
      "text/plain": [
       "array(['M', 'k'], dtype=object)"
      ]
     },
     "execution_count": 8,
     "metadata": {},
     "output_type": "execute_result"
    }
   ],
   "source": [
    "selec.mil.unique()"
   ]
  },
  {
   "cell_type": "markdown",
   "id": "77930ee6",
   "metadata": {},
   "source": [
    "- como solo hay tres tipos de monedas entre nuestra selección de compañía, elegimos una ciudad por cada moneda\n",
    "- también que halla ganados millones y no miles."
   ]
  },
  {
   "cell_type": "code",
   "execution_count": 9,
   "id": "9690b472",
   "metadata": {},
   "outputs": [],
   "source": [
    "dol = selec[(selec[\"currency\"] == '$') & (selec[\"mil\"] == \"M\")].sort_values(\"amount\",ascending = False).head(1)\n",
    "city1 = dol[\"offices\"].values[0][0][\"city\"]"
   ]
  },
  {
   "cell_type": "code",
   "execution_count": 10,
   "id": "8d6aefa4",
   "metadata": {},
   "outputs": [],
   "source": [
    "eur = selec[(selec[\"currency\"] == '€') & (selec[\"mil\"] == \"M\")].sort_values(\"amount\",ascending = False).head(1)\n",
    "city2 = eur[\"offices\"].values[0][0][\"city\"]"
   ]
  },
  {
   "cell_type": "code",
   "execution_count": 11,
   "id": "a0d3544c",
   "metadata": {
    "scrolled": true
   },
   "outputs": [],
   "source": [
    "pounds = selec[(selec[\"currency\"] == '£') & (selec[\"mil\"] == \"M\")].sort_values(\"amount\",ascending = False).head(1)\n",
    "city3 = pounds[\"offices\"].values[0][0][\"city\"]"
   ]
  },
  {
   "cell_type": "code",
   "execution_count": 12,
   "id": "720ff7b6",
   "metadata": {},
   "outputs": [],
   "source": [
    "cities= [city1,city2,city3]"
   ]
  },
  {
   "cell_type": "markdown",
   "id": "22793a80",
   "metadata": {},
   "source": [
    "## Ciudades elegidas"
   ]
  },
  {
   "cell_type": "code",
   "execution_count": 13,
   "id": "27d027d9",
   "metadata": {},
   "outputs": [
    {
     "data": {
      "text/plain": [
       "['Austin', 'Hamburg', 'Newcastle Upon Tyne']"
      ]
     },
     "execution_count": 13,
     "metadata": {},
     "output_type": "execute_result"
    }
   ],
   "source": [
    "cities"
   ]
  },
  {
   "cell_type": "code",
   "execution_count": null,
   "id": "123cc337",
   "metadata": {},
   "outputs": [],
   "source": []
  }
 ],
 "metadata": {
  "kernelspec": {
   "display_name": "ironhack",
   "language": "python",
   "name": "ironhack"
  },
  "language_info": {
   "codemirror_mode": {
    "name": "ipython",
    "version": 3
   },
   "file_extension": ".py",
   "mimetype": "text/x-python",
   "name": "python",
   "nbconvert_exporter": "python",
   "pygments_lexer": "ipython3",
   "version": "3.8.5"
  }
 },
 "nbformat": 4,
 "nbformat_minor": 5
}
