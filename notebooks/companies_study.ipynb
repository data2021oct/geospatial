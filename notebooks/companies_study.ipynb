{
 "cells": [
  {
   "cell_type": "code",
   "execution_count": 13,
   "id": "38a33fae",
   "metadata": {},
   "outputs": [
    {
     "data": {
      "text/plain": [
       "True"
      ]
     },
     "execution_count": 13,
     "metadata": {},
     "output_type": "execute_result"
    }
   ],
   "source": [
    "from pymongo import MongoClient\n",
    "import pandas as pd\n",
    "import requests\n",
    "import json\n",
    "from dotenv import load_dotenv\n",
    "import os\n",
    "import pandas as pd\n",
    "import numpy as np\n",
    "from pymongo import GEOSPHERE\n",
    "load_dotenv()"
   ]
  },
  {
   "cell_type": "code",
   "execution_count": 14,
   "id": "97276ede",
   "metadata": {},
   "outputs": [],
   "source": [
    "client = MongoClient(\"localhost:27017\")\n",
    "db = client.get_database(\"ironhack\")\n",
    "companies = db.get_collection(\"companies\")"
   ]
  },
  {
   "cell_type": "code",
   "execution_count": 15,
   "id": "a42820bf",
   "metadata": {},
   "outputs": [
    {
     "data": {
      "text/plain": [
       "{'name': 'Ustream',\n",
       " 'category_code': 'games_video',\n",
       " 'total_money_raised': '$60.1M',\n",
       " 'offices': [{'city': 'San Francisco',\n",
       "   'latitude': 37.392936,\n",
       "   'longitude': -122.07948},\n",
       "  {'city': 'Los Angeles', 'latitude': None, 'longitude': None},\n",
       "  {'city': 'Budapest', 'latitude': None, 'longitude': None}]}"
      ]
     },
     "execution_count": 15,
     "metadata": {},
     "output_type": "execute_result"
    }
   ],
   "source": [
    "proyec = {\"name\":1,\"category_code\": 1, \"_id\": 0,\"total_money_raised\":1,  \"offices.city\":1, \"offices.latitude\":1, \"offices.longitude\":1}\n",
    "cond = {\"category_code\": \"games_video\", \"total_money_raised\":{\"$ne\":\"$0\"}, \"offices.latitude\":{\"$type\": \"double\"},\"offices.longitude\":{\"$type\": \"double\"}}\n",
    "list(companies.find(cond,proyec))[8]"
   ]
  },
  {
   "cell_type": "code",
   "execution_count": 16,
   "id": "531c2e6c",
   "metadata": {},
   "outputs": [],
   "source": [
    "selec = pd.DataFrame(list(companies.find(cond,proyec)))"
   ]
  },
  {
   "cell_type": "code",
   "execution_count": 18,
   "id": "9b498f4a",
   "metadata": {},
   "outputs": [],
   "source": [
    "selec.total_money_raised = selec.total_money_raised.str.strip()"
   ]
  },
  {
   "cell_type": "code",
   "execution_count": 19,
   "id": "78ae95cb",
   "metadata": {},
   "outputs": [],
   "source": [
    "selec[\"amount\"] = selec.total_money_raised.str.extract(r\"(.)(\\d+|\\d+.\\d+)(.$)\")[1]\n",
    "selec[\"mil\"] = selec.total_money_raised.str.extract(r\"(.)(\\d+|\\d+.\\d+)(.$)\")[2]\n",
    "selec[\"currency\"] = selec.total_money_raised.str.extract(r\"(.)(\\d+|\\d+.\\d+)(.$)\")[0]"
   ]
  },
  {
   "cell_type": "code",
   "execution_count": 20,
   "id": "04ac10cb",
   "metadata": {},
   "outputs": [
    {
     "data": {
      "text/plain": [
       "array(['$', '€', '£'], dtype=object)"
      ]
     },
     "execution_count": 20,
     "metadata": {},
     "output_type": "execute_result"
    }
   ],
   "source": [
    "selec.currency.unique()"
   ]
  },
  {
   "cell_type": "code",
   "execution_count": 21,
   "id": "3d125e7e",
   "metadata": {},
   "outputs": [
    {
     "data": {
      "text/plain": [
       "array(['M', 'k'], dtype=object)"
      ]
     },
     "execution_count": 21,
     "metadata": {},
     "output_type": "execute_result"
    }
   ],
   "source": [
    "selec.mil.unique()"
   ]
  },
  {
   "cell_type": "code",
   "execution_count": 22,
   "id": "57b99e0b",
   "metadata": {},
   "outputs": [
    {
     "data": {
      "text/html": [
       "<div>\n",
       "<style scoped>\n",
       "    .dataframe tbody tr th:only-of-type {\n",
       "        vertical-align: middle;\n",
       "    }\n",
       "\n",
       "    .dataframe tbody tr th {\n",
       "        vertical-align: top;\n",
       "    }\n",
       "\n",
       "    .dataframe thead th {\n",
       "        text-align: right;\n",
       "    }\n",
       "</style>\n",
       "<table border=\"1\" class=\"dataframe\">\n",
       "  <thead>\n",
       "    <tr style=\"text-align: right;\">\n",
       "      <th></th>\n",
       "      <th>name</th>\n",
       "      <th>category_code</th>\n",
       "      <th>total_money_raised</th>\n",
       "      <th>offices</th>\n",
       "      <th>amount</th>\n",
       "      <th>mil</th>\n",
       "      <th>currency</th>\n",
       "    </tr>\n",
       "  </thead>\n",
       "  <tbody>\n",
       "    <tr>\n",
       "      <th>0</th>\n",
       "      <td>Lala</td>\n",
       "      <td>games_video</td>\n",
       "      <td>$44.2M</td>\n",
       "      <td>[{'city': 'Palo Alto', 'latitude': 37.451151, ...</td>\n",
       "      <td>44.2</td>\n",
       "      <td>M</td>\n",
       "      <td>$</td>\n",
       "    </tr>\n",
       "    <tr>\n",
       "      <th>1</th>\n",
       "      <td>Joost</td>\n",
       "      <td>games_video</td>\n",
       "      <td>$45M</td>\n",
       "      <td>[{'city': 'New York', 'latitude': 40.7464969, ...</td>\n",
       "      <td>45</td>\n",
       "      <td>M</td>\n",
       "      <td>$</td>\n",
       "    </tr>\n",
       "    <tr>\n",
       "      <th>2</th>\n",
       "      <td>Babelgum</td>\n",
       "      <td>games_video</td>\n",
       "      <td>$13.2M</td>\n",
       "      <td>[{'city': 'London', 'latitude': 53.344104, 'lo...</td>\n",
       "      <td>13.2</td>\n",
       "      <td>M</td>\n",
       "      <td>$</td>\n",
       "    </tr>\n",
       "    <tr>\n",
       "      <th>3</th>\n",
       "      <td>Kyte</td>\n",
       "      <td>games_video</td>\n",
       "      <td>$23.4M</td>\n",
       "      <td>[{'city': 'San Francisco', 'latitude': 37.7884...</td>\n",
       "      <td>23.4</td>\n",
       "      <td>M</td>\n",
       "      <td>$</td>\n",
       "    </tr>\n",
       "    <tr>\n",
       "      <th>4</th>\n",
       "      <td>Veoh</td>\n",
       "      <td>games_video</td>\n",
       "      <td>$69.8M</td>\n",
       "      <td>[{'city': 'San Diego', 'latitude': 32.902266, ...</td>\n",
       "      <td>69.8</td>\n",
       "      <td>M</td>\n",
       "      <td>$</td>\n",
       "    </tr>\n",
       "  </tbody>\n",
       "</table>\n",
       "</div>"
      ],
      "text/plain": [
       "       name category_code total_money_raised  \\\n",
       "0      Lala   games_video             $44.2M   \n",
       "1     Joost   games_video               $45M   \n",
       "2  Babelgum   games_video             $13.2M   \n",
       "3      Kyte   games_video             $23.4M   \n",
       "4      Veoh   games_video             $69.8M   \n",
       "\n",
       "                                             offices amount mil currency  \n",
       "0  [{'city': 'Palo Alto', 'latitude': 37.451151, ...   44.2   M        $  \n",
       "1  [{'city': 'New York', 'latitude': 40.7464969, ...     45   M        $  \n",
       "2  [{'city': 'London', 'latitude': 53.344104, 'lo...   13.2   M        $  \n",
       "3  [{'city': 'San Francisco', 'latitude': 37.7884...   23.4   M        $  \n",
       "4  [{'city': 'San Diego', 'latitude': 32.902266, ...   69.8   M        $  "
      ]
     },
     "execution_count": 22,
     "metadata": {},
     "output_type": "execute_result"
    }
   ],
   "source": [
    "selec.head()"
   ]
  },
  {
   "cell_type": "code",
   "execution_count": 43,
   "id": "9690b472",
   "metadata": {},
   "outputs": [],
   "source": [
    "dol = selec[(selec[\"currency\"] == '$') & (selec[\"mil\"] == \"M\")].sort_values(\"amount\",ascending = False).head(1)\n",
    "city1 = dol[\"offices\"].values[0][0][\"city\"]"
   ]
  },
  {
   "cell_type": "code",
   "execution_count": 44,
   "id": "8d6aefa4",
   "metadata": {},
   "outputs": [],
   "source": [
    "eur = selec[(selec[\"currency\"] == '€') & (selec[\"mil\"] == \"M\")].sort_values(\"amount\",ascending = False).head(1)\n",
    "city2 = eur[\"offices\"].values[0][0][\"city\"]"
   ]
  },
  {
   "cell_type": "code",
   "execution_count": 45,
   "id": "a0d3544c",
   "metadata": {
    "scrolled": true
   },
   "outputs": [],
   "source": [
    "pounds = selec[(selec[\"currency\"] == '£') & (selec[\"mil\"] == \"M\")].sort_values(\"amount\",ascending = False).head(1)\n",
    "city3 = pounds[\"offices\"].values[0][0][\"city\"]"
   ]
  },
  {
   "cell_type": "code",
   "execution_count": 46,
   "id": "d142e7d4",
   "metadata": {},
   "outputs": [],
   "source": [
    "cities= [city1,city2,city3]"
   ]
  },
  {
   "cell_type": "code",
   "execution_count": 47,
   "id": "438a685d",
   "metadata": {},
   "outputs": [
    {
     "data": {
      "text/plain": [
       "['Austin', 'Hamburg', 'Newcastle Upon Tyne']"
      ]
     },
     "execution_count": 47,
     "metadata": {},
     "output_type": "execute_result"
    }
   ],
   "source": [
    "cities"
   ]
  },
  {
   "cell_type": "code",
   "execution_count": null,
   "id": "91bd474c",
   "metadata": {},
   "outputs": [],
   "source": []
  }
 ],
 "metadata": {
  "kernelspec": {
   "display_name": "ironhack",
   "language": "python",
   "name": "ironhack"
  },
  "language_info": {
   "codemirror_mode": {
    "name": "ipython",
    "version": 3
   },
   "file_extension": ".py",
   "mimetype": "text/x-python",
   "name": "python",
   "nbconvert_exporter": "python",
   "pygments_lexer": "ipython3",
   "version": "3.8.5"
  }
 },
 "nbformat": 4,
 "nbformat_minor": 5
}
