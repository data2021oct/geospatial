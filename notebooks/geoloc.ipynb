{
 "cells": [
  {
   "cell_type": "code",
   "execution_count": 1,
   "id": "207179a5",
   "metadata": {},
   "outputs": [
    {
     "data": {
      "text/plain": [
       "True"
      ]
     },
     "execution_count": 1,
     "metadata": {},
     "output_type": "execute_result"
    }
   ],
   "source": [
    "import requests\n",
    "import json\n",
    "import os\n",
    "import pandas as pd\n",
    "from functools import reduce\n",
    "import operator\n",
    "import pyjsonviewer\n",
    "import geopandas as gpd\n",
    "import time\n",
    "\n",
    "from dotenv import load_dotenv\n",
    "load_dotenv()"
   ]
  },
  {
   "cell_type": "code",
   "execution_count": 2,
   "id": "8eda0f1a",
   "metadata": {},
   "outputs": [],
   "source": [
    "def geocode(direccion):\n",
    "    \"\"\"\n",
    "    Esta función saca las coordenadas de la dirección que le pases\n",
    "    \"\"\"\n",
    "    data = requests.get(f\"https://geocode.xyz/{direccion}?json=1\").json()\n",
    "    try:\n",
    "        return {\"type\": \"Point\", \"coordinates\": [data[\"latt\"], data[\"longt\"]]}\n",
    "    except:\n",
    "        return data"
   ]
  },
  {
   "cell_type": "code",
   "execution_count": 3,
   "id": "3ea4894a",
   "metadata": {},
   "outputs": [],
   "source": [
    "def getFromDict(diccionario,mapa):\n",
    "    return reduce(operator.getitem,mapa,diccionario)"
   ]
  },
  {
   "cell_type": "code",
   "execution_count": 4,
   "id": "151b7993",
   "metadata": {},
   "outputs": [],
   "source": [
    "def type_point(lista):\n",
    "    return {\"type\":\"Point\", \"coordinates\": lista}"
   ]
  },
  {
   "cell_type": "code",
   "execution_count": 5,
   "id": "1064c4d1",
   "metadata": {},
   "outputs": [],
   "source": [
    "categories = pd.read_csv(\"../data/categories.csv\")"
   ]
  },
  {
   "cell_type": "code",
   "execution_count": 9,
   "id": "861483db",
   "metadata": {
    "scrolled": true
   },
   "outputs": [],
   "source": [
    "def categories_dic(cat_list):    \n",
    "    dicc = {}\n",
    "    for c in cat_list:\n",
    "        dicc[c] = categories.categoryId[categories[\"category\"] == c].values[0]\n",
    "    return dicc"
   ]
  },
  {
   "cell_type": "code",
   "execution_count": 10,
   "id": "015e5959",
   "metadata": {},
   "outputs": [],
   "source": [
    "venues_list = [\"Design Studio\",\"Nursery School\",\"Preschool\",\"Elementary School\",\"Tech Startup\",\"Coffee Shop\",\n",
    "               \"Airport Terminal\",\"Train Station\",\n",
    "              \"Nightlife Spot\",\"Vegetarian / Vegan Restaurant\",\"Basketball Stadium\",\n",
    "               \"Veterinarian\",\"Pet Service\",\"Pet Store\"]  "
   ]
  },
  {
   "cell_type": "code",
   "execution_count": 141,
   "id": "453f3ffa",
   "metadata": {},
   "outputs": [
    {
     "data": {
      "text/plain": [
       "{'Design Studio': '4bf58dd8d48988d1f4941735',\n",
       " 'Nursery School': '4f4533814b9074f6e4fb0107',\n",
       " 'Preschool': '52e81612bcbc57f1066b7a45',\n",
       " 'Elementary School': '4f4533804b9074f6e4fb0105',\n",
       " 'Tech Startup': '4bf58dd8d48988d125941735',\n",
       " 'Coffee Shop': '4bf58dd8d48988d1e0931735',\n",
       " 'Airport Terminal': '4bf58dd8d48988d1eb931735',\n",
       " 'Train Station': '4bf58dd8d48988d129951735',\n",
       " 'Nightlife Spot': '4d4b7105d754a06376d81259',\n",
       " 'Vegetarian / Vegan Restaurant': '4bf58dd8d48988d1d3941735',\n",
       " 'Basketball Stadium': '4bf58dd8d48988d18b941735',\n",
       " 'Veterinarian': '4d954af4a243a5684765b473',\n",
       " 'Pet Service': '5032897c91d4c4b30a586d69',\n",
       " 'Pet Store': '4bf58dd8d48988d100951735'}"
      ]
     },
     "execution_count": 141,
     "metadata": {},
     "output_type": "execute_result"
    }
   ],
   "source": [
    "cat_dic = categories_dic(venues_list)\n",
    "cat_dic"
   ]
  },
  {
   "cell_type": "code",
   "execution_count": 138,
   "id": "b2c684ba",
   "metadata": {},
   "outputs": [],
   "source": [
    "def localizations_coor(dicc):\n",
    "    local = {}\n",
    "    for city,loc in localizations_dicc.items():\n",
    "        local[city] = geocode(loc)[\"coordinates\"]\n",
    "        time.sleep(15)\n",
    "    return local\n",
    "    "
   ]
  },
  {
   "cell_type": "code",
   "execution_count": 139,
   "id": "4c517691",
   "metadata": {},
   "outputs": [
    {
     "data": {
      "text/plain": [
       "{'Austin': ['30.35471', '-97.69344'],\n",
       " 'Hamburg': ['53.56250', '9.95730'],\n",
       " 'Newcastle': ['54.96890', '-1.61764']}"
      ]
     },
     "execution_count": 139,
     "metadata": {},
     "output_type": "execute_result"
    }
   ],
   "source": [
    "localizations_dicc={\"Austin\":\"Texas Capitol, Austin, Texas\",\"Hamburg\":\"Hamburg city center,Hamburg,Germany\",\"Newcastle\":\"Newcastle upon Tyne, United Kingdom\"}\n",
    "localizations = localizations_coor(localizations_dicc)\n",
    "localizations"
   ]
  },
  {
   "cell_type": "code",
   "execution_count": 12,
   "id": "366ddeb3",
   "metadata": {},
   "outputs": [],
   "source": [
    "#  localizations = {'Austin': ['30.35471', '-97.69344'],\n",
    "#  'Hamburg': ['53.56250', '9.95730'],\n",
    "#  'Newcastle': ['54.96890', '-1.61764']}"
   ]
  },
  {
   "cell_type": "code",
   "execution_count": 140,
   "id": "8abd42c0",
   "metadata": {},
   "outputs": [
    {
     "data": {
      "text/plain": [
       "{'Austin': ['30.35471', '-97.69344'],\n",
       " 'Hamburg': ['53.56250', '9.95730'],\n",
       " 'Newcastle': ['54.96890', '-1.61764']}"
      ]
     },
     "execution_count": 140,
     "metadata": {},
     "output_type": "execute_result"
    }
   ],
   "source": [
    "localizations"
   ]
  },
  {
   "cell_type": "code",
   "execution_count": 14,
   "id": "f08cb41b",
   "metadata": {},
   "outputs": [],
   "source": [
    "# Austin = {\"Austin\":[30.268735, -97.745209]}\n",
    "# Hamburg = {\"Hamburg\" : [53.5973055, 9.9762519]}\n",
    "# Newcastle = {\"Newcastle\": [54.971346, -1.611141]}\n",
    "# localizations = {\"Austin\":[30.268735, -97.745209],\"Hamburg\" : [53.5973055, 9.9762519],\"Newcastle\": [54.971346, -1.611141]}\n"
   ]
  },
  {
   "cell_type": "code",
   "execution_count": 222,
   "id": "fdb13e01",
   "metadata": {},
   "outputs": [],
   "source": [
    "def place_store(localizations,cat_dic):\n",
    "    url_query = 'https://api.foursquare.com/v2/venues/search'\n",
    "    client_id = os.getenv(\"four\")\n",
    "    client_secret = os.getenv(\"foursec\")\n",
    "    \n",
    "    venues = []\n",
    "    for loc,coor in localizations.items():\n",
    "        for cat,cat_id in cat_dic.items():\n",
    "            time.sleep(1)\n",
    "            parametros={\n",
    "                \"client_id\": client_id,\n",
    "                \"client_secret\": client_secret,\n",
    "                \"v\": \"20180323\",\n",
    "                \"ll\": f\"{coor[0]}, {coor[1]}\",\n",
    "                \"categoryId\":cat_id,\n",
    "                \"radius\":2000\n",
    "            }\n",
    "            \n",
    "            venues.append(requests.get(url_query, params = parametros).json()[\"response\"][\"venues\"])\n",
    "           \n",
    "            if cat == \"Pet Store\":\n",
    "                print(f\"{loc} done\")\n",
    "    print(\"all done\")\n",
    "           \n",
    "\n",
    "    return venues"
   ]
  },
  {
   "cell_type": "code",
   "execution_count": 208,
   "id": "cb3cc7b0",
   "metadata": {
    "scrolled": true
   },
   "outputs": [],
   "source": [
    "#total_venues = place_store(localizations,cat_dic)"
   ]
  },
  {
   "cell_type": "code",
   "execution_count": 163,
   "id": "09180984",
   "metadata": {},
   "outputs": [],
   "source": [
    "venues = [ven for venues in total_venues for ven in venues]"
   ]
  },
  {
   "cell_type": "code",
   "execution_count": 164,
   "id": "12e87e8a",
   "metadata": {},
   "outputs": [],
   "source": [
    "# todo = {\"nombre\": [\"name\"],\"city\":[\"location\",\"city\"],\"country\":[\"location\",\"country\"],\"category\":[\"categories\",0,\"name\"],\n",
    "#        \"latitud\": [\"location\", \"lat\"], \"longitud\": [\"location\", \"lng\"],\"distance\":[\"location\",\"distance\"]}"
   ]
  },
  {
   "cell_type": "code",
   "execution_count": 165,
   "id": "5e309105",
   "metadata": {},
   "outputs": [],
   "source": [
    "def extraetodo(json):\n",
    "    total = []\n",
    "    try:\n",
    "        todo = {\"nombre\": [\"name\"], #\"city\":[\"location\",\"city\"],\n",
    "                \"country\":[\"location\",\"country\"],\n",
    "                \"category\":[\"categories\",0,\"name\"],\n",
    "                \"latitud\": [\"location\", \"lat\"], \"longitud\": [\"location\", \"lng\"],\"distance\":[\"location\",\"distance\"]}\n",
    "            \n",
    "        for elemento in json:\n",
    "            store = {key: getFromDict(elemento,value) for key,value in todo.items()}\n",
    "            store[\"location\"] = type_point([store[\"latitud\"], store[\"longitud\"]])\n",
    "            total.append(store)\n",
    "\n",
    "        print(\"done\")\n",
    "    except:\n",
    "        \n",
    "        print(f\"{json.index(elemento)} wrong\")\n",
    "    \n",
    "    return total"
   ]
  },
  {
   "cell_type": "code",
   "execution_count": 166,
   "id": "1a9bcd08",
   "metadata": {},
   "outputs": [
    {
     "name": "stdout",
     "output_type": "stream",
     "text": [
      "done\n"
     ]
    }
   ],
   "source": [
    "distances = extraetodo(venues)"
   ]
  },
  {
   "cell_type": "code",
   "execution_count": 167,
   "id": "b14e2c1c",
   "metadata": {},
   "outputs": [],
   "source": [
    "#venues[4] #no city, cñono incluirla??"
   ]
  },
  {
   "cell_type": "code",
   "execution_count": 188,
   "id": "463f78fb",
   "metadata": {},
   "outputs": [
    {
     "data": {
      "text/plain": [
       "{'nombre': 'Studioseminar',\n",
       " 'country': 'Deutschland',\n",
       " 'category': 'Design Studio',\n",
       " 'latitud': 53.568866,\n",
       " 'longitud': 9.98105,\n",
       " 'distance': 1722,\n",
       " 'location': {'type': 'Point', 'coordinates': [53.568866, 9.98105]}}"
      ]
     },
     "execution_count": 188,
     "metadata": {},
     "output_type": "execute_result"
    }
   ],
   "source": [
    "distances[55]"
   ]
  },
  {
   "cell_type": "code",
   "execution_count": 169,
   "id": "7f8495dc",
   "metadata": {},
   "outputs": [],
   "source": [
    "dist_df = pd.DataFrame(distances)"
   ]
  },
  {
   "cell_type": "code",
   "execution_count": 171,
   "id": "2aab7b4a",
   "metadata": {},
   "outputs": [],
   "source": [
    "#borrar todos los cafés que no sean starbucks\n",
    "no_starbucks = list(dist_df.index[(dist_df[\"category\"] == \"Coffee Shop\") & (dist_df[\"nombre\"] != \"Starbucks\")])\n",
    "dist_df.drop(no_starbucks,axis=0, inplace = True)"
   ]
  },
  {
   "cell_type": "code",
   "execution_count": 172,
   "id": "5ab7f2e9",
   "metadata": {},
   "outputs": [
    {
     "data": {
      "text/html": [
       "<div>\n",
       "<style scoped>\n",
       "    .dataframe tbody tr th:only-of-type {\n",
       "        vertical-align: middle;\n",
       "    }\n",
       "\n",
       "    .dataframe tbody tr th {\n",
       "        vertical-align: top;\n",
       "    }\n",
       "\n",
       "    .dataframe thead th {\n",
       "        text-align: right;\n",
       "    }\n",
       "</style>\n",
       "<table border=\"1\" class=\"dataframe\">\n",
       "  <thead>\n",
       "    <tr style=\"text-align: right;\">\n",
       "      <th></th>\n",
       "      <th>nombre</th>\n",
       "      <th>country</th>\n",
       "      <th>category</th>\n",
       "      <th>latitud</th>\n",
       "      <th>longitud</th>\n",
       "      <th>distance</th>\n",
       "      <th>location</th>\n",
       "    </tr>\n",
       "  </thead>\n",
       "  <tbody>\n",
       "  </tbody>\n",
       "</table>\n",
       "</div>"
      ],
      "text/plain": [
       "Empty DataFrame\n",
       "Columns: [nombre, country, category, latitud, longitud, distance, location]\n",
       "Index: []"
      ]
     },
     "execution_count": 172,
     "metadata": {},
     "output_type": "execute_result"
    }
   ],
   "source": [
    "dist_df[(dist_df[\"category\"] == \"Coffee Shop\") & (dist_df[\"nombre\"] != \"Starbucks\")]"
   ]
  },
  {
   "cell_type": "code",
   "execution_count": 173,
   "id": "c98190ea",
   "metadata": {},
   "outputs": [
    {
     "data": {
      "text/plain": [
       "array(['United States', 'Deutschland', 'United Kingdom'], dtype=object)"
      ]
     },
     "execution_count": 173,
     "metadata": {},
     "output_type": "execute_result"
    }
   ],
   "source": [
    "dist_df.country.unique()"
   ]
  },
  {
   "cell_type": "code",
   "execution_count": 219,
   "id": "32c8ed0d",
   "metadata": {},
   "outputs": [
    {
     "data": {
      "text/plain": [
       "array(['Design Studio', 'Preschool', 'Elementary School', 'Tech Startup',\n",
       "       'Bar', 'American Restaurant', 'Wings Joint', 'Sports Bar',\n",
       "       'Wine Bar', 'Korean Restaurant', 'Restaurant',\n",
       "       'Mexican Restaurant', 'Nightclub', 'Strip Club',\n",
       "       'Vegetarian / Vegan Restaurant', 'Veterinarian', 'Pet Service',\n",
       "       'Nursery School', 'Daycare', 'College Classroom',\n",
       "       'Miscellaneous Shop', 'Office', 'Deli / Bodega', 'Coffee Roaster',\n",
       "       'Platform', 'Train Station', 'Beer Bar', 'Hookah Bar', 'Brewery',\n",
       "       'Beach Bar', 'Café', 'German Restaurant', 'Pub',\n",
       "       'Tapas Restaurant', 'Cocktail Bar', 'Gastropub', 'Hotel Bar',\n",
       "       'Burrito Place', 'Donut Shop', 'Indian Restaurant',\n",
       "       'Cigkofte Place', 'Organic Grocery', 'Falafel Restaurant',\n",
       "       'Pet Store', 'Art Gallery', 'Coffee Shop', 'Bookstore',\n",
       "       'Indie Movie Theater', 'Gay Bar', 'Burger Joint',\n",
       "       'Fast Food Restaurant', 'Food & Drink Shop', 'Athletics & Sports'],\n",
       "      dtype=object)"
      ]
     },
     "execution_count": 219,
     "metadata": {},
     "output_type": "execute_result"
    }
   ],
   "source": [
    "dist_df.category.unique()"
   ]
  },
  {
   "cell_type": "code",
   "execution_count": 226,
   "id": "863feb65",
   "metadata": {},
   "outputs": [
    {
     "data": {
      "text/html": [
       "<div>\n",
       "<style scoped>\n",
       "    .dataframe tbody tr th:only-of-type {\n",
       "        vertical-align: middle;\n",
       "    }\n",
       "\n",
       "    .dataframe tbody tr th {\n",
       "        vertical-align: top;\n",
       "    }\n",
       "\n",
       "    .dataframe thead th {\n",
       "        text-align: right;\n",
       "    }\n",
       "</style>\n",
       "<table border=\"1\" class=\"dataframe\">\n",
       "  <thead>\n",
       "    <tr style=\"text-align: right;\">\n",
       "      <th></th>\n",
       "      <th>nombre</th>\n",
       "      <th>country</th>\n",
       "      <th>category</th>\n",
       "      <th>latitud</th>\n",
       "      <th>longitud</th>\n",
       "      <th>distance</th>\n",
       "      <th>location</th>\n",
       "    </tr>\n",
       "  </thead>\n",
       "  <tbody>\n",
       "    <tr>\n",
       "      <th>26</th>\n",
       "      <td>Applebee's Grill + Bar</td>\n",
       "      <td>United States</td>\n",
       "      <td>American Restaurant</td>\n",
       "      <td>30.337639</td>\n",
       "      <td>-97.702053</td>\n",
       "      <td>2072</td>\n",
       "      <td>{'type': 'Point', 'coordinates': [30.33763898,...</td>\n",
       "    </tr>\n",
       "  </tbody>\n",
       "</table>\n",
       "</div>"
      ],
      "text/plain": [
       "                    nombre        country             category    latitud  \\\n",
       "26  Applebee's Grill + Bar  United States  American Restaurant  30.337639   \n",
       "\n",
       "     longitud  distance                                           location  \n",
       "26 -97.702053      2072  {'type': 'Point', 'coordinates': [30.33763898,...  "
      ]
     },
     "execution_count": 226,
     "metadata": {},
     "output_type": "execute_result"
    }
   ],
   "source": [
    "dist_df[dist_df[\"category\"] == \"American Restaurant\"]"
   ]
  },
  {
   "cell_type": "code",
   "execution_count": 174,
   "id": "42ecd160",
   "metadata": {},
   "outputs": [
    {
     "data": {
      "text/html": [
       "<div>\n",
       "<style scoped>\n",
       "    .dataframe tbody tr th:only-of-type {\n",
       "        vertical-align: middle;\n",
       "    }\n",
       "\n",
       "    .dataframe tbody tr th {\n",
       "        vertical-align: top;\n",
       "    }\n",
       "\n",
       "    .dataframe thead th {\n",
       "        text-align: right;\n",
       "    }\n",
       "</style>\n",
       "<table border=\"1\" class=\"dataframe\">\n",
       "  <thead>\n",
       "    <tr style=\"text-align: right;\">\n",
       "      <th></th>\n",
       "      <th>nombre</th>\n",
       "      <th>category</th>\n",
       "      <th>distance</th>\n",
       "      <th>location</th>\n",
       "    </tr>\n",
       "  </thead>\n",
       "  <tbody>\n",
       "    <tr>\n",
       "      <th>26</th>\n",
       "      <td>Applebee's Grill + Bar</td>\n",
       "      <td>American Restaurant</td>\n",
       "      <td>2072</td>\n",
       "      <td>{'type': 'Point', 'coordinates': [30.33763898,...</td>\n",
       "    </tr>\n",
       "    <tr>\n",
       "      <th>25</th>\n",
       "      <td>Chabelo's Bar</td>\n",
       "      <td>Bar</td>\n",
       "      <td>276</td>\n",
       "      <td>{'type': 'Point', 'coordinates': [30.352285385...</td>\n",
       "    </tr>\n",
       "    <tr>\n",
       "      <th>28</th>\n",
       "      <td>Jekyll And Hyde Billards</td>\n",
       "      <td>Bar</td>\n",
       "      <td>1023</td>\n",
       "      <td>{'type': 'Point', 'coordinates': [30.363741920...</td>\n",
       "    </tr>\n",
       "  </tbody>\n",
       "</table>\n",
       "</div>"
      ],
      "text/plain": [
       "                      nombre             category  distance  \\\n",
       "26    Applebee's Grill + Bar  American Restaurant      2072   \n",
       "25             Chabelo's Bar                  Bar       276   \n",
       "28  Jekyll And Hyde Billards                  Bar      1023   \n",
       "\n",
       "                                             location  \n",
       "26  {'type': 'Point', 'coordinates': [30.33763898,...  \n",
       "25  {'type': 'Point', 'coordinates': [30.352285385...  \n",
       "28  {'type': 'Point', 'coordinates': [30.363741920...  "
      ]
     },
     "execution_count": 174,
     "metadata": {},
     "output_type": "execute_result"
    }
   ],
   "source": [
    "Austin_df = dist_df[[\"nombre\",\"category\",\"distance\",\"location\"]][dist_df[\"country\"] == \"United States\"].sort_values([\"category\",\"distance\"])\n",
    "Austin_df.head(3)"
   ]
  },
  {
   "cell_type": "code",
   "execution_count": 175,
   "id": "f8b3bc0e",
   "metadata": {},
   "outputs": [
    {
     "data": {
      "text/html": [
       "<div>\n",
       "<style scoped>\n",
       "    .dataframe tbody tr th:only-of-type {\n",
       "        vertical-align: middle;\n",
       "    }\n",
       "\n",
       "    .dataframe tbody tr th {\n",
       "        vertical-align: top;\n",
       "    }\n",
       "\n",
       "    .dataframe thead th {\n",
       "        text-align: right;\n",
       "    }\n",
       "</style>\n",
       "<table border=\"1\" class=\"dataframe\">\n",
       "  <thead>\n",
       "    <tr style=\"text-align: right;\">\n",
       "      <th></th>\n",
       "      <th>nombre</th>\n",
       "      <th>category</th>\n",
       "      <th>distance</th>\n",
       "      <th>location</th>\n",
       "    </tr>\n",
       "  </thead>\n",
       "  <tbody>\n",
       "    <tr>\n",
       "      <th>213</th>\n",
       "      <td>Froggy's</td>\n",
       "      <td>Bar</td>\n",
       "      <td>497</td>\n",
       "      <td>{'type': 'Point', 'coordinates': [53.566964, 9...</td>\n",
       "    </tr>\n",
       "    <tr>\n",
       "      <th>211</th>\n",
       "      <td>Rosi’s Bar</td>\n",
       "      <td>Bar</td>\n",
       "      <td>1377</td>\n",
       "      <td>{'type': 'Point', 'coordinates': [53.550362812...</td>\n",
       "    </tr>\n",
       "    <tr>\n",
       "      <th>214</th>\n",
       "      <td>Down Under</td>\n",
       "      <td>Bar</td>\n",
       "      <td>1781</td>\n",
       "      <td>{'type': 'Point', 'coordinates': [53.564131584...</td>\n",
       "    </tr>\n",
       "  </tbody>\n",
       "</table>\n",
       "</div>"
      ],
      "text/plain": [
       "         nombre category  distance  \\\n",
       "213    Froggy's      Bar       497   \n",
       "211  Rosi’s Bar      Bar      1377   \n",
       "214  Down Under      Bar      1781   \n",
       "\n",
       "                                              location  \n",
       "213  {'type': 'Point', 'coordinates': [53.566964, 9...  \n",
       "211  {'type': 'Point', 'coordinates': [53.550362812...  \n",
       "214  {'type': 'Point', 'coordinates': [53.564131584...  "
      ]
     },
     "execution_count": 175,
     "metadata": {},
     "output_type": "execute_result"
    }
   ],
   "source": [
    "Hamburg_df = dist_df[[\"nombre\",\"category\",\"distance\",\"location\"]][dist_df[\"country\"] == \"Deutschland\"].sort_values([\"category\",\"distance\"])\n",
    "Hamburg_df.head(3)"
   ]
  },
  {
   "cell_type": "code",
   "execution_count": 176,
   "id": "19c0c47d",
   "metadata": {},
   "outputs": [
    {
     "data": {
      "text/html": [
       "<div>\n",
       "<style scoped>\n",
       "    .dataframe tbody tr th:only-of-type {\n",
       "        vertical-align: middle;\n",
       "    }\n",
       "\n",
       "    .dataframe tbody tr th {\n",
       "        vertical-align: top;\n",
       "    }\n",
       "\n",
       "    .dataframe thead th {\n",
       "        text-align: right;\n",
       "    }\n",
       "</style>\n",
       "<table border=\"1\" class=\"dataframe\">\n",
       "  <thead>\n",
       "    <tr style=\"text-align: right;\">\n",
       "      <th></th>\n",
       "      <th>nombre</th>\n",
       "      <th>category</th>\n",
       "      <th>distance</th>\n",
       "      <th>location</th>\n",
       "    </tr>\n",
       "  </thead>\n",
       "  <tbody>\n",
       "    <tr>\n",
       "      <th>276</th>\n",
       "      <td>Northern Print</td>\n",
       "      <td>Art Gallery</td>\n",
       "      <td>1699</td>\n",
       "      <td>{'type': 'Point', 'coordinates': [54.975296818...</td>\n",
       "    </tr>\n",
       "    <tr>\n",
       "      <th>416</th>\n",
       "      <td>Northumbria University Sport Central</td>\n",
       "      <td>Athletics &amp; Sports</td>\n",
       "      <td>1262</td>\n",
       "      <td>{'type': 'Point', 'coordinates': [54.978317593...</td>\n",
       "    </tr>\n",
       "    <tr>\n",
       "      <th>378</th>\n",
       "      <td>The Victoria Comet</td>\n",
       "      <td>Bar</td>\n",
       "      <td>35</td>\n",
       "      <td>{'type': 'Point', 'coordinates': [54.969207500...</td>\n",
       "    </tr>\n",
       "  </tbody>\n",
       "</table>\n",
       "</div>"
      ],
      "text/plain": [
       "                                   nombre            category  distance  \\\n",
       "276                        Northern Print         Art Gallery      1699   \n",
       "416  Northumbria University Sport Central  Athletics & Sports      1262   \n",
       "378                    The Victoria Comet                 Bar        35   \n",
       "\n",
       "                                              location  \n",
       "276  {'type': 'Point', 'coordinates': [54.975296818...  \n",
       "416  {'type': 'Point', 'coordinates': [54.978317593...  \n",
       "378  {'type': 'Point', 'coordinates': [54.969207500...  "
      ]
     },
     "execution_count": 176,
     "metadata": {},
     "output_type": "execute_result"
    }
   ],
   "source": [
    "Newcastle_df = dist_df[[\"nombre\",\"category\",\"distance\",\"location\"]][dist_df[\"country\"] == \"United Kingdom\"].sort_values([\"category\",\"distance\"])\n",
    "Newcastle_df.head(3)"
   ]
  },
  {
   "cell_type": "code",
   "execution_count": null,
   "id": "ab72a2a6",
   "metadata": {},
   "outputs": [],
   "source": [
    "Newcastle_df.category"
   ]
  },
  {
   "cell_type": "code",
   "execution_count": null,
   "id": "19e5f1e1",
   "metadata": {},
   "outputs": [],
   "source": []
  }
 ],
 "metadata": {
  "kernelspec": {
   "display_name": "ironhack",
   "language": "python",
   "name": "ironhack"
  },
  "language_info": {
   "codemirror_mode": {
    "name": "ipython",
    "version": 3
   },
   "file_extension": ".py",
   "mimetype": "text/x-python",
   "name": "python",
   "nbconvert_exporter": "python",
   "pygments_lexer": "ipython3",
   "version": "3.8.5"
  }
 },
 "nbformat": 4,
 "nbformat_minor": 5
}
