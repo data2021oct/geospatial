{
 "cells": [
  {
   "cell_type": "code",
   "execution_count": 1,
   "id": "eec300d0",
   "metadata": {},
   "outputs": [
    {
     "data": {
      "text/plain": [
       "True"
      ]
     },
     "execution_count": 1,
     "metadata": {},
     "output_type": "execute_result"
    }
   ],
   "source": [
    "import requests\n",
    "import json\n",
    "import os\n",
    "import pandas as pd\n",
    "from functools import reduce\n",
    "import operator\n",
    "import pyjsonviewer\n",
    "import geopandas as gpd\n",
    "import time\n",
    "import requests\n",
    "from bs4 import BeautifulSoup\n",
    "from shapely.geometry import Point\n",
    "from pymongo import MongoClient\n",
    "import pandas as pd\n",
    "import requests\n",
    "import json\n",
    "from dotenv import load_dotenv\n",
    "import os\n",
    "import pandas as pd\n",
    "import numpy as np\n",
    "from pymongo import GEOSPHERE\n",
    "import shapely.geometry\n",
    "\n",
    "\n",
    "from dotenv import load_dotenv\n",
    "load_dotenv()"
   ]
  },
  {
   "cell_type": "code",
   "execution_count": 2,
   "id": "142aa91a",
   "metadata": {},
   "outputs": [],
   "source": [
    "client = MongoClient(\"localhost:27017\")\n",
    "db = client.get_database(\"ironhack\")\n",
    "geospatial = db.get_collection(\"geospatial\")"
   ]
  },
  {
   "cell_type": "code",
   "execution_count": 3,
   "id": "ecf7dbc1",
   "metadata": {},
   "outputs": [],
   "source": [
    "venues = pd.read_csv(\"../data/venues_df.csv\")"
   ]
  },
  {
   "cell_type": "code",
   "execution_count": 4,
   "id": "a15d728b",
   "metadata": {},
   "outputs": [
    {
     "data": {
      "text/html": [
       "<div>\n",
       "<style scoped>\n",
       "    .dataframe tbody tr th:only-of-type {\n",
       "        vertical-align: middle;\n",
       "    }\n",
       "\n",
       "    .dataframe tbody tr th {\n",
       "        vertical-align: top;\n",
       "    }\n",
       "\n",
       "    .dataframe thead th {\n",
       "        text-align: right;\n",
       "    }\n",
       "</style>\n",
       "<table border=\"1\" class=\"dataframe\">\n",
       "  <thead>\n",
       "    <tr style=\"text-align: right;\">\n",
       "      <th></th>\n",
       "      <th>nombre</th>\n",
       "      <th>sub_category</th>\n",
       "      <th>latitud</th>\n",
       "      <th>longitud</th>\n",
       "      <th>distance</th>\n",
       "      <th>location</th>\n",
       "      <th>city</th>\n",
       "      <th>category</th>\n",
       "    </tr>\n",
       "  </thead>\n",
       "  <tbody>\n",
       "    <tr>\n",
       "      <th>0</th>\n",
       "      <td>Urbanspace Interiors</td>\n",
       "      <td>Design Studio</td>\n",
       "      <td>30.269045</td>\n",
       "      <td>-97.751530</td>\n",
       "      <td>455</td>\n",
       "      <td>{'type': 'Point', 'coordinates': [30.269045000...</td>\n",
       "      <td>Austin</td>\n",
       "      <td>Design Studio</td>\n",
       "    </tr>\n",
       "    <tr>\n",
       "      <th>1</th>\n",
       "      <td>Fjord Austin</td>\n",
       "      <td>Design Studio</td>\n",
       "      <td>30.265794</td>\n",
       "      <td>-97.743590</td>\n",
       "      <td>1298</td>\n",
       "      <td>{'type': 'Point', 'coordinates': [30.265794, -...</td>\n",
       "      <td>Austin</td>\n",
       "      <td>Design Studio</td>\n",
       "    </tr>\n",
       "    <tr>\n",
       "      <th>2</th>\n",
       "      <td>AT&amp;T  —  Consumer Digital Experiences</td>\n",
       "      <td>Design Studio</td>\n",
       "      <td>30.271757</td>\n",
       "      <td>-97.742416</td>\n",
       "      <td>1260</td>\n",
       "      <td>{'type': 'Point', 'coordinates': [30.271757125...</td>\n",
       "      <td>Austin</td>\n",
       "      <td>Design Studio</td>\n",
       "    </tr>\n",
       "  </tbody>\n",
       "</table>\n",
       "</div>"
      ],
      "text/plain": [
       "                                  nombre   sub_category    latitud   longitud  \\\n",
       "0                   Urbanspace Interiors  Design Studio  30.269045 -97.751530   \n",
       "1                           Fjord Austin  Design Studio  30.265794 -97.743590   \n",
       "2  AT&T  —  Consumer Digital Experiences  Design Studio  30.271757 -97.742416   \n",
       "\n",
       "   distance                                           location    city  \\\n",
       "0       455  {'type': 'Point', 'coordinates': [30.269045000...  Austin   \n",
       "1      1298  {'type': 'Point', 'coordinates': [30.265794, -...  Austin   \n",
       "2      1260  {'type': 'Point', 'coordinates': [30.271757125...  Austin   \n",
       "\n",
       "        category  \n",
       "0  Design Studio  \n",
       "1  Design Studio  \n",
       "2  Design Studio  "
      ]
     },
     "execution_count": 4,
     "metadata": {},
     "output_type": "execute_result"
    }
   ],
   "source": [
    "venues.head(3)"
   ]
  },
  {
   "cell_type": "code",
   "execution_count": null,
   "id": "e8f566ef",
   "metadata": {},
   "outputs": [],
   "source": [
    "#geo_venues = gpd.GeoDataFrame(venues, geometry=gpd.points_from_xy(venues.latitud,venues.longitud))"
   ]
  },
  {
   "cell_type": "code",
   "execution_count": null,
   "id": "c1ebd5a6",
   "metadata": {},
   "outputs": [],
   "source": [
    "#geo_venues.head(3)"
   ]
  },
  {
   "cell_type": "code",
   "execution_count": null,
   "id": "b655c4c6",
   "metadata": {},
   "outputs": [],
   "source": [
    "#geo_venues['geometry']=geo_venues['geometry'].apply(lambda x:shapely.geometry.mapping(x))"
   ]
  },
  {
   "cell_type": "code",
   "execution_count": null,
   "id": "baec5870",
   "metadata": {},
   "outputs": [],
   "source": [
    "geo_venus_dic = venues.to_dict(orient=\"records\")"
   ]
  },
  {
   "cell_type": "code",
   "execution_count": null,
   "id": "1826c2a4",
   "metadata": {
    "scrolled": true
   },
   "outputs": [],
   "source": [
    "db.geospatial.create_index([(\"location\", GEOSPHERE)])"
   ]
  },
  {
   "cell_type": "code",
   "execution_count": null,
   "id": "7d76f248",
   "metadata": {},
   "outputs": [],
   "source": [
    "#geospatial.insert_many(geo_venus_dic)"
   ]
  },
  {
   "cell_type": "code",
   "execution_count": null,
   "id": "b1223efc",
   "metadata": {},
   "outputs": [],
   "source": []
  }
 ],
 "metadata": {
  "kernelspec": {
   "display_name": "ironhack",
   "language": "python",
   "name": "ironhack"
  },
  "language_info": {
   "codemirror_mode": {
    "name": "ipython",
    "version": 3
   },
   "file_extension": ".py",
   "mimetype": "text/x-python",
   "name": "python",
   "nbconvert_exporter": "python",
   "pygments_lexer": "ipython3",
   "version": "3.8.5"
  }
 },
 "nbformat": 4,
 "nbformat_minor": 5
}
