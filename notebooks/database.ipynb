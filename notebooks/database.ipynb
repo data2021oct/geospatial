{
 "cells": [
  {
   "cell_type": "code",
   "execution_count": 190,
   "id": "e51af7d4",
   "metadata": {},
   "outputs": [
    {
     "data": {
      "text/plain": [
       "True"
      ]
     },
     "execution_count": 190,
     "metadata": {},
     "output_type": "execute_result"
    }
   ],
   "source": [
    "from pymongo import MongoClient\n",
    "import pandas as pd\n",
    "import requests\n",
    "import json\n",
    "from dotenv import load_dotenv\n",
    "import os\n",
    "import pandas as pd\n",
    "import numpy as np\n",
    "load_dotenv()"
   ]
  },
  {
   "cell_type": "code",
   "execution_count": 191,
   "id": "3d6532db",
   "metadata": {},
   "outputs": [],
   "source": [
    "client = MongoClient(\"localhost:27017\")\n",
    "db = client.get_database(\"ironhack\")\n",
    "companies = db.get_collection(\"companies\")"
   ]
  },
  {
   "cell_type": "code",
   "execution_count": 292,
   "id": "632c7e07",
   "metadata": {},
   "outputs": [
    {
     "data": {
      "text/plain": [
       "{'name': 'Ustream',\n",
       " 'category_code': 'games_video',\n",
       " 'total_money_raised': '$60.1M',\n",
       " 'offices': [{'city': 'San Francisco',\n",
       "   'latitude': 37.392936,\n",
       "   'longitude': -122.07948},\n",
       "  {'city': 'Los Angeles', 'latitude': None, 'longitude': None},\n",
       "  {'city': 'Budapest', 'latitude': None, 'longitude': None}]}"
      ]
     },
     "execution_count": 292,
     "metadata": {},
     "output_type": "execute_result"
    }
   ],
   "source": [
    "proyec = {\"name\":1,\"category_code\": 1, \"_id\": 0,\"total_money_raised\":1,  \"offices.city\":1, \"offices.latitude\":1, \"offices.longitude\":1}\n",
    "cond = {\"category_code\": \"games_video\", \"total_money_raised\":{\"$ne\":\"$0\"}, \"offices.latitude\":{\"$type\": \"double\"},\"offices.longitude\":{\"$type\": \"double\"}}\n",
    "list(companies.find(cond,proyec))[8]"
   ]
  },
  {
   "cell_type": "code",
   "execution_count": 293,
   "id": "7563a9e1",
   "metadata": {},
   "outputs": [],
   "source": [
    "selec = pd.DataFrame(list(companies.find(cond,proyec)))"
   ]
  },
  {
   "cell_type": "code",
   "execution_count": 294,
   "id": "46f3fca0",
   "metadata": {},
   "outputs": [],
   "source": [
    "#lista[1][\"offices\"][0][\"city\"] #len(lista[1][\"offices\"])\n",
    "#lista[1][\"offices\"][0][\"latitude\"] \n",
    "#lista[1][\"offices\"][0][\"longitude\"] "
   ]
  },
  {
   "cell_type": "code",
   "execution_count": 295,
   "id": "e339ae02",
   "metadata": {},
   "outputs": [],
   "source": [
    "selec.total_money_raised = selec.total_money_raised.str.strip()"
   ]
  },
  {
   "cell_type": "code",
   "execution_count": 296,
   "id": "ee647c99",
   "metadata": {},
   "outputs": [],
   "source": [
    "selec[\"amount\"] = selec.total_money_raised.str.extract(r\"(.)(\\d+|\\d+.\\d+)(.$)\")[1]\n",
    "selec[\"mil\"] = selec.total_money_raised.str.extract(r\"(.)(\\d+|\\d+.\\d+)(.$)\")[2]\n",
    "selec[\"currency\"] = selec.total_money_raised.str.extract(r\"(.)(\\d+|\\d+.\\d+)(.$)\")[0]"
   ]
  },
  {
   "cell_type": "code",
   "execution_count": 297,
   "id": "2a051c2f",
   "metadata": {},
   "outputs": [
    {
     "data": {
      "text/plain": [
       "array(['$', '€', '£'], dtype=object)"
      ]
     },
     "execution_count": 297,
     "metadata": {},
     "output_type": "execute_result"
    }
   ],
   "source": [
    "selec.currency.unique()"
   ]
  },
  {
   "cell_type": "code",
   "execution_count": 337,
   "id": "e4998d17",
   "metadata": {},
   "outputs": [
    {
     "data": {
      "text/plain": [
       "array(['M', 'k'], dtype=object)"
      ]
     },
     "execution_count": 337,
     "metadata": {},
     "output_type": "execute_result"
    }
   ],
   "source": [
    "selec.mil.unique()"
   ]
  },
  {
   "cell_type": "code",
   "execution_count": 298,
   "id": "660b4ba3",
   "metadata": {},
   "outputs": [
    {
     "data": {
      "text/html": [
       "<div>\n",
       "<style scoped>\n",
       "    .dataframe tbody tr th:only-of-type {\n",
       "        vertical-align: middle;\n",
       "    }\n",
       "\n",
       "    .dataframe tbody tr th {\n",
       "        vertical-align: top;\n",
       "    }\n",
       "\n",
       "    .dataframe thead th {\n",
       "        text-align: right;\n",
       "    }\n",
       "</style>\n",
       "<table border=\"1\" class=\"dataframe\">\n",
       "  <thead>\n",
       "    <tr style=\"text-align: right;\">\n",
       "      <th></th>\n",
       "      <th>name</th>\n",
       "      <th>category_code</th>\n",
       "      <th>total_money_raised</th>\n",
       "      <th>offices</th>\n",
       "      <th>amount</th>\n",
       "      <th>mil</th>\n",
       "      <th>currency</th>\n",
       "    </tr>\n",
       "  </thead>\n",
       "  <tbody>\n",
       "    <tr>\n",
       "      <th>0</th>\n",
       "      <td>Lala</td>\n",
       "      <td>games_video</td>\n",
       "      <td>$44.2M</td>\n",
       "      <td>[{'city': 'Palo Alto', 'latitude': 37.451151, ...</td>\n",
       "      <td>44.2</td>\n",
       "      <td>M</td>\n",
       "      <td>$</td>\n",
       "    </tr>\n",
       "    <tr>\n",
       "      <th>1</th>\n",
       "      <td>Joost</td>\n",
       "      <td>games_video</td>\n",
       "      <td>$45M</td>\n",
       "      <td>[{'city': 'New York', 'latitude': 40.7464969, ...</td>\n",
       "      <td>45</td>\n",
       "      <td>M</td>\n",
       "      <td>$</td>\n",
       "    </tr>\n",
       "    <tr>\n",
       "      <th>2</th>\n",
       "      <td>Babelgum</td>\n",
       "      <td>games_video</td>\n",
       "      <td>$13.2M</td>\n",
       "      <td>[{'city': 'London', 'latitude': 53.344104, 'lo...</td>\n",
       "      <td>13.2</td>\n",
       "      <td>M</td>\n",
       "      <td>$</td>\n",
       "    </tr>\n",
       "    <tr>\n",
       "      <th>3</th>\n",
       "      <td>Kyte</td>\n",
       "      <td>games_video</td>\n",
       "      <td>$23.4M</td>\n",
       "      <td>[{'city': 'San Francisco', 'latitude': 37.7884...</td>\n",
       "      <td>23.4</td>\n",
       "      <td>M</td>\n",
       "      <td>$</td>\n",
       "    </tr>\n",
       "    <tr>\n",
       "      <th>4</th>\n",
       "      <td>Veoh</td>\n",
       "      <td>games_video</td>\n",
       "      <td>$69.8M</td>\n",
       "      <td>[{'city': 'San Diego', 'latitude': 32.902266, ...</td>\n",
       "      <td>69.8</td>\n",
       "      <td>M</td>\n",
       "      <td>$</td>\n",
       "    </tr>\n",
       "  </tbody>\n",
       "</table>\n",
       "</div>"
      ],
      "text/plain": [
       "       name category_code total_money_raised  \\\n",
       "0      Lala   games_video             $44.2M   \n",
       "1     Joost   games_video               $45M   \n",
       "2  Babelgum   games_video             $13.2M   \n",
       "3      Kyte   games_video             $23.4M   \n",
       "4      Veoh   games_video             $69.8M   \n",
       "\n",
       "                                             offices amount mil currency  \n",
       "0  [{'city': 'Palo Alto', 'latitude': 37.451151, ...   44.2   M        $  \n",
       "1  [{'city': 'New York', 'latitude': 40.7464969, ...     45   M        $  \n",
       "2  [{'city': 'London', 'latitude': 53.344104, 'lo...   13.2   M        $  \n",
       "3  [{'city': 'San Francisco', 'latitude': 37.7884...   23.4   M        $  \n",
       "4  [{'city': 'San Diego', 'latitude': 32.902266, ...   69.8   M        $  "
      ]
     },
     "execution_count": 298,
     "metadata": {},
     "output_type": "execute_result"
    }
   ],
   "source": [
    "selec.head()"
   ]
  },
  {
   "cell_type": "code",
   "execution_count": 310,
   "id": "e2e226d9",
   "metadata": {},
   "outputs": [
    {
     "data": {
      "text/html": [
       "<div>\n",
       "<style scoped>\n",
       "    .dataframe tbody tr th:only-of-type {\n",
       "        vertical-align: middle;\n",
       "    }\n",
       "\n",
       "    .dataframe tbody tr th {\n",
       "        vertical-align: top;\n",
       "    }\n",
       "\n",
       "    .dataframe thead th {\n",
       "        text-align: right;\n",
       "    }\n",
       "</style>\n",
       "<table border=\"1\" class=\"dataframe\">\n",
       "  <thead>\n",
       "    <tr style=\"text-align: right;\">\n",
       "      <th></th>\n",
       "      <th>name</th>\n",
       "      <th>category_code</th>\n",
       "      <th>total_money_raised</th>\n",
       "      <th>offices</th>\n",
       "      <th>amount</th>\n",
       "      <th>mil</th>\n",
       "      <th>currency</th>\n",
       "    </tr>\n",
       "  </thead>\n",
       "  <tbody>\n",
       "    <tr>\n",
       "      <th>85</th>\n",
       "      <td>FameCast</td>\n",
       "      <td>games_video</td>\n",
       "      <td>$9.7M</td>\n",
       "      <td>[{'city': 'Austin', 'latitude': 30.268735, 'lo...</td>\n",
       "      <td>9.7</td>\n",
       "      <td>M</td>\n",
       "      <td>$</td>\n",
       "    </tr>\n",
       "  </tbody>\n",
       "</table>\n",
       "</div>"
      ],
      "text/plain": [
       "        name category_code total_money_raised  \\\n",
       "85  FameCast   games_video              $9.7M   \n",
       "\n",
       "                                              offices amount mil currency  \n",
       "85  [{'city': 'Austin', 'latitude': 30.268735, 'lo...    9.7   M        $  "
      ]
     },
     "execution_count": 310,
     "metadata": {},
     "output_type": "execute_result"
    }
   ],
   "source": [
    "dol = selec[(selec[\"currency\"] == '$') & (selec[\"mil\"] == \"M\")].sort_values(\"amount\",ascending = False).head(1)\n",
    "dol"
   ]
  },
  {
   "cell_type": "code",
   "execution_count": 305,
   "id": "bbab4617",
   "metadata": {},
   "outputs": [
    {
     "data": {
      "text/html": [
       "<div>\n",
       "<style scoped>\n",
       "    .dataframe tbody tr th:only-of-type {\n",
       "        vertical-align: middle;\n",
       "    }\n",
       "\n",
       "    .dataframe tbody tr th {\n",
       "        vertical-align: top;\n",
       "    }\n",
       "\n",
       "    .dataframe thead th {\n",
       "        text-align: right;\n",
       "    }\n",
       "</style>\n",
       "<table border=\"1\" class=\"dataframe\">\n",
       "  <thead>\n",
       "    <tr style=\"text-align: right;\">\n",
       "      <th></th>\n",
       "      <th>name</th>\n",
       "      <th>category_code</th>\n",
       "      <th>total_money_raised</th>\n",
       "      <th>offices</th>\n",
       "      <th>amount</th>\n",
       "      <th>mil</th>\n",
       "      <th>currency</th>\n",
       "    </tr>\n",
       "  </thead>\n",
       "  <tbody>\n",
       "    <tr>\n",
       "      <th>242</th>\n",
       "      <td>Bigpoint</td>\n",
       "      <td>games_video</td>\n",
       "      <td>€420M</td>\n",
       "      <td>[{'city': 'Hamburg', 'latitude': 53.5973055, '...</td>\n",
       "      <td>420</td>\n",
       "      <td>M</td>\n",
       "      <td>€</td>\n",
       "    </tr>\n",
       "  </tbody>\n",
       "</table>\n",
       "</div>"
      ],
      "text/plain": [
       "         name category_code total_money_raised  \\\n",
       "242  Bigpoint   games_video              €420M   \n",
       "\n",
       "                                               offices amount mil currency  \n",
       "242  [{'city': 'Hamburg', 'latitude': 53.5973055, '...    420   M        €  "
      ]
     },
     "execution_count": 305,
     "metadata": {},
     "output_type": "execute_result"
    }
   ],
   "source": [
    "eur = selec[(selec[\"currency\"] == '€') & (selec[\"mil\"] == \"M\")].sort_values(\"amount\",ascending = False).head(1)\n",
    "eur"
   ]
  },
  {
   "cell_type": "code",
   "execution_count": 309,
   "id": "3ec05e6b",
   "metadata": {},
   "outputs": [
    {
     "data": {
      "text/html": [
       "<div>\n",
       "<style scoped>\n",
       "    .dataframe tbody tr th:only-of-type {\n",
       "        vertical-align: middle;\n",
       "    }\n",
       "\n",
       "    .dataframe tbody tr th {\n",
       "        vertical-align: top;\n",
       "    }\n",
       "\n",
       "    .dataframe thead th {\n",
       "        text-align: right;\n",
       "    }\n",
       "</style>\n",
       "<table border=\"1\" class=\"dataframe\">\n",
       "  <thead>\n",
       "    <tr style=\"text-align: right;\">\n",
       "      <th></th>\n",
       "      <th>name</th>\n",
       "      <th>category_code</th>\n",
       "      <th>total_money_raised</th>\n",
       "      <th>offices</th>\n",
       "      <th>amount</th>\n",
       "      <th>mil</th>\n",
       "      <th>currency</th>\n",
       "    </tr>\n",
       "  </thead>\n",
       "  <tbody>\n",
       "    <tr>\n",
       "      <th>125</th>\n",
       "      <td>amazingtunes</td>\n",
       "      <td>games_video</td>\n",
       "      <td>£1.4M</td>\n",
       "      <td>[{'city': 'Newcastle Upon Tyne', 'latitude': 5...</td>\n",
       "      <td>1.4</td>\n",
       "      <td>M</td>\n",
       "      <td>£</td>\n",
       "    </tr>\n",
       "  </tbody>\n",
       "</table>\n",
       "</div>"
      ],
      "text/plain": [
       "             name category_code total_money_raised  \\\n",
       "125  amazingtunes   games_video              £1.4M   \n",
       "\n",
       "                                               offices amount mil currency  \n",
       "125  [{'city': 'Newcastle Upon Tyne', 'latitude': 5...    1.4   M        £  "
      ]
     },
     "execution_count": 309,
     "metadata": {},
     "output_type": "execute_result"
    }
   ],
   "source": [
    "pounds = selec[(selec[\"currency\"] == '£') & (selec[\"mil\"] == \"M\")].sort_values(\"amount\",ascending = False).head(1)\n",
    "pounds"
   ]
  },
  {
   "cell_type": "code",
   "execution_count": 351,
   "id": "07d3297a",
   "metadata": {},
   "outputs": [
    {
     "data": {
      "text/plain": [
       "(30.268735, -97.745209)"
      ]
     },
     "execution_count": 351,
     "metadata": {},
     "output_type": "execute_result"
    }
   ],
   "source": [
    "aus = list(dol.offices.values)[0]\n",
    "aus_lat = aus[0][\"latitude\"]\n",
    "aus_lon = austin[0][\"longitude\"]\n",
    "aus_lat, aus_lon"
   ]
  },
  {
   "cell_type": "code",
   "execution_count": 352,
   "id": "f76799d3",
   "metadata": {},
   "outputs": [
    {
     "data": {
      "text/plain": [
       "(53.5973055, 9.9762519)"
      ]
     },
     "execution_count": 352,
     "metadata": {},
     "output_type": "execute_result"
    }
   ],
   "source": [
    "ham = list(eur.offices.values)[0]\n",
    "ham_lat = ham[0][\"latitude\"]\n",
    "ham_lon = ham[0][\"longitude\"]\n",
    "ham_lat, ham_lon"
   ]
  },
  {
   "cell_type": "code",
   "execution_count": 353,
   "id": "cc849a4a",
   "metadata": {},
   "outputs": [
    {
     "data": {
      "text/plain": [
       "(54.971346, -1.611141)"
      ]
     },
     "execution_count": 353,
     "metadata": {},
     "output_type": "execute_result"
    }
   ],
   "source": [
    "ncas = list(pounds.offices.values)[0]\n",
    "ncas_lat = ncas[0][\"latitude\"]\n",
    "ncas_lon = ncas[0][\"longitude\"]\n",
    "ncas_lat,ncas_lon"
   ]
  },
  {
   "cell_type": "markdown",
   "id": "ae809a64",
   "metadata": {},
   "source": [
    "## localizar puntos en fs"
   ]
  },
  {
   "cell_type": "code",
   "execution_count": 354,
   "id": "18a71a08",
   "metadata": {},
   "outputs": [],
   "source": [
    "client_id = os.getenv(\"four\")\n",
    "client_secret = os.getenv(\"foursec\")"
   ]
  },
  {
   "cell_type": "code",
   "execution_count": 355,
   "id": "9fd319af",
   "metadata": {},
   "outputs": [],
   "source": [
    "#madrid_porsifalla = {'type': 'Point', 'coordinates': [-3.6793, 40.42955]}\n",
    "Austin = {'type': 'Point', 'coordinates': [aus_lat, aus_lon]}\n",
    "Hamburg = {'type': 'Point', 'coordinates': [ham_lat, ham_lon]}\n",
    "Newcastle = {'type': 'Point', 'coordinates': [ncas_lat, ncas_lon]}"
   ]
  },
  {
   "cell_type": "code",
   "execution_count": 357,
   "id": "38a4bb36",
   "metadata": {},
   "outputs": [
    {
     "data": {
      "text/plain": [
       "({'type': 'Point', 'coordinates': [30.268735, -97.745209]},\n",
       " {'type': 'Point', 'coordinates': [53.5973055, 9.9762519]},\n",
       " {'type': 'Point', 'coordinates': [54.971346, -1.611141]})"
      ]
     },
     "execution_count": 357,
     "metadata": {},
     "output_type": "execute_result"
    }
   ],
   "source": [
    "Austin, Hamburg, Newcastle"
   ]
  },
  {
   "cell_type": "code",
   "execution_count": 358,
   "id": "e9f8cdc1",
   "metadata": {},
   "outputs": [],
   "source": [
    "url_query = 'https://api.foursquare.com/v2/venues/search'\n",
    "url_recomendados = 'https://api.foursquare.com/v2/venues/explore'"
   ]
  },
  {
   "cell_type": "code",
   "execution_count": 368,
   "id": "fb66f6b0",
   "metadata": {},
   "outputs": [],
   "source": [
    "def parametrizacion(place,store):\n",
    "    url_query = 'https://api.foursquare.com/v2/venues/search'\n",
    "    parametros = {\n",
    "        \"client_id\": client_id,\n",
    "        \"client_secret\": client_secret,\n",
    "        \"v\": \"20180323\",\n",
    "        \"ll\": f\"{place['coordinates'][0]}, {place['coordinates'][1]}\",\n",
    "        \"query\": store,\n",
    "        \"radius\": 2500\n",
    "    }\n",
    "    return requests.get(url_query, params = parametros).json()"
   ]
  },
  {
   "cell_type": "code",
   "execution_count": 373,
   "id": "949f53d5",
   "metadata": {},
   "outputs": [],
   "source": [
    "place = Hamburg\n",
    "store = \"Basketball\"\n",
    "\n",
    "Ham_bas = parametrizacion(place,store)[\"response\"][\"venues\"]"
   ]
  },
  {
   "cell_type": "code",
   "execution_count": 378,
   "id": "b6a238a9",
   "metadata": {},
   "outputs": [
    {
     "data": {
      "text/plain": [
       "1218"
      ]
     },
     "execution_count": 378,
     "metadata": {},
     "output_type": "execute_result"
    }
   ],
   "source": [
    "Ham_bas[0][\"location\"][\"distance\"]"
   ]
  },
  {
   "cell_type": "code",
   "execution_count": 381,
   "id": "8541fd3b",
   "metadata": {},
   "outputs": [],
   "source": [
    "place = Hamburg\n",
    "store = \"Conference\"\n",
    "ham_talks = parametrizacion(place,store)[\"response\"][\"venues\"]"
   ]
  },
  {
   "cell_type": "code",
   "execution_count": 408,
   "id": "09ce009f",
   "metadata": {},
   "outputs": [],
   "source": [
    "place = Hamburg\n",
    "store = \"Nursery\"\n",
    "ham_school = parametrizacion(place,store)[\"response\"][\"venues\"]"
   ]
  },
  {
   "cell_type": "code",
   "execution_count": 409,
   "id": "7a63b560",
   "metadata": {},
   "outputs": [
    {
     "data": {
      "text/plain": [
       "[]"
      ]
     },
     "execution_count": 409,
     "metadata": {},
     "output_type": "execute_result"
    }
   ],
   "source": [
    "ham_school"
   ]
  },
  {
   "cell_type": "code",
   "execution_count": null,
   "id": "651e6ba0",
   "metadata": {},
   "outputs": [],
   "source": []
  }
 ],
 "metadata": {
  "kernelspec": {
   "display_name": "ironhack",
   "language": "python",
   "name": "ironhack"
  },
  "language_info": {
   "codemirror_mode": {
    "name": "ipython",
    "version": 3
   },
   "file_extension": ".py",
   "mimetype": "text/x-python",
   "name": "python",
   "nbconvert_exporter": "python",
   "pygments_lexer": "ipython3",
   "version": "3.8.5"
  }
 },
 "nbformat": 4,
 "nbformat_minor": 5
}
