{
 "cells": [
  {
   "cell_type": "code",
   "execution_count": 1,
   "id": "e0ed5a4b",
   "metadata": {},
   "outputs": [
    {
     "data": {
      "text/plain": [
       "True"
      ]
     },
     "execution_count": 1,
     "metadata": {},
     "output_type": "execute_result"
    }
   ],
   "source": [
    "import requests\n",
    "import json\n",
    "import os\n",
    "import pandas as pd\n",
    "from functools import reduce\n",
    "import operator\n",
    "import geopandas as gpd\n",
    "import time\n",
    "from bs4 import BeautifulSoup\n",
    "import shapely.geometry\n",
    "from shapely.geometry import Point\n",
    "from pymongo import MongoClient\n",
    "import numpy as np\n",
    "from pymongo import GEOSPHERE\n",
    "from dotenv import load_dotenv\n",
    "load_dotenv()"
   ]
  },
  {
   "cell_type": "code",
   "execution_count": 2,
   "id": "8259f4a9",
   "metadata": {},
   "outputs": [],
   "source": [
    "#conectamos Mongo\n",
    "client = MongoClient(\"localhost:27017\")\n",
    "db = client.get_database(\"ironhack\")\n",
    "geospatial = db.get_collection(\"geospatial\")"
   ]
  },
  {
   "cell_type": "markdown",
   "id": "f83b3908",
   "metadata": {},
   "source": [
    "## Funciones útiles"
   ]
  },
  {
   "cell_type": "code",
   "execution_count": 3,
   "id": "7b15e8d0",
   "metadata": {},
   "outputs": [],
   "source": [
    "def getFromDict(diccionario,mapa):\n",
    "    return reduce(operator.getitem,mapa,diccionario)"
   ]
  },
  {
   "cell_type": "code",
   "execution_count": 4,
   "id": "fe68ccfa",
   "metadata": {},
   "outputs": [],
   "source": [
    "def type_point(lista):\n",
    "    return {\"type\":\"Point\", \"coordinates\": lista}"
   ]
  },
  {
   "cell_type": "markdown",
   "id": "a421f29c",
   "metadata": {},
   "source": [
    "### Función para requests Foursquare\n"
   ]
  },
  {
   "cell_type": "code",
   "execution_count": 5,
   "id": "fb2633a5",
   "metadata": {},
   "outputs": [],
   "source": [
    "def place_store_dicc(localizations,cat_dic):\n",
    "    \"\"\"\n",
    "    recibe un diccionario con localizaciones y un diccionario con categorías de Foursquare\n",
    "    itera por cada localización y cada categoría\n",
    "    Devuelve diccionarios anidados con las \"venues\" de cada request que se hace por ciudad/categoría\n",
    "    \"\"\"\n",
    "    url_query = 'https://api.foursquare.com/v2/venues/search'\n",
    "    client_id = os.getenv(\"four\")\n",
    "    client_secret = os.getenv(\"foursec\")\n",
    "    \n",
    "    venues_dic = {}\n",
    "    \n",
    "    aus_dic ={}\n",
    "    ham_dic = {}\n",
    "    ncas_dic ={}\n",
    "    \n",
    "    for loc,coor in localizations.items():\n",
    "\n",
    "        for cat,cat_id in cat_dic.items():\n",
    "            #time.sleep(1)\n",
    "            parametros={\n",
    "                \"client_id\": client_id,\n",
    "                \"client_secret\": client_secret,\n",
    "                \"v\": \"20180323\",\n",
    "                \"ll\": f\"{coor[0]}, {coor[1]}\",\n",
    "                \"categoryId\":cat_id,\n",
    "                \"radius\":1000\n",
    "            } \n",
    "            \n",
    "            #no he conseguido automatizar esta parte para que no sea personalizada a esta consulta en particular\n",
    "\n",
    "            if loc == \"Austin\":\n",
    "                aus_dic[cat] = requests.get(url_query, params = parametros).json()[\"response\"][\"venues\"] \n",
    "                if cat == \"Pet Store\":\n",
    "                    print(f\"{loc} done\")\n",
    "            elif loc == \"Hamburg\":                \n",
    "                ham_dic[cat] = requests.get(url_query, params = parametros).json()[\"response\"][\"venues\"]\n",
    "                if cat == \"Pet Store\":\n",
    "                    print(f\"{loc} done\")\n",
    "            elif loc == \"Newcastle\":                \n",
    "                ncas_dic[cat] = requests.get(url_query, params = parametros).json()[\"response\"][\"venues\"] \n",
    "                if cat == \"Pet Store\":\n",
    "                    print(f\"{loc} done\")\n",
    "            \n",
    "    venues_dic = {\"Austin\":aus_dic,\n",
    "                 \"Hamburg\":ham_dic,\n",
    "                  \"Newcastle\": ncas_dic\n",
    "                 }\n",
    "\n",
    "    return venues_dic\n"
   ]
  },
  {
   "cell_type": "markdown",
   "id": "cf4b9719",
   "metadata": {},
   "source": [
    "## Lista de categorías e id de Foursquare\n",
    "- scrapping"
   ]
  },
  {
   "cell_type": "code",
   "execution_count": 6,
   "id": "d7d65369",
   "metadata": {},
   "outputs": [],
   "source": [
    "def get_categories():\n",
    "    \"\"\"\n",
    "    scrapea las categorías de foursquare y devuelve un dataframe con el nombre e id de estas.\n",
    "    \"\"\"\n",
    "    url = \"https://developer.foursquare.com/docs/build-with-foursquare/categories/\"\n",
    "    html = requests.get(url)\n",
    "    soup = BeautifulSoup(html.content,\"html.parser\")\n",
    "    venue_cat = soup.find_all(\"ul\", {\"class\": \"VenueCategories__Wrapper-sc-15dn453-0 dmcDKQ\"})\n",
    "    cat = {}\n",
    "    li = venue_cat[0].find_all(\"li\")\n",
    "    for l in li:\n",
    "        cat[l.find(\"h3\").getText()] = l.find(\"p\").getText()\n",
    "        \n",
    "    return pd.DataFrame.from_dict(cat,orient=\"Index\").reset_index().rename(columns={\"index\": \"category\", 0: \"categoryId\"})\n",
    "\n",
    "categories = get_categories()"
   ]
  },
  {
   "cell_type": "code",
   "execution_count": 7,
   "id": "efc5a65d",
   "metadata": {},
   "outputs": [
    {
     "data": {
      "text/html": [
       "<div>\n",
       "<style scoped>\n",
       "    .dataframe tbody tr th:only-of-type {\n",
       "        vertical-align: middle;\n",
       "    }\n",
       "\n",
       "    .dataframe tbody tr th {\n",
       "        vertical-align: top;\n",
       "    }\n",
       "\n",
       "    .dataframe thead th {\n",
       "        text-align: right;\n",
       "    }\n",
       "</style>\n",
       "<table border=\"1\" class=\"dataframe\">\n",
       "  <thead>\n",
       "    <tr style=\"text-align: right;\">\n",
       "      <th></th>\n",
       "      <th>category</th>\n",
       "      <th>categoryId</th>\n",
       "    </tr>\n",
       "  </thead>\n",
       "  <tbody>\n",
       "    <tr>\n",
       "      <th>809</th>\n",
       "      <td>Hunting Supply</td>\n",
       "      <td>50aaa5234b90af0d42d5de12</td>\n",
       "    </tr>\n",
       "    <tr>\n",
       "      <th>264</th>\n",
       "      <td>Corsican Restaurant</td>\n",
       "      <td>57558b36e4b065ecebd306d1</td>\n",
       "    </tr>\n",
       "    <tr>\n",
       "      <th>731</th>\n",
       "      <td>Bookstore</td>\n",
       "      <td>4bf58dd8d48988d114951735</td>\n",
       "    </tr>\n",
       "  </tbody>\n",
       "</table>\n",
       "</div>"
      ],
      "text/plain": [
       "                category                categoryId\n",
       "809       Hunting Supply  50aaa5234b90af0d42d5de12\n",
       "264  Corsican Restaurant  57558b36e4b065ecebd306d1\n",
       "731            Bookstore  4bf58dd8d48988d114951735"
      ]
     },
     "execution_count": 7,
     "metadata": {},
     "output_type": "execute_result"
    }
   ],
   "source": [
    "categories.sample(3)"
   ]
  },
  {
   "cell_type": "code",
   "execution_count": 8,
   "id": "9e216656",
   "metadata": {},
   "outputs": [],
   "source": [
    "def categories_dic(cat_list):\n",
    "    \"\"\"\n",
    "    recibe un lista de categorías y devuleve un diccionario con el nombre de estas categorías y us id de foursquare\n",
    "    \"\"\"\n",
    "    dicc = {}\n",
    "    for c in cat_list:\n",
    "        dicc[c] = categories.categoryId[categories[\"category\"] == c].values[0]\n",
    "    return dicc"
   ]
  },
  {
   "cell_type": "code",
   "execution_count": 9,
   "id": "98e12baf",
   "metadata": {},
   "outputs": [],
   "source": [
    "venues_list = [\"Design Studio\",\"Nursery School\",\"Preschool\",\"Elementary School\",\"Tech Startup\",\"Coffee Shop\",\n",
    "               \"Airport Terminal\",\"Train Station\",\n",
    "              \"Nightlife Spot\",\"Vegetarian / Vegan Restaurant\",\"Basketball Stadium\",\n",
    "               \"Veterinarian\",\"Pet Service\",\"Pet Store\"]  "
   ]
  },
  {
   "cell_type": "code",
   "execution_count": 10,
   "id": "3874b833",
   "metadata": {},
   "outputs": [
    {
     "data": {
      "text/plain": [
       "{'Design Studio': '4bf58dd8d48988d1f4941735',\n",
       " 'Nursery School': '4f4533814b9074f6e4fb0107',\n",
       " 'Preschool': '52e81612bcbc57f1066b7a45',\n",
       " 'Elementary School': '4f4533804b9074f6e4fb0105',\n",
       " 'Tech Startup': '4bf58dd8d48988d125941735',\n",
       " 'Coffee Shop': '4bf58dd8d48988d1e0931735',\n",
       " 'Airport Terminal': '4bf58dd8d48988d1eb931735',\n",
       " 'Train Station': '4bf58dd8d48988d129951735',\n",
       " 'Nightlife Spot': '4d4b7105d754a06376d81259',\n",
       " 'Vegetarian / Vegan Restaurant': '4bf58dd8d48988d1d3941735',\n",
       " 'Basketball Stadium': '4bf58dd8d48988d18b941735',\n",
       " 'Veterinarian': '4d954af4a243a5684765b473',\n",
       " 'Pet Service': '5032897c91d4c4b30a586d69',\n",
       " 'Pet Store': '4bf58dd8d48988d100951735'}"
      ]
     },
     "execution_count": 10,
     "metadata": {},
     "output_type": "execute_result"
    }
   ],
   "source": [
    "cat_dic = categories_dic(venues_list)\n",
    "cat_dic"
   ]
  },
  {
   "cell_type": "code",
   "execution_count": 11,
   "id": "25e0ad3d",
   "metadata": {},
   "outputs": [],
   "source": [
    "#como geocode no funcionaba muy bien, hemos copiado coordenadas de las ciudades elegidas en el estudio de \"companies\"\n",
    "localizations = {'Austin': ['30.27125853189173', '-97.75551842126049'],\n",
    "                 'Hamburg': ['53.55687309076416', '10.002900693677232'],\n",
    "                 'Newcastle': ['54.96923892979405', '-1.6162802662146134']}"
   ]
  },
  {
   "cell_type": "code",
   "execution_count": 12,
   "id": "4bfabf01",
   "metadata": {},
   "outputs": [
    {
     "name": "stdout",
     "output_type": "stream",
     "text": [
      "Austin done\n",
      "Hamburg done\n",
      "Newcastle done\n"
     ]
    }
   ],
   "source": [
    "total_venues = place_store_dicc(localizations,cat_dic) #llamamos a la función"
   ]
  },
  {
   "cell_type": "code",
   "execution_count": 13,
   "id": "4ba63dcd",
   "metadata": {},
   "outputs": [],
   "source": [
    "def extraetodo(json):\n",
    "    \"\"\"\n",
    "    recibe un diccionario con los datos extraídos de foursquare\n",
    "    devuelve una lista de diccionarios con todos las \"venues\"\n",
    "    \"\"\"\n",
    "    \n",
    "    total = []\n",
    "    for city,categories in json.items():\n",
    "        for cat,value in categories.items():\n",
    "            try:\n",
    "                todo = {\"nombre\": [\"name\"],\"sub_category\":[\"categories\",0,\"name\"],\n",
    "                        \"latitud\": [\"location\", \"lat\"], \"longitud\": [\"location\", \"lng\"],\n",
    "                        \"distance\":[\"location\",\"distance\"]}\n",
    "\n",
    "                for elemento in value:\n",
    "                    store = {key: getFromDict(elemento,value) for key,value in todo.items()}\n",
    "                    store[\"location\"] = type_point([store[\"latitud\"], store[\"longitud\"]])\n",
    "                    store[\"city\"] = city\n",
    "                    store[\"category\"] = cat\n",
    "                    total.append(store)\n",
    "\n",
    "                #print(f\"{elemento} done\")\n",
    "            except:\n",
    "\n",
    "                print(f\"{value.index(elemento)} wrong\")\n",
    "\n",
    "    return total"
   ]
  },
  {
   "cell_type": "code",
   "execution_count": 14,
   "id": "d3e9eb0d",
   "metadata": {
    "scrolled": false
   },
   "outputs": [
    {
     "data": {
      "text/html": [
       "<div>\n",
       "<style scoped>\n",
       "    .dataframe tbody tr th:only-of-type {\n",
       "        vertical-align: middle;\n",
       "    }\n",
       "\n",
       "    .dataframe tbody tr th {\n",
       "        vertical-align: top;\n",
       "    }\n",
       "\n",
       "    .dataframe thead th {\n",
       "        text-align: right;\n",
       "    }\n",
       "</style>\n",
       "<table border=\"1\" class=\"dataframe\">\n",
       "  <thead>\n",
       "    <tr style=\"text-align: right;\">\n",
       "      <th></th>\n",
       "      <th>nombre</th>\n",
       "      <th>sub_category</th>\n",
       "      <th>latitud</th>\n",
       "      <th>longitud</th>\n",
       "      <th>distance</th>\n",
       "      <th>location</th>\n",
       "      <th>city</th>\n",
       "      <th>category</th>\n",
       "    </tr>\n",
       "  </thead>\n",
       "  <tbody>\n",
       "    <tr>\n",
       "      <th>339</th>\n",
       "      <td>Platform 3</td>\n",
       "      <td>Platform</td>\n",
       "      <td>54.968397</td>\n",
       "      <td>-1.617254</td>\n",
       "      <td>112</td>\n",
       "      <td>{'type': 'Point', 'coordinates': [54.968397091...</td>\n",
       "      <td>Newcastle</td>\n",
       "      <td>Train Station</td>\n",
       "    </tr>\n",
       "    <tr>\n",
       "      <th>320</th>\n",
       "      <td>Coolaboola</td>\n",
       "      <td>Coffee Shop</td>\n",
       "      <td>54.969361</td>\n",
       "      <td>-1.616743</td>\n",
       "      <td>32</td>\n",
       "      <td>{'type': 'Point', 'coordinates': [54.969360762...</td>\n",
       "      <td>Newcastle</td>\n",
       "      <td>Coffee Shop</td>\n",
       "    </tr>\n",
       "    <tr>\n",
       "      <th>244</th>\n",
       "      <td>Brooklyn Burger Bar</td>\n",
       "      <td>Burger Joint</td>\n",
       "      <td>53.548666</td>\n",
       "      <td>9.996710</td>\n",
       "      <td>1001</td>\n",
       "      <td>{'type': 'Point', 'coordinates': [53.548665687...</td>\n",
       "      <td>Hamburg</td>\n",
       "      <td>Nightlife Spot</td>\n",
       "    </tr>\n",
       "  </tbody>\n",
       "</table>\n",
       "</div>"
      ],
      "text/plain": [
       "                  nombre  sub_category    latitud  longitud  distance  \\\n",
       "339           Platform 3      Platform  54.968397 -1.617254       112   \n",
       "320           Coolaboola   Coffee Shop  54.969361 -1.616743        32   \n",
       "244  Brooklyn Burger Bar  Burger Joint  53.548666  9.996710      1001   \n",
       "\n",
       "                                              location       city  \\\n",
       "339  {'type': 'Point', 'coordinates': [54.968397091...  Newcastle   \n",
       "320  {'type': 'Point', 'coordinates': [54.969360762...  Newcastle   \n",
       "244  {'type': 'Point', 'coordinates': [53.548665687...    Hamburg   \n",
       "\n",
       "           category  \n",
       "339   Train Station  \n",
       "320     Coffee Shop  \n",
       "244  Nightlife Spot  "
      ]
     },
     "execution_count": 14,
     "metadata": {},
     "output_type": "execute_result"
    }
   ],
   "source": [
    "venues = extraetodo(total_venues)\n",
    "venues_df = pd.DataFrame(venues)\n",
    "venues_df.sample(3)"
   ]
  },
  {
   "cell_type": "markdown",
   "id": "10a7d9cc",
   "metadata": {},
   "source": [
    "#### limpieza del dataframe de foursquare"
   ]
  },
  {
   "cell_type": "code",
   "execution_count": 15,
   "id": "c0227db9",
   "metadata": {},
   "outputs": [
    {
     "data": {
      "text/plain": [
       "array(['Design Studio', 'Preschool', 'Elementary School', 'Tech Startup',\n",
       "       'Coffee Shop', 'Train Station', 'Nightlife Spot',\n",
       "       'Vegetarian / Vegan Restaurant', 'Veterinarian', 'Pet Service',\n",
       "       'Pet Store'], dtype=object)"
      ]
     },
     "execution_count": 15,
     "metadata": {},
     "output_type": "execute_result"
    }
   ],
   "source": [
    "venues_df.category.unique()"
   ]
  },
  {
   "cell_type": "code",
   "execution_count": 16,
   "id": "bfecee91",
   "metadata": {},
   "outputs": [],
   "source": [
    "venues_df.category = venues_df.category.str.replace(r\"(.*[Ss](chool|CHOOL).*)\",\"School\",regex=True)\n",
    "venues_df.category = venues_df.category.str.replace(r\"(.*[Pp](et|ET)\\s.*|.*[Vv](eterinarian|ETERINARIAN).*)\",\"Dobby\",regex=True)#"
   ]
  },
  {
   "cell_type": "code",
   "execution_count": 17,
   "id": "221e7cad",
   "metadata": {},
   "outputs": [],
   "source": [
    "#ponderamos las categorías según hemos elegido  \n",
    "ponder = {\"Basketball Stadium\":0.13,\"Coffee Shop\":0.07,\"Design Studio\":0.06,\n",
    "          \"Dobby\":0.20,\"Nightlife Spot\":0.9,\"School\":0.15,\n",
    "         \"Tech Startup\":0.04,\"Train Station\":0.08,\"Vegetarian / Vegan Restaurant\":0.18}"
   ]
  },
  {
   "cell_type": "code",
   "execution_count": 18,
   "id": "5d70405d",
   "metadata": {},
   "outputs": [],
   "source": [
    "venues_df['ponder']= venues_df['category'].map(ponder)"
   ]
  },
  {
   "cell_type": "code",
   "execution_count": 19,
   "id": "eb67a200",
   "metadata": {},
   "outputs": [],
   "source": [
    "#borrar todos los cafés que no sean starbucks\n",
    "no_starbucks = list(venues_df.index[(venues_df[\"category\"] == \"Coffee Shop\") & (venues_df[\"nombre\"] != \"Starbucks\")])\n",
    "venues_df.drop(no_starbucks,axis=0, inplace = True)"
   ]
  },
  {
   "cell_type": "code",
   "execution_count": 20,
   "id": "ac336975",
   "metadata": {
    "scrolled": false
   },
   "outputs": [],
   "source": [
    "venues_df.reset_index(drop = True,inplace = True)"
   ]
  },
  {
   "cell_type": "code",
   "execution_count": 21,
   "id": "bcbc85be",
   "metadata": {},
   "outputs": [],
   "source": [
    "venues_df.to_csv(\"../data/venues_df.csv\",index = False) #me guardo el dataframe"
   ]
  },
  {
   "cell_type": "markdown",
   "id": "81775855",
   "metadata": {},
   "source": [
    "## Geoquery "
   ]
  },
  {
   "cell_type": "code",
   "execution_count": 22,
   "id": "82e1ee1d",
   "metadata": {},
   "outputs": [
    {
     "data": {
      "text/html": [
       "<div>\n",
       "<style scoped>\n",
       "    .dataframe tbody tr th:only-of-type {\n",
       "        vertical-align: middle;\n",
       "    }\n",
       "\n",
       "    .dataframe tbody tr th {\n",
       "        vertical-align: top;\n",
       "    }\n",
       "\n",
       "    .dataframe thead th {\n",
       "        text-align: right;\n",
       "    }\n",
       "</style>\n",
       "<table border=\"1\" class=\"dataframe\">\n",
       "  <thead>\n",
       "    <tr style=\"text-align: right;\">\n",
       "      <th></th>\n",
       "      <th>nombre</th>\n",
       "      <th>sub_category</th>\n",
       "      <th>latitud</th>\n",
       "      <th>longitud</th>\n",
       "      <th>distance</th>\n",
       "      <th>city</th>\n",
       "      <th>category</th>\n",
       "      <th>ponder</th>\n",
       "      <th>geometry</th>\n",
       "    </tr>\n",
       "  </thead>\n",
       "  <tbody>\n",
       "    <tr>\n",
       "      <th>0</th>\n",
       "      <td>Urbanspace Interiors</td>\n",
       "      <td>Design Studio</td>\n",
       "      <td>30.269045</td>\n",
       "      <td>-97.751530</td>\n",
       "      <td>455</td>\n",
       "      <td>Austin</td>\n",
       "      <td>Design Studio</td>\n",
       "      <td>0.06</td>\n",
       "      <td>POINT (-97.75153 30.26905)</td>\n",
       "    </tr>\n",
       "    <tr>\n",
       "      <th>1</th>\n",
       "      <td>Jonathan Adler</td>\n",
       "      <td>Design Studio</td>\n",
       "      <td>30.270651</td>\n",
       "      <td>-97.755635</td>\n",
       "      <td>68</td>\n",
       "      <td>Austin</td>\n",
       "      <td>Design Studio</td>\n",
       "      <td>0.06</td>\n",
       "      <td>POINT (-97.75563 30.27065)</td>\n",
       "    </tr>\n",
       "  </tbody>\n",
       "</table>\n",
       "</div>"
      ],
      "text/plain": [
       "                 nombre   sub_category    latitud   longitud  distance  \\\n",
       "0  Urbanspace Interiors  Design Studio  30.269045 -97.751530       455   \n",
       "1        Jonathan Adler  Design Studio  30.270651 -97.755635        68   \n",
       "\n",
       "     city       category  ponder                    geometry  \n",
       "0  Austin  Design Studio    0.06  POINT (-97.75153 30.26905)  \n",
       "1  Austin  Design Studio    0.06  POINT (-97.75563 30.27065)  "
      ]
     },
     "execution_count": 22,
     "metadata": {},
     "output_type": "execute_result"
    }
   ],
   "source": [
    "#geodataframe\n",
    "geo_venues = gpd.GeoDataFrame(venues_df, geometry=gpd.points_from_xy(venues_df.longitud,venues_df.latitud))\n",
    "geo_venues.drop(\"location\", axis=1, inplace = True)\n",
    "geo_venues.head(2)"
   ]
  },
  {
   "cell_type": "code",
   "execution_count": 23,
   "id": "9c5326f9",
   "metadata": {},
   "outputs": [],
   "source": [
    "geo_venues.to_csv(\"../data/geo_venus.csv\",index=False) #me lo guardo por si acaso "
   ]
  },
  {
   "cell_type": "code",
   "execution_count": 24,
   "id": "548cf763",
   "metadata": {},
   "outputs": [
    {
     "name": "stderr",
     "output_type": "stream",
     "text": [
      "/home/sinatxe/anaconda3/envs/ironhack/lib/python3.8/site-packages/geopandas/geodataframe.py:1350: UserWarning: Geometry column does not contain geometry.\n",
      "  warnings.warn(\"Geometry column does not contain geometry.\")\n"
     ]
    },
    {
     "data": {
      "text/plain": [
       "<pymongo.results.InsertManyResult at 0x7fbfc038efc0>"
      ]
     },
     "execution_count": 24,
     "metadata": {},
     "output_type": "execute_result"
    }
   ],
   "source": [
    "#insertamos en mongo\n",
    "geo_venues['geometry']=geo_venues['geometry'].apply(lambda x:shapely.geometry.mapping(x))\n",
    "geo_venus_dic = geo_venues.to_dict(orient=\"records\")\n",
    "geospatial.create_index([(\"geometry\", GEOSPHERE)])\n",
    "geospatial.insert_many(geo_venus_dic)"
   ]
  },
  {
   "cell_type": "code",
   "execution_count": 25,
   "id": "6249a7a0",
   "metadata": {},
   "outputs": [],
   "source": [
    "#coordenadas por ciudad\n",
    "aus_coor = [-97.75551842126049,30.27125853189173] #longitud / latitud\n",
    "Ham_coor = [10.002900693677232, 53.55687309076416]\n",
    "Ncas_coor =  [-1.6162802662146134 ,54.96923892979405]"
   ]
  },
  {
   "cell_type": "code",
   "execution_count": 26,
   "id": "497c16fb",
   "metadata": {},
   "outputs": [],
   "source": [
    "def geonear(coor,dbcoll):\n",
    "    \"\"\"\n",
    "    recobe unas coordenadas y el nombre de una colección de mongodb\n",
    "    devuelve una geoquery con la distancia a las coordenadas de cada \"venue\" de la colección\n",
    "    \"\"\"\n",
    "    near = [{\"$geoNear\": {\n",
    "            \"near\": [coor[0],coor[1]],\n",
    "            \"distanceField\": \"far\",\n",
    "            \"$maxDistance\": 1000, \n",
    "            \"distanceMultiplier\" :6371, \n",
    "            \"spherical\": True}}]\n",
    "    return dbcoll.aggregate(near)"
   ]
  },
  {
   "cell_type": "code",
   "execution_count": 27,
   "id": "d9f58543",
   "metadata": {},
   "outputs": [],
   "source": [
    "austin_near= geonear(aus_coor,geospatial)\n",
    "hamburg_near= geonear(Ham_coor,geospatial)\n",
    "newcastle_near= geonear(Ncas_coor,geospatial)"
   ]
  },
  {
   "cell_type": "code",
   "execution_count": 28,
   "id": "a24fa623",
   "metadata": {},
   "outputs": [],
   "source": [
    "#creamos dataframes con el resultado de las geoquerys y agrupamos en uno solo para comparar ciudades\n",
    "aus_list = list(austin_near)\n",
    "aus_df = pd.DataFrame(aus_list)\n",
    "aus_df = aus_df[aus_df[\"city\"] == \"Austin\"]\n",
    "ham_list = list(hamburg_near)\n",
    "ham_df = pd.DataFrame(ham_list)\n",
    "ham_df = ham_df[ham_df[\"city\"] == \"Hamburg\"]\n",
    "new_list = list(newcastle_near)\n",
    "new_df = pd.DataFrame(new_list)\n",
    "new_df = new_df[new_df[\"city\"] == \"Newcastle\"]"
   ]
  },
  {
   "cell_type": "code",
   "execution_count": 29,
   "id": "8045d8ba",
   "metadata": {},
   "outputs": [],
   "source": [
    "far = pd.concat([aus_df, ham_df,new_df])\n",
    "distance = far[[\"nombre\",\"latitud\",\"longitud\",\"city\",\"category\",\"ponder\",\"far\"]]"
   ]
  },
  {
   "cell_type": "code",
   "execution_count": 30,
   "id": "fa818539",
   "metadata": {},
   "outputs": [
    {
     "name": "stderr",
     "output_type": "stream",
     "text": [
      "<ipython-input-30-3e8915019713>:1: SettingWithCopyWarning: \n",
      "A value is trying to be set on a copy of a slice from a DataFrame.\n",
      "Try using .loc[row_indexer,col_indexer] = value instead\n",
      "\n",
      "See the caveats in the documentation: https://pandas.pydata.org/pandas-docs/stable/user_guide/indexing.html#returning-a-view-versus-a-copy\n",
      "  distance[\"metros\"] = round(distance[\"far\"]*1000,2)\n"
     ]
    }
   ],
   "source": [
    "distance[\"metros\"] = round(distance[\"far\"]*1000,2)"
   ]
  },
  {
   "cell_type": "code",
   "execution_count": 31,
   "id": "02a87814",
   "metadata": {
    "scrolled": true
   },
   "outputs": [
    {
     "data": {
      "text/html": [
       "<div>\n",
       "<style scoped>\n",
       "    .dataframe tbody tr th:only-of-type {\n",
       "        vertical-align: middle;\n",
       "    }\n",
       "\n",
       "    .dataframe tbody tr th {\n",
       "        vertical-align: top;\n",
       "    }\n",
       "\n",
       "    .dataframe thead th {\n",
       "        text-align: right;\n",
       "    }\n",
       "</style>\n",
       "<table border=\"1\" class=\"dataframe\">\n",
       "  <thead>\n",
       "    <tr style=\"text-align: right;\">\n",
       "      <th></th>\n",
       "      <th>nombre</th>\n",
       "      <th>latitud</th>\n",
       "      <th>longitud</th>\n",
       "      <th>city</th>\n",
       "      <th>category</th>\n",
       "      <th>ponder</th>\n",
       "      <th>far</th>\n",
       "      <th>metros</th>\n",
       "    </tr>\n",
       "  </thead>\n",
       "  <tbody>\n",
       "    <tr>\n",
       "      <th>91</th>\n",
       "      <td>Paymetric</td>\n",
       "      <td>30.264665</td>\n",
       "      <td>-97.747896</td>\n",
       "      <td>Austin</td>\n",
       "      <td>Tech Startup</td>\n",
       "      <td>0.04</td>\n",
       "      <td>1.036037</td>\n",
       "      <td>1036.04</td>\n",
       "    </tr>\n",
       "    <tr>\n",
       "      <th>3</th>\n",
       "      <td>HirschTEC</td>\n",
       "      <td>53.556207</td>\n",
       "      <td>10.006941</td>\n",
       "      <td>Hamburg</td>\n",
       "      <td>Design Studio</td>\n",
       "      <td>0.06</td>\n",
       "      <td>0.276962</td>\n",
       "      <td>276.96</td>\n",
       "    </tr>\n",
       "  </tbody>\n",
       "</table>\n",
       "</div>"
      ],
      "text/plain": [
       "       nombre    latitud   longitud     city       category  ponder       far  \\\n",
       "91  Paymetric  30.264665 -97.747896   Austin   Tech Startup    0.04  1.036037   \n",
       "3   HirschTEC  53.556207  10.006941  Hamburg  Design Studio    0.06  0.276962   \n",
       "\n",
       "     metros  \n",
       "91  1036.04  \n",
       "3    276.96  "
      ]
     },
     "execution_count": 31,
     "metadata": {},
     "output_type": "execute_result"
    }
   ],
   "source": [
    "distance.sample(2)"
   ]
  },
  {
   "cell_type": "code",
   "execution_count": 32,
   "id": "bde60e04",
   "metadata": {},
   "outputs": [],
   "source": [
    "media_cat = distance.groupby([\"city\",\"category\",\"ponder\"]).agg({\"metros\":\"mean\"}).reset_index()\n",
    "media_cat.metros = round(media_cat.metros,2)"
   ]
  },
  {
   "cell_type": "code",
   "execution_count": 33,
   "id": "41fcaa6b",
   "metadata": {},
   "outputs": [],
   "source": [
    "def normalizacion(df,col):\n",
    "    \"\"\"\n",
    "    recibe un dataframe y una columa del mismo\n",
    "    normaliza los datos de esa columna\n",
    "    \"\"\"\n",
    "    norm = []\n",
    "    for i,row in df.iterrows():\n",
    "        mini = df[col].min()\n",
    "        maxi = df[col].max()\n",
    "        norm.append((row[col]- mini)/(maxi-mini))\n",
    "    return norm\n"
   ]
  },
  {
   "cell_type": "code",
   "execution_count": 34,
   "id": "afdbb588",
   "metadata": {},
   "outputs": [],
   "source": [
    "media_cat[\"norm\"] = normalizacion(media_cat,\"metros\")"
   ]
  },
  {
   "cell_type": "code",
   "execution_count": 35,
   "id": "69112e7e",
   "metadata": {},
   "outputs": [
    {
     "data": {
      "text/html": [
       "<div>\n",
       "<style scoped>\n",
       "    .dataframe tbody tr th:only-of-type {\n",
       "        vertical-align: middle;\n",
       "    }\n",
       "\n",
       "    .dataframe tbody tr th {\n",
       "        vertical-align: top;\n",
       "    }\n",
       "\n",
       "    .dataframe thead th {\n",
       "        text-align: right;\n",
       "    }\n",
       "</style>\n",
       "<table border=\"1\" class=\"dataframe\">\n",
       "  <thead>\n",
       "    <tr style=\"text-align: right;\">\n",
       "      <th></th>\n",
       "      <th>city</th>\n",
       "      <th>category</th>\n",
       "      <th>ponder</th>\n",
       "      <th>metros</th>\n",
       "      <th>norm</th>\n",
       "      <th>punt</th>\n",
       "    </tr>\n",
       "  </thead>\n",
       "  <tbody>\n",
       "    <tr>\n",
       "      <th>9</th>\n",
       "      <td>Hamburg</td>\n",
       "      <td>Design Studio</td>\n",
       "      <td>0.06</td>\n",
       "      <td>772.42</td>\n",
       "      <td>0.924143</td>\n",
       "      <td>7.14</td>\n",
       "    </tr>\n",
       "    <tr>\n",
       "      <th>3</th>\n",
       "      <td>Austin</td>\n",
       "      <td>Nightlife Spot</td>\n",
       "      <td>0.90</td>\n",
       "      <td>671.86</td>\n",
       "      <td>0.753221</td>\n",
       "      <td>5.06</td>\n",
       "    </tr>\n",
       "    <tr>\n",
       "      <th>20</th>\n",
       "      <td>Newcastle</td>\n",
       "      <td>Train Station</td>\n",
       "      <td>0.08</td>\n",
       "      <td>372.73</td>\n",
       "      <td>0.244790</td>\n",
       "      <td>0.91</td>\n",
       "    </tr>\n",
       "  </tbody>\n",
       "</table>\n",
       "</div>"
      ],
      "text/plain": [
       "         city        category  ponder  metros      norm  punt\n",
       "9     Hamburg   Design Studio    0.06  772.42  0.924143  7.14\n",
       "3      Austin  Nightlife Spot    0.90  671.86  0.753221  5.06\n",
       "20  Newcastle   Train Station    0.08  372.73  0.244790  0.91"
      ]
     },
     "execution_count": 35,
     "metadata": {},
     "output_type": "execute_result"
    }
   ],
   "source": [
    "media_cat['punt'] = round((media_cat.metros * media_cat.norm )/100,2)\n",
    "media_cat.sample(3)"
   ]
  },
  {
   "cell_type": "code",
   "execution_count": 36,
   "id": "b68b27a1",
   "metadata": {},
   "outputs": [],
   "source": [
    "cities_punt = media_cat.groupby(\"city\").agg({\"punt\":\"sum\"}).reset_index()"
   ]
  },
  {
   "cell_type": "markdown",
   "id": "fca62198",
   "metadata": {},
   "source": [
    "## la ciudad con menos puntos es la que mejor cumple las necesiades de nuestra empresa"
   ]
  },
  {
   "cell_type": "code",
   "execution_count": 37,
   "id": "dd25411f",
   "metadata": {},
   "outputs": [
    {
     "data": {
      "text/html": [
       "<div>\n",
       "<style scoped>\n",
       "    .dataframe tbody tr th:only-of-type {\n",
       "        vertical-align: middle;\n",
       "    }\n",
       "\n",
       "    .dataframe tbody tr th {\n",
       "        vertical-align: top;\n",
       "    }\n",
       "\n",
       "    .dataframe thead th {\n",
       "        text-align: right;\n",
       "    }\n",
       "</style>\n",
       "<table border=\"1\" class=\"dataframe\">\n",
       "  <thead>\n",
       "    <tr style=\"text-align: right;\">\n",
       "      <th></th>\n",
       "      <th>city</th>\n",
       "      <th>punt</th>\n",
       "    </tr>\n",
       "  </thead>\n",
       "  <tbody>\n",
       "    <tr>\n",
       "      <th>0</th>\n",
       "      <td>Austin</td>\n",
       "      <td>38.42</td>\n",
       "    </tr>\n",
       "    <tr>\n",
       "      <th>1</th>\n",
       "      <td>Hamburg</td>\n",
       "      <td>44.47</td>\n",
       "    </tr>\n",
       "    <tr>\n",
       "      <th>2</th>\n",
       "      <td>Newcastle</td>\n",
       "      <td>12.54</td>\n",
       "    </tr>\n",
       "  </tbody>\n",
       "</table>\n",
       "</div>"
      ],
      "text/plain": [
       "        city   punt\n",
       "0     Austin  38.42\n",
       "1    Hamburg  44.47\n",
       "2  Newcastle  12.54"
      ]
     },
     "execution_count": 37,
     "metadata": {},
     "output_type": "execute_result"
    }
   ],
   "source": [
    "cities_punt"
   ]
  },
  {
   "cell_type": "code",
   "execution_count": 38,
   "id": "dd0633ac",
   "metadata": {},
   "outputs": [
    {
     "data": {
      "text/html": [
       "<div>\n",
       "<style scoped>\n",
       "    .dataframe tbody tr th:only-of-type {\n",
       "        vertical-align: middle;\n",
       "    }\n",
       "\n",
       "    .dataframe tbody tr th {\n",
       "        vertical-align: top;\n",
       "    }\n",
       "\n",
       "    .dataframe thead th {\n",
       "        text-align: right;\n",
       "    }\n",
       "</style>\n",
       "<table border=\"1\" class=\"dataframe\">\n",
       "  <thead>\n",
       "    <tr style=\"text-align: right;\">\n",
       "      <th></th>\n",
       "      <th>city</th>\n",
       "      <th>punt</th>\n",
       "    </tr>\n",
       "  </thead>\n",
       "  <tbody>\n",
       "    <tr>\n",
       "      <th>2</th>\n",
       "      <td>Newcastle</td>\n",
       "      <td>12.54</td>\n",
       "    </tr>\n",
       "  </tbody>\n",
       "</table>\n",
       "</div>"
      ],
      "text/plain": [
       "        city   punt\n",
       "2  Newcastle  12.54"
      ]
     },
     "execution_count": 38,
     "metadata": {},
     "output_type": "execute_result"
    }
   ],
   "source": [
    "best_city = cities_punt.sort_values(\"punt\").head(1)\n",
    "best_city"
   ]
  }
 ],
 "metadata": {
  "kernelspec": {
   "display_name": "ironhack",
   "language": "python",
   "name": "ironhack"
  },
  "language_info": {
   "codemirror_mode": {
    "name": "ipython",
    "version": 3
   },
   "file_extension": ".py",
   "mimetype": "text/x-python",
   "name": "python",
   "nbconvert_exporter": "python",
   "pygments_lexer": "ipython3",
   "version": "3.8.5"
  }
 },
 "nbformat": 4,
 "nbformat_minor": 5
}
